{
  "cells": [
    {
      "cell_type": "markdown",
      "source": [
        "# Machine Learning: Online News Popularity"
      ],
      "metadata": {
        "tags": [],
        "cell_id": "92ae46da4ca44b4d92fd701d27cc7214",
        "is_collapsed": false,
        "formattedRanges": [],
        "deepnote_cell_type": "text-cell-h1",
        "id": "SECT9GpoukH_"
      }
    },
    {
      "cell_type": "code",
      "source": [
        "import seaborn as sns\n",
        "from copy import copy\n",
        "import pandas as pd\n",
        "import numpy as np\n",
        "from sklearn import preprocessing\n",
        "from sklearn.model_selection import train_test_split, cross_validate, cross_val_score, RepeatedStratifiedKFold\n",
        "import matplotlib.pyplot as plt\n",
        "import seaborn as sns\n",
        "from sklearn.decomposition import PCA\n",
        "from sklearn.cluster import KMeans\n",
        "from sklearn.linear_model import LogisticRegression\n",
        "from sklearn.svm import SVC\n",
        "from sklearn.metrics import classification_report, recall_score, precision_score, accuracy_score\n",
        "from sklearn.neighbors import KNeighborsClassifier\n",
        "from sklearn.tree import DecisionTreeClassifier\n",
        "from collections import Counter\n",
        "!pip install imblearn\n",
        "import imblearn\n",
        "from imblearn.over_sampling import SMOTE\n",
        "from numpy import mean\n",
        "from sklearn.datasets import make_classification\n",
        "from sklearn.tree import DecisionTreeClassifier\n",
        "from imblearn.pipeline import Pipeline\n",
        "from imblearn.under_sampling import RandomUnderSampler\n",
        "from imblearn.pipeline import make_pipeline as make_imb_pipeline\n",
        "from sklearn.impute import SimpleImputer\n"
      ],
      "metadata": {
        "tags": [],
        "cell_id": "ff93782aca6f470585131b6132967306",
        "source_hash": "d8ce86e0",
        "execution_start": 1671224980999,
        "execution_millis": 14037,
        "deepnote_to_be_reexecuted": false,
        "deepnote_cell_type": "code",
        "colab": {
          "base_uri": "https://localhost:8080/"
        },
        "id": "7_nx0zPAukIc",
        "outputId": "c48bc8ca-2bab-4644-858c-33e2bfb6012c"
      },
      "outputs": [
        {
          "output_type": "stream",
          "name": "stdout",
          "text": [
            "Looking in indexes: https://pypi.org/simple, https://us-python.pkg.dev/colab-wheels/public/simple/\n",
            "Requirement already satisfied: imblearn in /usr/local/lib/python3.8/dist-packages (0.0)\n",
            "Requirement already satisfied: imbalanced-learn in /usr/local/lib/python3.8/dist-packages (from imblearn) (0.8.1)\n",
            "Requirement already satisfied: scipy>=0.19.1 in /usr/local/lib/python3.8/dist-packages (from imbalanced-learn->imblearn) (1.7.3)\n",
            "Requirement already satisfied: joblib>=0.11 in /usr/local/lib/python3.8/dist-packages (from imbalanced-learn->imblearn) (1.2.0)\n",
            "Requirement already satisfied: scikit-learn>=0.24 in /usr/local/lib/python3.8/dist-packages (from imbalanced-learn->imblearn) (1.0.2)\n",
            "Requirement already satisfied: numpy>=1.13.3 in /usr/local/lib/python3.8/dist-packages (from imbalanced-learn->imblearn) (1.21.6)\n",
            "Requirement already satisfied: threadpoolctl>=2.0.0 in /usr/local/lib/python3.8/dist-packages (from scikit-learn>=0.24->imbalanced-learn->imblearn) (3.1.0)\n"
          ]
        }
      ],
      "execution_count": null
    },
    {
      "cell_type": "markdown",
      "source": [
        "## Data Preprocessing"
      ],
      "metadata": {
        "tags": [],
        "cell_id": "cf117c14-a85d-44dc-a798-8fe44c76752e",
        "is_collapsed": false,
        "formattedRanges": [],
        "deepnote_cell_type": "text-cell-h2",
        "id": "iosrBYfqukIi"
      }
    },
    {
      "cell_type": "markdown",
      "source": [
        "### Exploratory Analysis "
      ],
      "metadata": {
        "tags": [],
        "cell_id": "503621ab084e4129acc754abd32348f5",
        "is_collapsed": false,
        "formattedRanges": [],
        "deepnote_cell_type": "text-cell-h3",
        "id": "X-gJP1ukukIj"
      }
    },
    {
      "cell_type": "code",
      "source": [
        "data=pd.read_csv(\"https://raw.githubusercontent.com/QBKFD/Article-data/main/OnlineNewsPopularity.csv\")"
      ],
      "metadata": {
        "tags": [],
        "cell_id": "caa95ac827cc4498826497ec88bce207",
        "source_hash": "553b8784",
        "execution_start": 1671224995047,
        "execution_millis": 1207,
        "deepnote_to_be_reexecuted": false,
        "deepnote_cell_type": "code",
        "id": "B0Z7ojo5ukIk",
        "colab": {
          "base_uri": "https://localhost:8080/",
          "height": 166
        },
        "outputId": "1beeed38-ac8d-48b8-c1d3-d5b7d96f05fb"
      },
      "outputs": [
        {
          "output_type": "error",
          "ename": "NameError",
          "evalue": "ignored",
          "traceback": [
            "\u001b[0;31m---------------------------------------------------------------------------\u001b[0m",
            "\u001b[0;31mNameError\u001b[0m                                 Traceback (most recent call last)",
            "\u001b[0;32m<ipython-input-1-de67ad178334>\u001b[0m in \u001b[0;36m<module>\u001b[0;34m\u001b[0m\n\u001b[0;32m----> 1\u001b[0;31m \u001b[0mdata\u001b[0m\u001b[0;34m=\u001b[0m\u001b[0mpd\u001b[0m\u001b[0;34m.\u001b[0m\u001b[0mread_csv\u001b[0m\u001b[0;34m(\u001b[0m\u001b[0;34m\"https://raw.githubusercontent.com/QBKFD/Article-data/main/OnlineNewsPopularity.csv\"\u001b[0m\u001b[0;34m)\u001b[0m\u001b[0;34m\u001b[0m\u001b[0;34m\u001b[0m\u001b[0m\n\u001b[0m",
            "\u001b[0;31mNameError\u001b[0m: name 'pd' is not defined"
          ]
        }
      ],
      "execution_count": null
    },
    {
      "cell_type": "code",
      "source": [
        "data.shape\n",
        "AD= data.copy()"
      ],
      "metadata": {
        "tags": [],
        "cell_id": "c72fc5776402442eab8c6c41532bc34a",
        "source_hash": "6f5e8935",
        "execution_start": 1671224996257,
        "execution_millis": 62,
        "deepnote_to_be_reexecuted": false,
        "deepnote_cell_type": "code",
        "id": "lTDTR4uqukIl"
      },
      "outputs": [],
      "execution_count": null
    },
    {
      "cell_type": "code",
      "source": [
        "data.info()"
      ],
      "metadata": {
        "tags": [],
        "cell_id": "b86ad2124ffa49f49721a28a8a261252",
        "source_hash": "957547ae",
        "execution_start": 1671224996329,
        "execution_millis": 98,
        "deepnote_to_be_reexecuted": false,
        "deepnote_cell_type": "code",
        "id": "UepvSeR4ukIm"
      },
      "outputs": [],
      "execution_count": null
    },
    {
      "cell_type": "code",
      "source": [
        "data.describe()"
      ],
      "metadata": {
        "tags": [],
        "cell_id": "d97dee308f6342c6870ce521c1f3d4bd",
        "source_hash": "d786443f",
        "execution_start": 1671224996433,
        "execution_millis": 1131,
        "deepnote_to_be_reexecuted": false,
        "deepnote_cell_type": "code",
        "id": "uHDT4wQsukIn"
      },
      "outputs": [],
      "execution_count": null
    },
    {
      "cell_type": "code",
      "source": [
        "data.hist(figsize=(20,20))\n",
        "plt.show()"
      ],
      "metadata": {
        "tags": [],
        "cell_id": "4101e1e4b65c4d8a893a5446de2c119e",
        "source_hash": "2c14d947",
        "execution_start": 1671224997570,
        "execution_millis": 21923,
        "deepnote_to_be_reexecuted": false,
        "deepnote_cell_type": "code",
        "id": "6-XsvIpgukI2"
      },
      "outputs": [],
      "execution_count": null
    },
    {
      "cell_type": "code",
      "source": [
        "ff = data[' shares'].transform([np.log10])\n",
        "ff.replace([np.inf, -np.inf], np.nan, inplace=True)\n",
        "ff.dropna()\n",
        "ff.plot.hist()"
      ],
      "metadata": {
        "tags": [],
        "cell_id": "6e7636f291e1424a8cbd1674f6883888",
        "source_hash": "35d6c94",
        "execution_start": 1671225019521,
        "execution_millis": 650,
        "deepnote_to_be_reexecuted": false,
        "deepnote_cell_type": "code",
        "id": "EnnWL8wQukI9"
      },
      "outputs": [],
      "execution_count": null
    },
    {
      "cell_type": "code",
      "source": [
        "cor=data.corr()\n",
        "plt.figure(figsize=(15,15))\n",
        "data_lt = cor.where(np.tril(np.ones(cor.shape)).astype(np.bool))\n",
        "sns.heatmap(data_lt,cmap='Blues')"
      ],
      "metadata": {
        "tags": [],
        "cell_id": "e84169274c7144d2be83009cd38f27e5",
        "source_hash": "4fa9e061",
        "execution_start": 1671225020178,
        "execution_millis": 6854,
        "deepnote_to_be_reexecuted": false,
        "deepnote_cell_type": "code",
        "id": "I33FM2X9ukI-"
      },
      "outputs": [],
      "execution_count": null
    },
    {
      "cell_type": "markdown",
      "source": [
        "### Removing Noise "
      ],
      "metadata": {
        "tags": [],
        "cell_id": "44a2bfe1df284374beeb869cd718d4d0",
        "is_collapsed": false,
        "formattedRanges": [],
        "deepnote_cell_type": "text-cell-h3",
        "id": "DSZKVIbmukJA"
      }
    },
    {
      "cell_type": "code",
      "source": [
        "#Identifying all variables with missing values \n",
        "n=data.isna().sum()\n",
        "n[n>0]"
      ],
      "metadata": {
        "tags": [],
        "cell_id": "26ac6ed6af3a450397c3a11a4d80a5c8",
        "source_hash": "403218c5",
        "execution_start": 1671225027043,
        "execution_millis": 24,
        "deepnote_to_be_reexecuted": false,
        "deepnote_cell_type": "code",
        "id": "BF9hLrvnukJB"
      },
      "outputs": [],
      "execution_count": null
    },
    {
      "cell_type": "markdown",
      "source": [
        "No missing values."
      ],
      "metadata": {
        "tags": [],
        "cell_id": "08175fbdf7974fecb02c22d7ac66770a",
        "is_collapsed": false,
        "formattedRanges": [
          {
            "type": "marks",
            "marks": {
              "bold": true
            },
            "toCodePoint": 18,
            "fromCodePoint": 0
          }
        ],
        "deepnote_cell_type": "text-cell-p",
        "id": "G2HXoVT3ukJG"
      }
    },
    {
      "cell_type": "code",
      "source": [
        "data.columns=data.columns.str.replace(\" \",\"\")"
      ],
      "metadata": {
        "tags": [],
        "cell_id": "99fffd43c64741cf9ca30ba25cd1f06c",
        "source_hash": "52c77b57",
        "execution_start": 1671225027126,
        "execution_millis": 1,
        "deepnote_to_be_reexecuted": false,
        "deepnote_cell_type": "code",
        "id": "BHHJMajlukJH"
      },
      "outputs": [],
      "execution_count": null
    },
    {
      "cell_type": "code",
      "source": [
        "#The number of words in the content is represented by n_tokens_content\n",
        "#Since its minimum value is 0 there are articles with no words that have to be removed\n",
        "num_of_nowords=data[data['n_tokens_content']==0].index\n",
        "print('Number news articles with no words',num_of_nowords.size)\n",
        "\n",
        "#Remove news articles without content\n",
        "data = data[data['n_tokens_content'] != 0]"
      ],
      "metadata": {
        "tags": [],
        "cell_id": "568e59cba3b4428a95cdf473b7b834b1",
        "source_hash": "a567bea2",
        "execution_start": 1671225027127,
        "execution_millis": 45,
        "deepnote_to_be_reexecuted": false,
        "deepnote_cell_type": "code",
        "id": "kolAu8XGukJO"
      },
      "outputs": [],
      "execution_count": null
    },
    {
      "cell_type": "code",
      "source": [
        "#Remove non predictive features\n",
        "data = data.drop('url',axis=1)\n",
        "data = data.drop('timedelta',axis=1)\n",
        "data = data.drop([\"n_non_stop_unique_tokens\",\"n_non_stop_words\",\"kw_avg_min\"],axis=1)"
      ],
      "metadata": {
        "tags": [],
        "cell_id": "46251fbb29f74e5088279a8dfa41dba4",
        "source_hash": "7a5173e3",
        "execution_start": 1671225027171,
        "execution_millis": 48,
        "deepnote_to_be_reexecuted": false,
        "deepnote_cell_type": "code",
        "id": "8k4aR5bwukJR"
      },
      "outputs": [],
      "execution_count": null
    },
    {
      "cell_type": "code",
      "source": [
        "data.info()"
      ],
      "metadata": {
        "tags": [],
        "cell_id": "9684e82c21b64389a6a3430308c1d5bf",
        "source_hash": "957547ae",
        "execution_start": 1671225027223,
        "execution_millis": 93,
        "deepnote_to_be_reexecuted": false,
        "deepnote_cell_type": "code",
        "id": "BV1627naukJS"
      },
      "outputs": [],
      "execution_count": null
    },
    {
      "cell_type": "markdown",
      "source": [
        "## Target Classification label"
      ],
      "metadata": {
        "tags": [],
        "cell_id": "228ce7a82fa54b2caa74a5eb0d820b93",
        "is_collapsed": false,
        "formattedRanges": [],
        "deepnote_cell_type": "text-cell-h2",
        "id": "Dd2ug2bjukJU"
      }
    },
    {
      "cell_type": "code",
      "source": [
        "#Understanding target variable distribution\n",
        "data['shares'].describe()"
      ],
      "metadata": {
        "tags": [],
        "cell_id": "cb9a26aeaae24e36a30b905a4c9f10c6",
        "source_hash": "d82ce3a1",
        "execution_start": 1671225027315,
        "execution_millis": 2,
        "deepnote_to_be_reexecuted": false,
        "deepnote_cell_type": "code",
        "colab": {
          "base_uri": "https://localhost:8080/"
        },
        "id": "In3vxelKukJU",
        "outputId": "8f02e4ad-e3c8-48af-b57e-b61c4125c46d"
      },
      "outputs": [
        {
          "output_type": "execute_result",
          "data": {
            "text/plain": [
              "count     38463.000000\n",
              "mean       3355.360398\n",
              "std       11585.968776\n",
              "min           1.000000\n",
              "25%         945.000000\n",
              "50%        1400.000000\n",
              "75%        2700.000000\n",
              "max      843300.000000\n",
              "Name: shares, dtype: float64"
            ]
          },
          "metadata": {},
          "execution_count": 23
        }
      ],
      "execution_count": null
    },
    {
      "cell_type": "code",
      "source": [
        "data['shares'].median()"
      ],
      "metadata": {
        "tags": [],
        "cell_id": "dbbd4532a8a74d0695ababf58fcdaa3b",
        "source_hash": "177cd47",
        "execution_start": 1671225027359,
        "execution_millis": 2,
        "deepnote_to_be_reexecuted": false,
        "deepnote_cell_type": "code",
        "colab": {
          "base_uri": "https://localhost:8080/"
        },
        "id": "cJJyqBfzukJU",
        "outputId": "ce1ba204-8cf1-42a0-a4b9-c7a2b37e454e"
      },
      "outputs": [
        {
          "output_type": "execute_result",
          "data": {
            "text/plain": [
              "1400.0"
            ]
          },
          "metadata": {},
          "execution_count": 24
        }
      ],
      "execution_count": null
    },
    {
      "cell_type": "markdown",
      "source": [
        "Outliers affect the mean value of the data but have little effect on the median of a given set of data, therefore we choose the median for the popularity threshold "
      ],
      "metadata": {
        "tags": [],
        "cell_id": "d806d4fab5c84dfc8a2a0d8f37efcaac",
        "is_collapsed": false,
        "formattedRanges": [],
        "deepnote_cell_type": "text-cell-p",
        "id": "SSpwLkJoukJV"
      }
    },
    {
      "cell_type": "code",
      "source": [
        "#target label\n",
        "target_variable = list()\n",
        "for share in data['shares']:\n",
        "    if share > 1400:\n",
        "        target_variable.append('Popular')\n",
        "    elif share <= 1400:\n",
        "        target_variable.append('Unpopular')\n",
        "\n",
        "# Update target label into the dataframe\n",
        "data = pd.concat([data.reset_index(drop=True), pd.DataFrame(target_variable, columns=['popularity'])], axis=1)"
      ],
      "metadata": {
        "tags": [],
        "cell_id": "b6b05904acf34082936ebfef4f8796ef",
        "source_hash": "5e261144",
        "execution_start": 1671225027360,
        "execution_millis": 58,
        "deepnote_to_be_reexecuted": false,
        "deepnote_cell_type": "code",
        "id": "gUcj0jaaukJV"
      },
      "outputs": [],
      "execution_count": null
    },
    {
      "cell_type": "code",
      "source": [
        "count = Counter(data['popularity'])\n"
      ],
      "metadata": {
        "tags": [],
        "cell_id": "6c2d4fcc25bc4f0eb290441c04f32890",
        "source_hash": "99b4896c",
        "execution_start": 1671225027440,
        "execution_millis": 6,
        "deepnote_to_be_reexecuted": false,
        "deepnote_cell_type": "code",
        "id": "gPInQy4KukJd"
      },
      "outputs": [],
      "execution_count": null
    },
    {
      "cell_type": "markdown",
      "source": [
        "Examination of the effect of the independent variables on the target dependent variable "
      ],
      "metadata": {
        "tags": [],
        "cell_id": "b84253c523a14a93b134cd184078105e",
        "is_collapsed": false,
        "formattedRanges": [
          {
            "type": "marks",
            "marks": {
              "bold": true
            },
            "toCodePoint": 88,
            "fromCodePoint": 0
          }
        ],
        "deepnote_cell_type": "text-cell-p",
        "id": "hX_Y42g3ukJe"
      }
    },
    {
      "cell_type": "code",
      "source": [
        "# Get the features from dataset\n",
        "features = data.head()\n",
        "features"
      ],
      "metadata": {
        "tags": [],
        "cell_id": "f10b5a1ed0d44faca83bde9355111299",
        "source_hash": "70c1e87f",
        "execution_start": 1671225027449,
        "execution_millis": 453,
        "deepnote_to_be_reexecuted": false,
        "deepnote_cell_type": "code",
        "colab": {
          "base_uri": "https://localhost:8080/",
          "height": 300
        },
        "id": "Tz4gfl0eukJf",
        "outputId": "3205dc1b-1f32-4a8e-ae5d-38b51cac26c9"
      },
      "outputs": [
        {
          "output_type": "execute_result",
          "data": {
            "text/plain": [
              "   n_tokens_title  n_tokens_content  n_unique_tokens  num_hrefs  \\\n",
              "0            12.0             219.0         0.663594        4.0   \n",
              "1             9.0             255.0         0.604743        3.0   \n",
              "2             9.0             211.0         0.575130        3.0   \n",
              "3             9.0             531.0         0.503788        9.0   \n",
              "4            13.0            1072.0         0.415646       19.0   \n",
              "\n",
              "   num_self_hrefs  num_imgs  num_videos  average_token_length  num_keywords  \\\n",
              "0             2.0       1.0         0.0              4.680365           5.0   \n",
              "1             1.0       1.0         0.0              4.913725           4.0   \n",
              "2             1.0       1.0         0.0              4.393365           6.0   \n",
              "3             0.0       1.0         0.0              4.404896           7.0   \n",
              "4            19.0      20.0         0.0              4.682836           7.0   \n",
              "\n",
              "   data_channel_is_lifestyle  ...  max_positive_polarity  \\\n",
              "0                        0.0  ...                    0.7   \n",
              "1                        0.0  ...                    0.7   \n",
              "2                        0.0  ...                    1.0   \n",
              "3                        0.0  ...                    0.8   \n",
              "4                        0.0  ...                    1.0   \n",
              "\n",
              "   avg_negative_polarity  min_negative_polarity  max_negative_polarity  \\\n",
              "0              -0.350000                 -0.600              -0.200000   \n",
              "1              -0.118750                 -0.125              -0.100000   \n",
              "2              -0.466667                 -0.800              -0.133333   \n",
              "3              -0.369697                 -0.600              -0.166667   \n",
              "4              -0.220192                 -0.500              -0.050000   \n",
              "\n",
              "   title_subjectivity  title_sentiment_polarity  abs_title_subjectivity  \\\n",
              "0            0.500000                 -0.187500                0.000000   \n",
              "1            0.000000                  0.000000                0.500000   \n",
              "2            0.000000                  0.000000                0.500000   \n",
              "3            0.000000                  0.000000                0.500000   \n",
              "4            0.454545                  0.136364                0.045455   \n",
              "\n",
              "   abs_title_sentiment_polarity  shares  popularity  \n",
              "0                      0.187500     593   Unpopular  \n",
              "1                      0.000000     711   Unpopular  \n",
              "2                      0.000000    1500     Popular  \n",
              "3                      0.000000    1200   Unpopular  \n",
              "4                      0.136364     505   Unpopular  \n",
              "\n",
              "[5 rows x 57 columns]"
            ],
            "text/html": [
              "\n",
              "  <div id=\"df-08633f87-454a-4789-85b6-9f57e096a4ab\">\n",
              "    <div class=\"colab-df-container\">\n",
              "      <div>\n",
              "<style scoped>\n",
              "    .dataframe tbody tr th:only-of-type {\n",
              "        vertical-align: middle;\n",
              "    }\n",
              "\n",
              "    .dataframe tbody tr th {\n",
              "        vertical-align: top;\n",
              "    }\n",
              "\n",
              "    .dataframe thead th {\n",
              "        text-align: right;\n",
              "    }\n",
              "</style>\n",
              "<table border=\"1\" class=\"dataframe\">\n",
              "  <thead>\n",
              "    <tr style=\"text-align: right;\">\n",
              "      <th></th>\n",
              "      <th>n_tokens_title</th>\n",
              "      <th>n_tokens_content</th>\n",
              "      <th>n_unique_tokens</th>\n",
              "      <th>num_hrefs</th>\n",
              "      <th>num_self_hrefs</th>\n",
              "      <th>num_imgs</th>\n",
              "      <th>num_videos</th>\n",
              "      <th>average_token_length</th>\n",
              "      <th>num_keywords</th>\n",
              "      <th>data_channel_is_lifestyle</th>\n",
              "      <th>...</th>\n",
              "      <th>max_positive_polarity</th>\n",
              "      <th>avg_negative_polarity</th>\n",
              "      <th>min_negative_polarity</th>\n",
              "      <th>max_negative_polarity</th>\n",
              "      <th>title_subjectivity</th>\n",
              "      <th>title_sentiment_polarity</th>\n",
              "      <th>abs_title_subjectivity</th>\n",
              "      <th>abs_title_sentiment_polarity</th>\n",
              "      <th>shares</th>\n",
              "      <th>popularity</th>\n",
              "    </tr>\n",
              "  </thead>\n",
              "  <tbody>\n",
              "    <tr>\n",
              "      <th>0</th>\n",
              "      <td>12.0</td>\n",
              "      <td>219.0</td>\n",
              "      <td>0.663594</td>\n",
              "      <td>4.0</td>\n",
              "      <td>2.0</td>\n",
              "      <td>1.0</td>\n",
              "      <td>0.0</td>\n",
              "      <td>4.680365</td>\n",
              "      <td>5.0</td>\n",
              "      <td>0.0</td>\n",
              "      <td>...</td>\n",
              "      <td>0.7</td>\n",
              "      <td>-0.350000</td>\n",
              "      <td>-0.600</td>\n",
              "      <td>-0.200000</td>\n",
              "      <td>0.500000</td>\n",
              "      <td>-0.187500</td>\n",
              "      <td>0.000000</td>\n",
              "      <td>0.187500</td>\n",
              "      <td>593</td>\n",
              "      <td>Unpopular</td>\n",
              "    </tr>\n",
              "    <tr>\n",
              "      <th>1</th>\n",
              "      <td>9.0</td>\n",
              "      <td>255.0</td>\n",
              "      <td>0.604743</td>\n",
              "      <td>3.0</td>\n",
              "      <td>1.0</td>\n",
              "      <td>1.0</td>\n",
              "      <td>0.0</td>\n",
              "      <td>4.913725</td>\n",
              "      <td>4.0</td>\n",
              "      <td>0.0</td>\n",
              "      <td>...</td>\n",
              "      <td>0.7</td>\n",
              "      <td>-0.118750</td>\n",
              "      <td>-0.125</td>\n",
              "      <td>-0.100000</td>\n",
              "      <td>0.000000</td>\n",
              "      <td>0.000000</td>\n",
              "      <td>0.500000</td>\n",
              "      <td>0.000000</td>\n",
              "      <td>711</td>\n",
              "      <td>Unpopular</td>\n",
              "    </tr>\n",
              "    <tr>\n",
              "      <th>2</th>\n",
              "      <td>9.0</td>\n",
              "      <td>211.0</td>\n",
              "      <td>0.575130</td>\n",
              "      <td>3.0</td>\n",
              "      <td>1.0</td>\n",
              "      <td>1.0</td>\n",
              "      <td>0.0</td>\n",
              "      <td>4.393365</td>\n",
              "      <td>6.0</td>\n",
              "      <td>0.0</td>\n",
              "      <td>...</td>\n",
              "      <td>1.0</td>\n",
              "      <td>-0.466667</td>\n",
              "      <td>-0.800</td>\n",
              "      <td>-0.133333</td>\n",
              "      <td>0.000000</td>\n",
              "      <td>0.000000</td>\n",
              "      <td>0.500000</td>\n",
              "      <td>0.000000</td>\n",
              "      <td>1500</td>\n",
              "      <td>Popular</td>\n",
              "    </tr>\n",
              "    <tr>\n",
              "      <th>3</th>\n",
              "      <td>9.0</td>\n",
              "      <td>531.0</td>\n",
              "      <td>0.503788</td>\n",
              "      <td>9.0</td>\n",
              "      <td>0.0</td>\n",
              "      <td>1.0</td>\n",
              "      <td>0.0</td>\n",
              "      <td>4.404896</td>\n",
              "      <td>7.0</td>\n",
              "      <td>0.0</td>\n",
              "      <td>...</td>\n",
              "      <td>0.8</td>\n",
              "      <td>-0.369697</td>\n",
              "      <td>-0.600</td>\n",
              "      <td>-0.166667</td>\n",
              "      <td>0.000000</td>\n",
              "      <td>0.000000</td>\n",
              "      <td>0.500000</td>\n",
              "      <td>0.000000</td>\n",
              "      <td>1200</td>\n",
              "      <td>Unpopular</td>\n",
              "    </tr>\n",
              "    <tr>\n",
              "      <th>4</th>\n",
              "      <td>13.0</td>\n",
              "      <td>1072.0</td>\n",
              "      <td>0.415646</td>\n",
              "      <td>19.0</td>\n",
              "      <td>19.0</td>\n",
              "      <td>20.0</td>\n",
              "      <td>0.0</td>\n",
              "      <td>4.682836</td>\n",
              "      <td>7.0</td>\n",
              "      <td>0.0</td>\n",
              "      <td>...</td>\n",
              "      <td>1.0</td>\n",
              "      <td>-0.220192</td>\n",
              "      <td>-0.500</td>\n",
              "      <td>-0.050000</td>\n",
              "      <td>0.454545</td>\n",
              "      <td>0.136364</td>\n",
              "      <td>0.045455</td>\n",
              "      <td>0.136364</td>\n",
              "      <td>505</td>\n",
              "      <td>Unpopular</td>\n",
              "    </tr>\n",
              "  </tbody>\n",
              "</table>\n",
              "<p>5 rows × 57 columns</p>\n",
              "</div>\n",
              "      <button class=\"colab-df-convert\" onclick=\"convertToInteractive('df-08633f87-454a-4789-85b6-9f57e096a4ab')\"\n",
              "              title=\"Convert this dataframe to an interactive table.\"\n",
              "              style=\"display:none;\">\n",
              "        \n",
              "  <svg xmlns=\"http://www.w3.org/2000/svg\" height=\"24px\"viewBox=\"0 0 24 24\"\n",
              "       width=\"24px\">\n",
              "    <path d=\"M0 0h24v24H0V0z\" fill=\"none\"/>\n",
              "    <path d=\"M18.56 5.44l.94 2.06.94-2.06 2.06-.94-2.06-.94-.94-2.06-.94 2.06-2.06.94zm-11 1L8.5 8.5l.94-2.06 2.06-.94-2.06-.94L8.5 2.5l-.94 2.06-2.06.94zm10 10l.94 2.06.94-2.06 2.06-.94-2.06-.94-.94-2.06-.94 2.06-2.06.94z\"/><path d=\"M17.41 7.96l-1.37-1.37c-.4-.4-.92-.59-1.43-.59-.52 0-1.04.2-1.43.59L10.3 9.45l-7.72 7.72c-.78.78-.78 2.05 0 2.83L4 21.41c.39.39.9.59 1.41.59.51 0 1.02-.2 1.41-.59l7.78-7.78 2.81-2.81c.8-.78.8-2.07 0-2.86zM5.41 20L4 18.59l7.72-7.72 1.47 1.35L5.41 20z\"/>\n",
              "  </svg>\n",
              "      </button>\n",
              "      \n",
              "  <style>\n",
              "    .colab-df-container {\n",
              "      display:flex;\n",
              "      flex-wrap:wrap;\n",
              "      gap: 12px;\n",
              "    }\n",
              "\n",
              "    .colab-df-convert {\n",
              "      background-color: #E8F0FE;\n",
              "      border: none;\n",
              "      border-radius: 50%;\n",
              "      cursor: pointer;\n",
              "      display: none;\n",
              "      fill: #1967D2;\n",
              "      height: 32px;\n",
              "      padding: 0 0 0 0;\n",
              "      width: 32px;\n",
              "    }\n",
              "\n",
              "    .colab-df-convert:hover {\n",
              "      background-color: #E2EBFA;\n",
              "      box-shadow: 0px 1px 2px rgba(60, 64, 67, 0.3), 0px 1px 3px 1px rgba(60, 64, 67, 0.15);\n",
              "      fill: #174EA6;\n",
              "    }\n",
              "\n",
              "    [theme=dark] .colab-df-convert {\n",
              "      background-color: #3B4455;\n",
              "      fill: #D2E3FC;\n",
              "    }\n",
              "\n",
              "    [theme=dark] .colab-df-convert:hover {\n",
              "      background-color: #434B5C;\n",
              "      box-shadow: 0px 1px 3px 1px rgba(0, 0, 0, 0.15);\n",
              "      filter: drop-shadow(0px 1px 2px rgba(0, 0, 0, 0.3));\n",
              "      fill: #FFFFFF;\n",
              "    }\n",
              "  </style>\n",
              "\n",
              "      <script>\n",
              "        const buttonEl =\n",
              "          document.querySelector('#df-08633f87-454a-4789-85b6-9f57e096a4ab button.colab-df-convert');\n",
              "        buttonEl.style.display =\n",
              "          google.colab.kernel.accessAllowed ? 'block' : 'none';\n",
              "\n",
              "        async function convertToInteractive(key) {\n",
              "          const element = document.querySelector('#df-08633f87-454a-4789-85b6-9f57e096a4ab');\n",
              "          const dataTable =\n",
              "            await google.colab.kernel.invokeFunction('convertToInteractive',\n",
              "                                                     [key], {});\n",
              "          if (!dataTable) return;\n",
              "\n",
              "          const docLinkHtml = 'Like what you see? Visit the ' +\n",
              "            '<a target=\"_blank\" href=https://colab.research.google.com/notebooks/data_table.ipynb>data table notebook</a>'\n",
              "            + ' to learn more about interactive tables.';\n",
              "          element.innerHTML = '';\n",
              "          dataTable['output_type'] = 'display_data';\n",
              "          await google.colab.output.renderOutput(dataTable, element);\n",
              "          const docLink = document.createElement('div');\n",
              "          docLink.innerHTML = docLinkHtml;\n",
              "          element.appendChild(docLink);\n",
              "        }\n",
              "      </script>\n",
              "    </div>\n",
              "  </div>\n",
              "  "
            ]
          },
          "metadata": {},
          "execution_count": 27
        }
      ],
      "execution_count": null
    },
    {
      "cell_type": "code",
      "source": [
        "#Day of the week vs Popularity\n",
        "col_days = data.columns.values[26:33]\n",
        "art_npop =data[data['shares']<1400]\n",
        "art_pop=data[data['shares']>=1400]\n",
        "npop_day = art_npop[col_days].sum().values\n",
        "pop_day = art_pop[col_days].sum().values\n",
        "\n",
        "import matplotlib.pyplot as pl\n",
        "from IPython import get_ipython\n",
        "get_ipython().run_line_magic('matplotlib', 'inline')\n",
        "\n",
        "fig = pl.figure(figsize = (15,8))\n",
        "pl.title(\"Amount of popular/unpopular articles within a week \", fontsize = 18)\n",
        "pl.bar(np.arange(len(col_days)), pop_day, width = 0.4, align=\"center\", color = 'b', \\\n",
        "          label = \"Popular\")\n",
        "pl.bar(np.arange(len(col_days)) - 0.4, npop_day, width = 0.4, align = \"center\", color = 'g', \\\n",
        "          label = \"Unpopular\")\n",
        "pl.xticks(np.arange(len(col_days)), col_days)\n",
        "pl.ylabel(\"Count\", fontsize = 16)\n",
        "pl.xlabel(\"Days of week\", fontsize = 16)\n",
        "    \n",
        "pl.legend(loc = 'upper right')\n",
        "pl.tight_layout()\n",
        "pl.show()"
      ],
      "metadata": {
        "tags": [],
        "cell_id": "ad0ca8b0907748f7baabbcf3e157aae9",
        "source_hash": "1823bc62",
        "execution_start": 1671225027931,
        "execution_millis": 1164,
        "deepnote_to_be_reexecuted": false,
        "deepnote_cell_type": "code",
        "colab": {
          "base_uri": "https://localhost:8080/",
          "height": 585
        },
        "id": "NQmEuzd_ukJf",
        "outputId": "0ae9c592-8ca1-4b1d-8e0d-11c7225d08f8"
      },
      "outputs": [
        {
          "output_type": "display_data",
          "data": {
            "text/plain": [
              "<Figure size 1080x576 with 1 Axes>"
            ],
            "image/png": "[encoded data removed]"
          },
          "metadata": {
            "needs_background": "light"
          }
        }
      ],
      "execution_count": null
    },
    {
      "cell_type": "code",
      "source": [
        "#Catagory vs Popularity \n",
        "cont_type= data.columns.values[9:15]\n",
        "pop_type = art_npop[cont_type].sum().values\n",
        "npop_type = art_pop[cont_type].sum().values\n",
        "fig = pl.figure(figsize = (15,8))\n",
        "pl.title(\"Count of popular/unpopular news over  article category\", fontsize = 18)\n",
        "pl.bar(np.arange(len(cont_type)), pop_type, width = 0.4, align=\"center\", color = 'b', \\\n",
        "          label = \"Popular\")\n",
        "pl.bar(np.arange(len(cont_type)) - 0.4, npop_type, width = 0.4, align = \"center\", color = 'g', \\\n",
        "          label = \"Unpopular\")\n",
        "pl.xticks(np.arange(len(cont_type)), cont_type)\n",
        "\n",
        "pl.ylabel(\"Count\", fontsize = 15)\n",
        "pl.xlabel(\"Content type\", fontsize = 15)\n",
        "    \n",
        "pl.legend(loc = 'upper left')\n",
        "pl.tight_layout()\n",
        "pl.show()"
      ],
      "metadata": {
        "tags": [],
        "cell_id": "229ae7b6b8c749b3b04892020cdb09ba",
        "source_hash": "674cd2c3",
        "execution_start": 1671225029102,
        "execution_millis": 1121,
        "deepnote_to_be_reexecuted": false,
        "deepnote_cell_type": "code",
        "colab": {
          "base_uri": "https://localhost:8080/",
          "height": 585
        },
        "id": "yjussU5TukJh",
        "outputId": "2c05fb51-749e-4067-8d79-518b0323fc9e"
      },
      "outputs": [
        {
          "output_type": "display_data",
          "data": {
            "text/plain": [
              "<Figure size 1080x576 with 1 Axes>"
            ],
            "image/png": "[encoded data removed]"
          },
          "metadata": {
            "needs_background": "light"
          }
        }
      ],
      "execution_count": null
    },
    {
      "cell_type": "code",
      "source": [
        "\n",
        "plt.figure(figsize=(12,5))\n",
        "ax = sns.scatterplot(y='shares', x='n_tokens_content', hue='popularity', data=data)\n",
        "pl.ylabel(\"Shares\", fontsize = 15)\n",
        "pl.xlabel(\"Number of words in the paragraph\", fontsize = 15)\n",
        "plt.show()"
      ],
      "metadata": {
        "tags": [],
        "cell_id": "42596299ea7f41aaa36f3933a3f81fcd",
        "source_hash": "fddd0864",
        "execution_start": 1671225030234,
        "execution_millis": 4053,
        "deepnote_to_be_reexecuted": false,
        "deepnote_cell_type": "code",
        "colab": {
          "base_uri": "https://localhost:8080/",
          "height": 339
        },
        "id": "cNXfL6dDukJi",
        "outputId": "aefb0b76-5b06-4916-c3f0-912ddb58ce21"
      },
      "outputs": [
        {
          "output_type": "display_data",
          "data": {
            "text/plain": [
              "<Figure size 864x360 with 1 Axes>"
            ],
            "image/png": "[encoded data removed]"
          },
          "metadata": {
            "needs_background": "light"
          }
        }
      ],
      "execution_count": null
    },
    {
      "cell_type": "code",
      "source": [
        "#Number of words in the heading vs Popularity\n",
        "plt.figure(figsize=(12,5))\n",
        "ax = sns.scatterplot(y= 'shares', x='n_tokens_title', hue='popularity', data=data);\n",
        "pl.ylabel(\"Shares\", fontsize = 15)\n",
        "pl.xlabel(\"Number of words in the heading\", fontsize = 15)\n",
        "plt.show()"
      ],
      "metadata": {
        "tags": [],
        "cell_id": "e6d4f28fc06743bf86380688ff66df11",
        "source_hash": "b8e51b21",
        "execution_start": 1671225034290,
        "execution_millis": 4143,
        "deepnote_to_be_reexecuted": false,
        "deepnote_cell_type": "code",
        "colab": {
          "base_uri": "https://localhost:8080/",
          "height": 339
        },
        "id": "RrCCP2okukJi",
        "outputId": "2ae6cf88-5c7a-42b2-cca3-0fdb4954ba0f"
      },
      "outputs": [
        {
          "output_type": "display_data",
          "data": {
            "text/plain": [
              "<Figure size 864x360 with 1 Axes>"
            ],
            "image/png": "[encoded data removed]"
          },
          "metadata": {
            "needs_background": "light"
          }
        }
      ],
      "execution_count": null
    },
    {
      "cell_type": "code",
      "source": [
        "#Number of key words vs Popularity\n",
        "plt.figure(figsize=(15,7))\n",
        "sns.scatterplot(x='num_keywords',y='shares', hue='popularity', data=data)\n",
        "plt.show()"
      ],
      "metadata": {
        "tags": [],
        "cell_id": "24bc63a1e1b34c11bc3803c51fba30fa",
        "source_hash": "9869a61e",
        "execution_start": 1671225038431,
        "execution_millis": 3944,
        "deepnote_to_be_reexecuted": false,
        "deepnote_cell_type": "code",
        "colab": {
          "base_uri": "https://localhost:8080/",
          "height": 443
        },
        "id": "OEBv87iLukJi",
        "outputId": "b434dd01-0e6a-4e5a-f64d-24e8f2c7a5d6"
      },
      "outputs": [
        {
          "output_type": "display_data",
          "data": {
            "text/plain": [
              "<Figure size 1080x504 with 1 Axes>"
            ],
            "image/png": "[encoded data removed]"
          },
          "metadata": {
            "needs_background": "light"
          }
        }
      ],
      "execution_count": null
    },
    {
      "cell_type": "code",
      "source": [
        "#Number of images vs Popularity \n",
        "plt.figure(figsize=(25,10))\n",
        "sns.scatterplot(x='num_imgs',y='shares', hue='popularity', data=data)\n",
        "plt.show()"
      ],
      "metadata": {
        "tags": [],
        "cell_id": "3aec60d2b4cc44229a9967b2f067d9e7",
        "source_hash": "1eb7eb25",
        "execution_start": 1671225042372,
        "execution_millis": 4153,
        "deepnote_to_be_reexecuted": false,
        "deepnote_cell_type": "code",
        "colab": {
          "base_uri": "https://localhost:8080/",
          "height": 529
        },
        "id": "5Ml9eMQMukJj",
        "outputId": "874d7e4d-6dda-4ed5-bb9c-33fe93ff55e8"
      },
      "outputs": [
        {
          "output_type": "display_data",
          "data": {
            "text/plain": [
              "<Figure size 1800x720 with 1 Axes>"
            ],
            "image/png": "[encoded data removed]"
          },
          "metadata": {
            "needs_background": "light"
          }
        }
      ],
      "execution_count": null
    },
    {
      "cell_type": "code",
      "source": [
        "#Number of videos vs Popularity \n",
        "sns.scatterplot(x='num_videos', y='shares', hue='popularity', data=data)\n",
        "plt.show()"
      ],
      "metadata": {
        "tags": [],
        "cell_id": "4a73917b076240b381e386c61ca51259",
        "source_hash": "5cd57df9",
        "execution_start": 1671225046526,
        "execution_millis": 3725,
        "deepnote_to_be_reexecuted": false,
        "deepnote_cell_type": "code",
        "colab": {
          "base_uri": "https://localhost:8080/",
          "height": 280
        },
        "id": "r9YwR2CkukJj",
        "outputId": "1c313563-bb29-47d4-b820-7030025161ff"
      },
      "outputs": [
        {
          "output_type": "display_data",
          "data": {
            "text/plain": [
              "<Figure size 432x288 with 1 Axes>"
            ],
            "image/png": "[encoded data removed]"
          },
          "metadata": {
            "needs_background": "light"
          }
        }
      ],
      "execution_count": null
    },
    {
      "cell_type": "markdown",
      "source": [
        "Conclusions"
      ],
      "metadata": {
        "tags": [],
        "cell_id": "cb551579483f44bda69095fe32e2e6a7",
        "is_collapsed": false,
        "formattedRanges": [
          {
            "type": "marks",
            "marks": {
              "bold": true
            },
            "toCodePoint": 11,
            "fromCodePoint": 0
          }
        ],
        "deepnote_cell_type": "text-cell-p",
        "id": "RtX0s-RtukJk"
      }
    },
    {
      "cell_type": "markdown",
      "source": [
        "n_tokens_content -> At most 1700 words. Amount over 2000 is having way less shares. "
      ],
      "metadata": {
        "tags": [],
        "cell_id": "eb5a7302-6b72-4aec-9588-3b39ef669c60",
        "is_collapsed": false,
        "formattedRanges": [],
        "deepnote_cell_type": "text-cell-p",
        "id": "ZfmhVLJ1ukJk"
      }
    },
    {
      "cell_type": "markdown",
      "source": [
        "- n_tokens_title -> Between 7-15 words in the heading."
      ],
      "metadata": {
        "tags": [],
        "cell_id": "f4621534-4aaf-4d4d-8abe-1a8be621c4f4",
        "is_collapsed": false,
        "formattedRanges": [],
        "deepnote_cell_type": "text-cell-bullet",
        "id": "ur5gfcjwukJk"
      }
    },
    {
      "cell_type": "markdown",
      "source": [
        "- n_unique_tokens -> Boundaries about 0.4-0.8. This feature describes rate of unique words in the content."
      ],
      "metadata": {
        "tags": [],
        "cell_id": "a79989a3-7583-407e-8151-d0a6d1355a99",
        "is_collapsed": false,
        "formattedRanges": [],
        "deepnote_cell_type": "text-cell-bullet",
        "id": "L2n9v8CxukJk"
      }
    },
    {
      "cell_type": "markdown",
      "source": [
        "- num_imgs -> In the interval from 0 - 30 at most. This feature stands for number of images in the article."
      ],
      "metadata": {
        "tags": [],
        "cell_id": "c6ac40d2-a847-4b06-bc01-930c6765c952",
        "is_collapsed": false,
        "formattedRanges": [],
        "deepnote_cell_type": "text-cell-bullet",
        "id": "B_322-pCukJl"
      }
    },
    {
      "cell_type": "markdown",
      "source": [
        "- num_videos -> Up to 20 videos per article."
      ],
      "metadata": {
        "tags": [],
        "cell_id": "f560a064-c443-4fc7-84c2-34e9f28736e8",
        "is_collapsed": false,
        "formattedRanges": [],
        "deepnote_cell_type": "text-cell-bullet",
        "id": "_uF6Bm82ukJl"
      }
    },
    {
      "cell_type": "markdown",
      "source": [
        "- num_keywords -> This feature should be around 6-10. Relates to number of keywords in the metadata."
      ],
      "metadata": {
        "tags": [],
        "cell_id": "10e98485-c6ab-4af2-ac8e-72aba56617b1",
        "is_collapsed": false,
        "formattedRanges": [],
        "deepnote_cell_type": "text-cell-bullet",
        "id": "ZJ1kMl_wukJl"
      }
    },
    {
      "cell_type": "markdown",
      "source": [
        "- num_hrefs -> Should be somewhere from 0 -75. Defines number of links"
      ],
      "metadata": {
        "tags": [],
        "cell_id": "1c710b5e-a24f-4592-9f8f-a0a27fbde19c",
        "is_collapsed": false,
        "formattedRanges": [],
        "deepnote_cell_type": "text-cell-bullet",
        "id": "yb1pGv0cukJl"
      }
    },
    {
      "cell_type": "markdown",
      "source": [
        "- average_token_length -> Defines the average length of words in the content. Should be from 4 up to 6 words."
      ],
      "metadata": {
        "tags": [],
        "cell_id": "bec1e5bf-42a3-4ed5-b2a2-a3d335c60b04",
        "is_collapsed": false,
        "formattedRanges": [],
        "deepnote_cell_type": "text-cell-bullet",
        "id": "clxObXzpukJm"
      }
    },
    {
      "cell_type": "markdown",
      "source": [
        "- weekdays -> Tuesdays and Wednesdays are definitely days with the highest number of shares. On the other hand weekends are not worth publishing."
      ],
      "metadata": {
        "tags": [],
        "cell_id": "04658dcb-2b20-42c6-8b0b-9a72453a28a7",
        "is_collapsed": false,
        "formattedRanges": [],
        "deepnote_cell_type": "text-cell-bullet",
        "id": "HBR87SNoukJn"
      }
    },
    {
      "cell_type": "markdown",
      "source": [
        "- types -> Most popular categories are world and entertainment."
      ],
      "metadata": {
        "tags": [],
        "cell_id": "93ed5b43-9381-4f5e-a2bd-cf3de29d7a2f",
        "is_collapsed": false,
        "formattedRanges": [],
        "deepnote_cell_type": "text-cell-bullet",
        "id": "en5J_FWaukJn"
      }
    },
    {
      "cell_type": "markdown",
      "source": [
        "## Transforming and scaling the data"
      ],
      "metadata": {
        "tags": [],
        "cell_id": "4ebdab25707240f2a482dbb449dda707",
        "is_collapsed": false,
        "formattedRanges": [],
        "deepnote_cell_type": "text-cell-h2",
        "id": "bgZtf22qukJu"
      }
    },
    {
      "cell_type": "markdown",
      "source": [
        "A normal distribution cannot be found in the provided data.\n",
        "To change the entire set of data into a distribution that is as close to normal as possible, a log transformation will be used. "
      ],
      "metadata": {
        "tags": [],
        "cell_id": "4115058e-f8a2-43dc-9ca2-cf8b1b0130a5",
        "is_collapsed": false,
        "formattedRanges": [],
        "deepnote_cell_type": "text-cell-p",
        "id": "biUXVnc5ukJv"
      }
    },
    {
      "cell_type": "code",
      "source": [
        "# before log transformation\n",
        "original_data = copy(data)\n",
        "sns.displot(original_data['n_tokens_content'], kde=True);"
      ],
      "metadata": {
        "tags": [],
        "cell_id": "6bce492dc7f54ebca617a73c13995fd2",
        "source_hash": "3bc1c940",
        "execution_start": 1671225050270,
        "execution_millis": 3017,
        "deepnote_to_be_reexecuted": false,
        "deepnote_cell_type": "code",
        "colab": {
          "base_uri": "https://localhost:8080/",
          "height": 369
        },
        "id": "aC8LAodsukJv",
        "outputId": "f5b1bb0b-30c5-4ad6-a239-42279c98b24b"
      },
      "outputs": [
        {
          "output_type": "display_data",
          "data": {
            "text/plain": [
              "<Figure size 360x360 with 1 Axes>"
            ],
            "image/png": "[encoded data removed]"
          },
          "metadata": {
            "needs_background": "light"
          }
        }
      ],
      "execution_count": null
    },
    {
      "cell_type": "code",
      "source": [
        "#Transforming features to a normal distribution by applying log transformation.\n",
        "#Note: It can only be done to non-zero features to avoid dividing by zero.\n",
        "\n",
        "for col in data.iloc[:,:-1].columns:\n",
        "    temp = data[data[col] == 0]\n",
        "    if temp.shape[0] == 0:\n",
        "        data[col] = np.log(data[col])"
      ],
      "metadata": {
        "tags": [],
        "cell_id": "f0c749ebd034426bb362b513985c23a5",
        "source_hash": "2edc1e4b",
        "execution_start": 1671225053334,
        "execution_millis": 391,
        "deepnote_to_be_reexecuted": false,
        "deepnote_cell_type": "code",
        "id": "R3TMY1nSukJv"
      },
      "outputs": [],
      "execution_count": null
    },
    {
      "cell_type": "code",
      "source": [
        "# distribution after log transformation\n",
        "sns.displot(data['n_tokens_content'], kde=True)"
      ],
      "metadata": {
        "tags": [],
        "cell_id": "11f49d092b624bfaa6e89490ff673e4b",
        "source_hash": "a248d95c",
        "execution_start": 1671225053754,
        "execution_millis": 2150,
        "deepnote_to_be_reexecuted": false,
        "deepnote_cell_type": "code",
        "colab": {
          "base_uri": "https://localhost:8080/",
          "height": 386
        },
        "id": "ciF_bi52ukJw",
        "outputId": "6a0d9a39-b2d2-4fea-8268-378d05862289"
      },
      "outputs": [
        {
          "output_type": "execute_result",
          "data": {
            "text/plain": [
              "<seaborn.axisgrid.FacetGrid at 0x7f69f7504340>"
            ]
          },
          "metadata": {},
          "execution_count": 37
        },
        {
          "output_type": "display_data",
          "data": {
            "text/plain": [
              "<Figure size 360x360 with 1 Axes>"
            ],
            "image/png": "[encoded data removed]"
          },
          "metadata": {
            "needs_background": "light"
          }
        }
      ],
      "execution_count": null
    },
    {
      "cell_type": "code",
      "source": [
        "# scale features using statistics that are robust to outliers.\n",
        "# The RobustScaler is used because it is based on percentiles\n",
        "#  therefore not influenced by a small number of very large marginal outliers. \n",
        "# Note that the outliers themselves are still present in the transformed data.\n",
        "# source: https://scikit-learn.org/stable/auto_examples/preprocessing/plot_all_scaling.html#sphx-glr-auto-examples-preprocessing-plot-all-scaling-py\n",
        "\n",
        "from sklearn.preprocessing import RobustScaler\n",
        "scaler = RobustScaler()\n",
        "\n",
        "# feature scaling all data besides the shares and popularity features\n",
        "scaled_data = scaler.fit_transform(data.iloc[:, :-2])\n",
        "\n",
        "# update data with the scaled featrues\n",
        "data.iloc[:, :-2] = scaled_data\n"
      ],
      "metadata": {
        "tags": [],
        "cell_id": "cf1814e64f29410a85ed7184ca086552",
        "source_hash": "b35c5533",
        "execution_start": 1671225055920,
        "execution_millis": 1211,
        "deepnote_to_be_reexecuted": false,
        "deepnote_cell_type": "code",
        "id": "KnjPK5cpukJx"
      },
      "outputs": [],
      "execution_count": null
    },
    {
      "cell_type": "code",
      "source": [
        "# the data after log transformation and robust scaler\n",
        "data.describe()"
      ],
      "metadata": {
        "tags": [],
        "cell_id": "b8dd53a1e6e7443f816249b0a3e39512",
        "source_hash": "7eda83c5",
        "execution_start": 1671225057145,
        "execution_millis": 1143,
        "deepnote_to_be_reexecuted": false,
        "deepnote_cell_type": "code",
        "colab": {
          "base_uri": "https://localhost:8080/",
          "height": 394
        },
        "id": "tcvkshXjukJy",
        "outputId": "525c4957-ce2e-4bc5-d76a-19f9fa77825a"
      },
      "outputs": [
        {
          "output_type": "execute_result",
          "data": {
            "text/plain": [
              "       n_tokens_title  n_tokens_content  n_unique_tokens     num_hrefs  \\\n",
              "count    38463.000000      38463.000000     38463.000000  38463.000000   \n",
              "mean         0.055374          0.019763        -0.044655      0.357541   \n",
              "std          0.734370          0.703282         0.802998      1.260064   \n",
              "min         -5.594502         -3.050697        -6.288267     -0.888889   \n",
              "25%         -0.366239         -0.474026        -0.521254     -0.333333   \n",
              "50%          0.000000          0.000000         0.000000      0.000000   \n",
              "75%          0.633761          0.525974         0.478746      0.666667   \n",
              "max          2.895242          2.896457        29.014405     32.888889   \n",
              "\n",
              "       num_self_hrefs      num_imgs    num_videos  average_token_length  \\\n",
              "count    38463.000000  38463.000000  38463.000000          38463.000000   \n",
              "mean         0.131590      1.187687      1.263786              0.014622   \n",
              "std          1.289924      2.765122      4.164896              0.764963   \n",
              "min         -1.000000     -0.333333      0.000000             -3.339577   \n",
              "25%         -0.666667      0.000000      0.000000             -0.496222   \n",
              "50%          0.000000      0.000000      0.000000              0.000000   \n",
              "75%          0.333333      1.000000      1.000000              0.503778   \n",
              "max         37.666667     42.333333     91.000000              6.939609   \n",
              "\n",
              "       num_keywords  data_channel_is_lifestyle  ...  min_positive_polarity  \\\n",
              "count  38463.000000               38463.000000  ...           38463.000000   \n",
              "mean      -0.024493                   0.054000  ...              -0.032476   \n",
              "std        0.730870                   0.226021  ...               1.407646   \n",
              "min       -4.799205                   0.000000  ...              -2.000000   \n",
              "25%       -0.380182                   0.000000  ...              -1.000000   \n",
              "50%        0.000000                   0.000000  ...               0.000000   \n",
              "75%        0.619818                   0.000000  ...               0.000000   \n",
              "max        0.879669                   1.000000  ...              18.000000   \n",
              "\n",
              "       max_positive_polarity  avg_negative_polarity  min_negative_polarity  \\\n",
              "count           38463.000000           38463.000000           38463.000000   \n",
              "mean               -0.050093              -0.070626              -0.094503   \n",
              "std                 0.531272               0.877328               0.696149   \n",
              "min                -2.000000              -5.374142              -1.244444   \n",
              "25%                -0.500000              -0.534287              -0.533333   \n",
              "50%                 0.000000               0.000000               0.000000   \n",
              "75%                 0.500000               0.465713               0.466667   \n",
              "max                 0.500000               1.866081               1.244444   \n",
              "\n",
              "       max_negative_polarity  title_subjectivity  title_sentiment_polarity  \\\n",
              "count           38463.000000        38463.000000              38463.000000   \n",
              "mean               -0.144014            0.311147                  0.520642   \n",
              "std                 1.265583            0.647122                  1.938480   \n",
              "min               -12.000000           -0.250000                 -7.333333   \n",
              "25%                -0.333333           -0.250000                  0.000000   \n",
              "50%                 0.000000            0.000000                  0.000000   \n",
              "75%                 0.666667            0.750000                  1.000000   \n",
              "max                 1.333333            1.750000                  7.333333   \n",
              "\n",
              "       abs_title_subjectivity  abs_title_sentiment_polarity        shares  \n",
              "count            38463.000000                  38463.000000  38463.000000  \n",
              "mean                -0.472706                      0.619718      7.469288  \n",
              "std                  0.565818                      0.902544      0.925483  \n",
              "min                 -1.500000                      0.000000      0.000000  \n",
              "25%                 -1.000000                      0.000000      6.851185  \n",
              "50%                  0.000000                      0.000000      7.244228  \n",
              "75%                  0.000000                      1.000000      7.901007  \n",
              "max                  0.000000                      4.000000     13.645078  \n",
              "\n",
              "[8 rows x 56 columns]"
            ],
            "text/html": [
              "\n",
              "  <div id=\"df-6300cf16-571d-4352-ba9f-0e7073668679\">\n",
              "    <div class=\"colab-df-container\">\n",
              "      <div>\n",
              "<style scoped>\n",
              "    .dataframe tbody tr th:only-of-type {\n",
              "        vertical-align: middle;\n",
              "    }\n",
              "\n",
              "    .dataframe tbody tr th {\n",
              "        vertical-align: top;\n",
              "    }\n",
              "\n",
              "    .dataframe thead th {\n",
              "        text-align: right;\n",
              "    }\n",
              "</style>\n",
              "<table border=\"1\" class=\"dataframe\">\n",
              "  <thead>\n",
              "    <tr style=\"text-align: right;\">\n",
              "      <th></th>\n",
              "      <th>n_tokens_title</th>\n",
              "      <th>n_tokens_content</th>\n",
              "      <th>n_unique_tokens</th>\n",
              "      <th>num_hrefs</th>\n",
              "      <th>num_self_hrefs</th>\n",
              "      <th>num_imgs</th>\n",
              "      <th>num_videos</th>\n",
              "      <th>average_token_length</th>\n",
              "      <th>num_keywords</th>\n",
              "      <th>data_channel_is_lifestyle</th>\n",
              "      <th>...</th>\n",
              "      <th>min_positive_polarity</th>\n",
              "      <th>max_positive_polarity</th>\n",
              "      <th>avg_negative_polarity</th>\n",
              "      <th>min_negative_polarity</th>\n",
              "      <th>max_negative_polarity</th>\n",
              "      <th>title_subjectivity</th>\n",
              "      <th>title_sentiment_polarity</th>\n",
              "      <th>abs_title_subjectivity</th>\n",
              "      <th>abs_title_sentiment_polarity</th>\n",
              "      <th>shares</th>\n",
              "    </tr>\n",
              "  </thead>\n",
              "  <tbody>\n",
              "    <tr>\n",
              "      <th>count</th>\n",
              "      <td>38463.000000</td>\n",
              "      <td>38463.000000</td>\n",
              "      <td>38463.000000</td>\n",
              "      <td>38463.000000</td>\n",
              "      <td>38463.000000</td>\n",
              "      <td>38463.000000</td>\n",
              "      <td>38463.000000</td>\n",
              "      <td>38463.000000</td>\n",
              "      <td>38463.000000</td>\n",
              "      <td>38463.000000</td>\n",
              "      <td>...</td>\n",
              "      <td>38463.000000</td>\n",
              "      <td>38463.000000</td>\n",
              "      <td>38463.000000</td>\n",
              "      <td>38463.000000</td>\n",
              "      <td>38463.000000</td>\n",
              "      <td>38463.000000</td>\n",
              "      <td>38463.000000</td>\n",
              "      <td>38463.000000</td>\n",
              "      <td>38463.000000</td>\n",
              "      <td>38463.000000</td>\n",
              "    </tr>\n",
              "    <tr>\n",
              "      <th>mean</th>\n",
              "      <td>0.055374</td>\n",
              "      <td>0.019763</td>\n",
              "      <td>-0.044655</td>\n",
              "      <td>0.357541</td>\n",
              "      <td>0.131590</td>\n",
              "      <td>1.187687</td>\n",
              "      <td>1.263786</td>\n",
              "      <td>0.014622</td>\n",
              "      <td>-0.024493</td>\n",
              "      <td>0.054000</td>\n",
              "      <td>...</td>\n",
              "      <td>-0.032476</td>\n",
              "      <td>-0.050093</td>\n",
              "      <td>-0.070626</td>\n",
              "      <td>-0.094503</td>\n",
              "      <td>-0.144014</td>\n",
              "      <td>0.311147</td>\n",
              "      <td>0.520642</td>\n",
              "      <td>-0.472706</td>\n",
              "      <td>0.619718</td>\n",
              "      <td>7.469288</td>\n",
              "    </tr>\n",
              "    <tr>\n",
              "      <th>std</th>\n",
              "      <td>0.734370</td>\n",
              "      <td>0.703282</td>\n",
              "      <td>0.802998</td>\n",
              "      <td>1.260064</td>\n",
              "      <td>1.289924</td>\n",
              "      <td>2.765122</td>\n",
              "      <td>4.164896</td>\n",
              "      <td>0.764963</td>\n",
              "      <td>0.730870</td>\n",
              "      <td>0.226021</td>\n",
              "      <td>...</td>\n",
              "      <td>1.407646</td>\n",
              "      <td>0.531272</td>\n",
              "      <td>0.877328</td>\n",
              "      <td>0.696149</td>\n",
              "      <td>1.265583</td>\n",
              "      <td>0.647122</td>\n",
              "      <td>1.938480</td>\n",
              "      <td>0.565818</td>\n",
              "      <td>0.902544</td>\n",
              "      <td>0.925483</td>\n",
              "    </tr>\n",
              "    <tr>\n",
              "      <th>min</th>\n",
              "      <td>-5.594502</td>\n",
              "      <td>-3.050697</td>\n",
              "      <td>-6.288267</td>\n",
              "      <td>-0.888889</td>\n",
              "      <td>-1.000000</td>\n",
              "      <td>-0.333333</td>\n",
              "      <td>0.000000</td>\n",
              "      <td>-3.339577</td>\n",
              "      <td>-4.799205</td>\n",
              "      <td>0.000000</td>\n",
              "      <td>...</td>\n",
              "      <td>-2.000000</td>\n",
              "      <td>-2.000000</td>\n",
              "      <td>-5.374142</td>\n",
              "      <td>-1.244444</td>\n",
              "      <td>-12.000000</td>\n",
              "      <td>-0.250000</td>\n",
              "      <td>-7.333333</td>\n",
              "      <td>-1.500000</td>\n",
              "      <td>0.000000</td>\n",
              "      <td>0.000000</td>\n",
              "    </tr>\n",
              "    <tr>\n",
              "      <th>25%</th>\n",
              "      <td>-0.366239</td>\n",
              "      <td>-0.474026</td>\n",
              "      <td>-0.521254</td>\n",
              "      <td>-0.333333</td>\n",
              "      <td>-0.666667</td>\n",
              "      <td>0.000000</td>\n",
              "      <td>0.000000</td>\n",
              "      <td>-0.496222</td>\n",
              "      <td>-0.380182</td>\n",
              "      <td>0.000000</td>\n",
              "      <td>...</td>\n",
              "      <td>-1.000000</td>\n",
              "      <td>-0.500000</td>\n",
              "      <td>-0.534287</td>\n",
              "      <td>-0.533333</td>\n",
              "      <td>-0.333333</td>\n",
              "      <td>-0.250000</td>\n",
              "      <td>0.000000</td>\n",
              "      <td>-1.000000</td>\n",
              "      <td>0.000000</td>\n",
              "      <td>6.851185</td>\n",
              "    </tr>\n",
              "    <tr>\n",
              "      <th>50%</th>\n",
              "      <td>0.000000</td>\n",
              "      <td>0.000000</td>\n",
              "      <td>0.000000</td>\n",
              "      <td>0.000000</td>\n",
              "      <td>0.000000</td>\n",
              "      <td>0.000000</td>\n",
              "      <td>0.000000</td>\n",
              "      <td>0.000000</td>\n",
              "      <td>0.000000</td>\n",
              "      <td>0.000000</td>\n",
              "      <td>...</td>\n",
              "      <td>0.000000</td>\n",
              "      <td>0.000000</td>\n",
              "      <td>0.000000</td>\n",
              "      <td>0.000000</td>\n",
              "      <td>0.000000</td>\n",
              "      <td>0.000000</td>\n",
              "      <td>0.000000</td>\n",
              "      <td>0.000000</td>\n",
              "      <td>0.000000</td>\n",
              "      <td>7.244228</td>\n",
              "    </tr>\n",
              "    <tr>\n",
              "      <th>75%</th>\n",
              "      <td>0.633761</td>\n",
              "      <td>0.525974</td>\n",
              "      <td>0.478746</td>\n",
              "      <td>0.666667</td>\n",
              "      <td>0.333333</td>\n",
              "      <td>1.000000</td>\n",
              "      <td>1.000000</td>\n",
              "      <td>0.503778</td>\n",
              "      <td>0.619818</td>\n",
              "      <td>0.000000</td>\n",
              "      <td>...</td>\n",
              "      <td>0.000000</td>\n",
              "      <td>0.500000</td>\n",
              "      <td>0.465713</td>\n",
              "      <td>0.466667</td>\n",
              "      <td>0.666667</td>\n",
              "      <td>0.750000</td>\n",
              "      <td>1.000000</td>\n",
              "      <td>0.000000</td>\n",
              "      <td>1.000000</td>\n",
              "      <td>7.901007</td>\n",
              "    </tr>\n",
              "    <tr>\n",
              "      <th>max</th>\n",
              "      <td>2.895242</td>\n",
              "      <td>2.896457</td>\n",
              "      <td>29.014405</td>\n",
              "      <td>32.888889</td>\n",
              "      <td>37.666667</td>\n",
              "      <td>42.333333</td>\n",
              "      <td>91.000000</td>\n",
              "      <td>6.939609</td>\n",
              "      <td>0.879669</td>\n",
              "      <td>1.000000</td>\n",
              "      <td>...</td>\n",
              "      <td>18.000000</td>\n",
              "      <td>0.500000</td>\n",
              "      <td>1.866081</td>\n",
              "      <td>1.244444</td>\n",
              "      <td>1.333333</td>\n",
              "      <td>1.750000</td>\n",
              "      <td>7.333333</td>\n",
              "      <td>0.000000</td>\n",
              "      <td>4.000000</td>\n",
              "      <td>13.645078</td>\n",
              "    </tr>\n",
              "  </tbody>\n",
              "</table>\n",
              "<p>8 rows × 56 columns</p>\n",
              "</div>\n",
              "      <button class=\"colab-df-convert\" onclick=\"convertToInteractive('df-6300cf16-571d-4352-ba9f-0e7073668679')\"\n",
              "              title=\"Convert this dataframe to an interactive table.\"\n",
              "              style=\"display:none;\">\n",
              "        \n",
              "  <svg xmlns=\"http://www.w3.org/2000/svg\" height=\"24px\"viewBox=\"0 0 24 24\"\n",
              "       width=\"24px\">\n",
              "    <path d=\"M0 0h24v24H0V0z\" fill=\"none\"/>\n",
              "    <path d=\"M18.56 5.44l.94 2.06.94-2.06 2.06-.94-2.06-.94-.94-2.06-.94 2.06-2.06.94zm-11 1L8.5 8.5l.94-2.06 2.06-.94-2.06-.94L8.5 2.5l-.94 2.06-2.06.94zm10 10l.94 2.06.94-2.06 2.06-.94-2.06-.94-.94-2.06-.94 2.06-2.06.94z\"/><path d=\"M17.41 7.96l-1.37-1.37c-.4-.4-.92-.59-1.43-.59-.52 0-1.04.2-1.43.59L10.3 9.45l-7.72 7.72c-.78.78-.78 2.05 0 2.83L4 21.41c.39.39.9.59 1.41.59.51 0 1.02-.2 1.41-.59l7.78-7.78 2.81-2.81c.8-.78.8-2.07 0-2.86zM5.41 20L4 18.59l7.72-7.72 1.47 1.35L5.41 20z\"/>\n",
              "  </svg>\n",
              "      </button>\n",
              "      \n",
              "  <style>\n",
              "    .colab-df-container {\n",
              "      display:flex;\n",
              "      flex-wrap:wrap;\n",
              "      gap: 12px;\n",
              "    }\n",
              "\n",
              "    .colab-df-convert {\n",
              "      background-color: #E8F0FE;\n",
              "      border: none;\n",
              "      border-radius: 50%;\n",
              "      cursor: pointer;\n",
              "      display: none;\n",
              "      fill: #1967D2;\n",
              "      height: 32px;\n",
              "      padding: 0 0 0 0;\n",
              "      width: 32px;\n",
              "    }\n",
              "\n",
              "    .colab-df-convert:hover {\n",
              "      background-color: #E2EBFA;\n",
              "      box-shadow: 0px 1px 2px rgba(60, 64, 67, 0.3), 0px 1px 3px 1px rgba(60, 64, 67, 0.15);\n",
              "      fill: #174EA6;\n",
              "    }\n",
              "\n",
              "    [theme=dark] .colab-df-convert {\n",
              "      background-color: #3B4455;\n",
              "      fill: #D2E3FC;\n",
              "    }\n",
              "\n",
              "    [theme=dark] .colab-df-convert:hover {\n",
              "      background-color: #434B5C;\n",
              "      box-shadow: 0px 1px 3px 1px rgba(0, 0, 0, 0.15);\n",
              "      filter: drop-shadow(0px 1px 2px rgba(0, 0, 0, 0.3));\n",
              "      fill: #FFFFFF;\n",
              "    }\n",
              "  </style>\n",
              "\n",
              "      <script>\n",
              "        const buttonEl =\n",
              "          document.querySelector('#df-6300cf16-571d-4352-ba9f-0e7073668679 button.colab-df-convert');\n",
              "        buttonEl.style.display =\n",
              "          google.colab.kernel.accessAllowed ? 'block' : 'none';\n",
              "\n",
              "        async function convertToInteractive(key) {\n",
              "          const element = document.querySelector('#df-6300cf16-571d-4352-ba9f-0e7073668679');\n",
              "          const dataTable =\n",
              "            await google.colab.kernel.invokeFunction('convertToInteractive',\n",
              "                                                     [key], {});\n",
              "          if (!dataTable) return;\n",
              "\n",
              "          const docLinkHtml = 'Like what you see? Visit the ' +\n",
              "            '<a target=\"_blank\" href=https://colab.research.google.com/notebooks/data_table.ipynb>data table notebook</a>'\n",
              "            + ' to learn more about interactive tables.';\n",
              "          element.innerHTML = '';\n",
              "          dataTable['output_type'] = 'display_data';\n",
              "          await google.colab.output.renderOutput(dataTable, element);\n",
              "          const docLink = document.createElement('div');\n",
              "          docLink.innerHTML = docLinkHtml;\n",
              "          element.appendChild(docLink);\n",
              "        }\n",
              "      </script>\n",
              "    </div>\n",
              "  </div>\n",
              "  "
            ]
          },
          "metadata": {},
          "execution_count": 39
        }
      ],
      "execution_count": null
    },
    {
      "cell_type": "markdown",
      "source": [],
      "metadata": {
        "tags": [],
        "cell_id": "b1d173cb-a23f-4fa4-b626-5572c78d6857",
        "is_collapsed": false,
        "formattedRanges": [],
        "deepnote_cell_type": "text-cell-p",
        "id": "2lXGb4IdukJy"
      }
    },
    {
      "cell_type": "markdown",
      "source": [
        "## Dimensionality reduction"
      ],
      "metadata": {
        "tags": [],
        "cell_id": "c1dd8845e6f545e7a43ae83955fd6f9b",
        "is_collapsed": false,
        "formattedRanges": [],
        "deepnote_cell_type": "text-cell-h2",
        "id": "4vVsTQjbukJy"
      }
    },
    {
      "cell_type": "markdown",
      "source": [
        "Dimensionality reduction can also be useful for visualizing the clusters that are found by k-means. K-means is typically used for clustering high-dimensional data, which can be difficult to visualize in its original space. Dimensionality reduction can transform the data into a lower-dimensional space, which makes it easier to visualize and interpret the clusters done later on."
      ],
      "metadata": {
        "tags": [],
        "cell_id": "c425133e-73e1-418b-9966-7d9696869ae0",
        "is_collapsed": false,
        "formattedRanges": [],
        "deepnote_cell_type": "text-cell-p",
        "id": "m2QdtoksukJz"
      }
    },
    {
      "cell_type": "markdown",
      "source": [
        "The appropriate method depend on the specific dataset so we try both PCA and t-SNE."
      ],
      "metadata": {
        "tags": [],
        "cell_id": "42abbbcd-e4e2-4417-9fbe-ee1d19c7e4fa",
        "is_collapsed": false,
        "formattedRanges": [],
        "deepnote_cell_type": "text-cell-p",
        "id": "yfGX0AjmukJz"
      }
    },
    {
      "cell_type": "markdown",
      "source": [
        "### PCA "
      ],
      "metadata": {
        "tags": [],
        "cell_id": "de902308-bc48-4021-8f49-61f23bcbf4e8",
        "is_collapsed": false,
        "formattedRanges": [
          {
            "type": "marks",
            "marks": {
              "bold": true
            },
            "toCodePoint": 4,
            "fromCodePoint": 0
          }
        ],
        "deepnote_cell_type": "text-cell-h3",
        "id": "TdWyIxHxukJz"
      }
    },
    {
      "cell_type": "code",
      "source": [
        "pca = PCA(n_components=2)\n",
        "data_reduced = pca.fit_transform(data.iloc[:,:-2])\n",
        "data_reduced.shape"
      ],
      "metadata": {
        "tags": [],
        "cell_id": "a99cf5e91e1641ef8447a60d1a85bb26",
        "source_hash": "1d667002",
        "execution_start": 1671225058373,
        "execution_millis": 966,
        "deepnote_to_be_reexecuted": false,
        "deepnote_cell_type": "code",
        "colab": {
          "base_uri": "https://localhost:8080/"
        },
        "id": "3qgyoBh3ukJz",
        "outputId": "829cf54e-91e8-4e30-8c7c-35b3c8c6b8d5"
      },
      "outputs": [
        {
          "output_type": "execute_result",
          "data": {
            "text/plain": [
              "(38463, 2)"
            ]
          },
          "metadata": {},
          "execution_count": 40
        }
      ],
      "execution_count": null
    },
    {
      "cell_type": "code",
      "source": [
        "# plotting the clusters PCA\n",
        "plt.figure(figsize=(5,5))\n",
        "plt.plot(data_reduced[:,0], data_reduced[:,1], 'b.')\n",
        "plt.title('PCA Transformation')\n",
        "\n",
        "plt.show()"
      ],
      "metadata": {
        "tags": [],
        "cell_id": "fb7876c67d3a4b13b1b176cfd629c45a",
        "source_hash": "7b7ecbb7",
        "execution_start": 1671225059357,
        "execution_millis": 531,
        "deepnote_to_be_reexecuted": false,
        "deepnote_cell_type": "code",
        "colab": {
          "base_uri": "https://localhost:8080/",
          "height": 336
        },
        "id": "O-bOhzQsukJ0",
        "outputId": "395edabe-3a90-43d8-d8f3-daf2724c3c8e"
      },
      "outputs": [
        {
          "output_type": "display_data",
          "data": {
            "text/plain": [
              "<Figure size 360x360 with 1 Axes>"
            ],
            "image/png": "[encoded data removed]"
          },
          "metadata": {
            "needs_background": "light"
          }
        }
      ],
      "execution_count": null
    },
    {
      "cell_type": "markdown",
      "source": [
        "### t-SNE"
      ],
      "metadata": {
        "tags": [],
        "cell_id": "f32ae151237543eb830bb8bb9cb72c6a",
        "is_collapsed": false,
        "formattedRanges": [
          {
            "type": "marks",
            "marks": {
              "bold": true
            },
            "toCodePoint": 5,
            "fromCodePoint": 0
          }
        ],
        "deepnote_cell_type": "text-cell-h3",
        "id": "1ZjRZpl9ukJ0"
      }
    },
    {
      "cell_type": "code",
      "source": [
        "from sklearn.manifold import TSNE\n",
        "tsne = TSNE(n_components=2, n_iter=300, random_state=42)\n",
        "reduced_tsne = tsne.fit_transform(data.iloc[:,:-2])"
      ],
      "metadata": {
        "tags": [],
        "cell_id": "af692812d17344e7ac9890557f552058",
        "source_hash": "c7300438",
        "execution_start": 1671225059925,
        "execution_millis": 552237,
        "deepnote_to_be_reexecuted": false,
        "deepnote_cell_type": "code",
        "colab": {
          "base_uri": "https://localhost:8080/"
        },
        "id": "eafQzz_TukJ0",
        "outputId": "c9822245-63ab-4221-8184-b9f8865fc173"
      },
      "outputs": [
        {
          "output_type": "stream",
          "name": "stderr",
          "text": [
            "/usr/local/lib/python3.8/dist-packages/sklearn/manifold/_t_sne.py:780: FutureWarning: The default initialization in TSNE will change from 'random' to 'pca' in 1.2.\n",
            "  warnings.warn(\n",
            "/usr/local/lib/python3.8/dist-packages/sklearn/manifold/_t_sne.py:790: FutureWarning: The default learning rate in TSNE will change from 200.0 to 'auto' in 1.2.\n",
            "  warnings.warn(\n"
          ]
        }
      ],
      "execution_count": null
    },
    {
      "cell_type": "code",
      "source": [
        "# plotting the clusters TSNE\n",
        "plt.figure(figsize=(5,5))\n",
        "plt.plot(reduced_tsne[:,0], reduced_tsne[:,1], 'b.')\n",
        "plt.title('TSNE Transformation')\n",
        "plt.show()\n"
      ],
      "metadata": {
        "tags": [],
        "cell_id": "521e8ed55ff7432ebcd35d06a567fe08",
        "source_hash": "77a2a7c5",
        "execution_start": 1671225612163,
        "execution_millis": 1005,
        "deepnote_to_be_reexecuted": false,
        "deepnote_cell_type": "code",
        "colab": {
          "base_uri": "https://localhost:8080/",
          "height": 336
        },
        "id": "pEIuste8ukJ1",
        "outputId": "817077dc-43f6-47a0-9ba0-55b0f76d7149"
      },
      "outputs": [
        {
          "output_type": "display_data",
          "data": {
            "text/plain": [
              "<Figure size 360x360 with 1 Axes>"
            ],
            "image/png": "[encoded data removed]"
          },
          "metadata": {
            "needs_background": "light"
          }
        }
      ],
      "execution_count": null
    },
    {
      "cell_type": "markdown",
      "source": [
        "##Needs better explanation##"
      ],
      "metadata": {
        "tags": [],
        "cell_id": "d5eab7e4-52f2-4ed1-9207-a459b0bd20ed",
        "is_collapsed": false,
        "formattedRanges": [],
        "deepnote_cell_type": "text-cell-p",
        "id": "NCK_WjDHukJ1"
      }
    },
    {
      "cell_type": "markdown",
      "source": [
        "## Data Clustering"
      ],
      "metadata": {
        "tags": [],
        "cell_id": "9f6b02d33e904b96930f7ce38925c5de",
        "is_collapsed": false,
        "formattedRanges": [],
        "deepnote_cell_type": "text-cell-h2",
        "id": "ImuGPl4mukJ1"
      }
    },
    {
      "cell_type": "markdown",
      "source": [
        "Grouping Similar Articles together"
      ],
      "metadata": {
        "tags": [],
        "cell_id": "80e676d2-45de-4654-aa78-143d18617f0e",
        "is_collapsed": false,
        "formattedRanges": [],
        "deepnote_cell_type": "text-cell-p",
        "id": "YpUHZS5PukJ2"
      }
    },
    {
      "cell_type": "markdown",
      "source": [
        "Using the numerical representation of each article we apply the k-means algorithm to group the articles into clusters. The algorithm will iteratively assign each article to the cluster with the nearest centroid (i.e., the center point of the cluster), and then it will update the centroids to be the average of all the articles assigned to that cluster. This process will continue until the centroids stop changing or a predefined number of iterations is reached."
      ],
      "metadata": {
        "tags": [],
        "cell_id": "a4ca8b92-fe72-4ba8-b6a0-b8d458651e53",
        "is_collapsed": false,
        "formattedRanges": [
          {
            "type": "marks",
            "marks": {
              "bold": true
            },
            "toCodePoint": 72,
            "fromCodePoint": 63
          }
        ],
        "deepnote_cell_type": "text-cell-p",
        "id": "wFpWoi3uukJ2"
      }
    },
    {
      "cell_type": "markdown",
      "source": [
        "After the algorithm has finished running, we have a set of clusters, each containing a group of similar articles. The we use these clusters to group similar articles together and build a model for all the articles."
      ],
      "metadata": {
        "tags": [],
        "cell_id": "f44e3108-3cd9-4ddf-8a8f-7a8703e07886",
        "is_collapsed": false,
        "formattedRanges": [],
        "deepnote_cell_type": "text-cell-p",
        "id": "UU4FUhk8ukJ2"
      }
    },
    {
      "cell_type": "code",
      "source": [
        "k=list(range(1,9))\n",
        "ssd=[]\n",
        "for i in k:\n",
        "    kmeans=KMeans(n_clusters=i).fit(reduced_tsne)\n",
        "    ssd.append(kmeans.inertia_)\n",
        "\n",
        "plt.plot(k,ssd,'o-')\n",
        "plt.xlabel('k')\n",
        "plt.ylabel('Sum of squared error')\n",
        "plt.show()\n"
      ],
      "metadata": {
        "tags": [],
        "cell_id": "898367da8b3a42c3b38bc55a044bbe2b",
        "source_hash": "4e6707dc",
        "execution_start": 1671225613175,
        "execution_millis": 6649,
        "deepnote_to_be_reexecuted": false,
        "deepnote_cell_type": "code",
        "colab": {
          "base_uri": "https://localhost:8080/",
          "height": 283
        },
        "id": "X2tDwhcqukJ2",
        "outputId": "2f9ad030-8117-4255-f201-984cc54bf5fa"
      },
      "outputs": [
        {
          "output_type": "display_data",
          "data": {
            "text/plain": [
              "<Figure size 432x288 with 1 Axes>"
            ],
            "image/png": "[encoded data removed]"
          },
          "metadata": {
            "needs_background": "light"
          }
        }
      ],
      "execution_count": null
    },
    {
      "cell_type": "code",
      "source": [
        "# Predicts the clusters\n",
        "kmeans=KMeans(init='k-means++',n_clusters=4)\n",
        "kmeans.fit(reduced_tsne)\n",
        "kmeans_preds=kmeans.predict(reduced_tsne)"
      ],
      "metadata": {
        "tags": [],
        "cell_id": "6235e28452e54b7aa328c284339319c9",
        "source_hash": "24621b08",
        "execution_start": 1671225619833,
        "execution_millis": 891,
        "deepnote_to_be_reexecuted": false,
        "deepnote_cell_type": "code",
        "id": "ZbfAIE7TukJ3"
      },
      "outputs": [],
      "execution_count": null
    },
    {
      "cell_type": "code",
      "source": [
        "#Visualizing the clusters\n",
        "plt.scatter(reduced_tsne[:,0],reduced_tsne[:,1],c=kmeans_preds,cmap='rainbow')\n",
        "plt.title('Clusters')\n",
        "plt.show()\n"
      ],
      "metadata": {
        "tags": [],
        "cell_id": "fc34cb63fa9c45b6aa189465d9545275",
        "source_hash": "7e750368",
        "execution_start": 1671225620730,
        "execution_millis": 2841,
        "deepnote_to_be_reexecuted": false,
        "deepnote_cell_type": "code",
        "colab": {
          "base_uri": "https://localhost:8080/",
          "height": 281
        },
        "id": "glV3RoZFukJ3",
        "outputId": "e7df80ca-30f3-46f6-fb73-3cf5d6a5dc10"
      },
      "outputs": [
        {
          "output_type": "display_data",
          "data": {
            "text/plain": [
              "<Figure size 432x288 with 1 Axes>"
            ],
            "image/png": "[encoded data removed]"
          },
          "metadata": {
            "needs_background": "light"
          }
        }
      ],
      "execution_count": null
    },
    {
      "cell_type": "code",
      "source": [
        "clust_data=pd.concat([data.reset_index(drop=True), pd.DataFrame(kmeans_preds, columns=['cluster'])],axis=1)"
      ],
      "metadata": {
        "tags": [],
        "cell_id": "c450277a2c8b44bfa24d74d4d0b7c663",
        "source_hash": "dfefe6d1",
        "execution_start": 1671225623584,
        "execution_millis": 31,
        "deepnote_to_be_reexecuted": false,
        "deepnote_cell_type": "code",
        "id": "Z61AiemnukJ4"
      },
      "outputs": [],
      "execution_count": null
    },
    {
      "cell_type": "code",
      "source": [
        "clust_data.head()"
      ],
      "metadata": {
        "tags": [],
        "cell_id": "19d4e2e4a4fa43ec80f39d48b0b5c37c",
        "source_hash": "5fd041ac",
        "execution_start": 1671225623638,
        "execution_millis": 450,
        "deepnote_table_state": {
          "sortBy": [],
          "filters": [],
          "pageSize": 10,
          "pageIndex": 9
        },
        "deepnote_table_loading": false,
        "deepnote_to_be_reexecuted": false,
        "deepnote_cell_type": "code",
        "colab": {
          "base_uri": "https://localhost:8080/",
          "height": 300
        },
        "id": "lL8o9whbukJ4",
        "outputId": "3efb4d0c-b6ba-4e2b-aef9-cbc9eac54e4b"
      },
      "outputs": [
        {
          "output_type": "execute_result",
          "data": {
            "text/plain": [
              "   n_tokens_title  n_tokens_content  n_unique_tokens  num_hrefs  \\\n",
              "0        0.633761         -0.636134         0.812476  -0.444444   \n",
              "1       -0.366239         -0.489067         0.436317  -0.555556   \n",
              "2       -0.366239         -0.672094         0.232948  -0.555556   \n",
              "3       -0.366239          0.219733        -0.303499   0.111111   \n",
              "4        0.911994          0.898597        -1.082499   1.222222   \n",
              "\n",
              "   num_self_hrefs  num_imgs  num_videos  average_token_length  num_keywords  \\\n",
              "0       -0.333333  0.000000         0.0              0.017074     -0.829843   \n",
              "1       -0.666667  0.000000         0.0              0.639390     -1.380182   \n",
              "2       -0.666667  0.000000         0.0             -0.792290     -0.380182   \n",
              "3       -1.000000  0.000000         0.0             -0.758763      0.000000   \n",
              "4        5.333333  6.333333         0.0              0.023824      0.000000   \n",
              "\n",
              "   data_channel_is_lifestyle  ...  avg_negative_polarity  \\\n",
              "0                        0.0  ...              -0.667997   \n",
              "1                        0.0  ...               1.006305   \n",
              "2                        0.0  ...              -1.512690   \n",
              "3                        0.0  ...              -0.810607   \n",
              "4                        0.0  ...               0.271840   \n",
              "\n",
              "   min_negative_polarity  max_negative_polarity  title_subjectivity  \\\n",
              "0              -0.248889              -1.333333            0.750000   \n",
              "1               0.933333               0.000000           -0.250000   \n",
              "2              -0.746667              -0.444444           -0.250000   \n",
              "3              -0.248889              -0.888889           -0.250000   \n",
              "4               0.000000               0.666667            0.659091   \n",
              "\n",
              "   title_sentiment_polarity  abs_title_subjectivity  \\\n",
              "0                    -1.375               -1.500000   \n",
              "1                     0.000                0.000000   \n",
              "2                     0.000                0.000000   \n",
              "3                     0.000                0.000000   \n",
              "4                     1.000               -1.363636   \n",
              "\n",
              "   abs_title_sentiment_polarity    shares  popularity  cluster  \n",
              "0                      0.750000  6.385194   Unpopular        2  \n",
              "1                      0.000000  6.566672   Unpopular        2  \n",
              "2                      0.000000  7.313220     Popular        2  \n",
              "3                      0.000000  7.090077   Unpopular        2  \n",
              "4                      0.545455  6.224558   Unpopular        2  \n",
              "\n",
              "[5 rows x 58 columns]"
            ],
            "text/html": [
              "\n",
              "  <div id=\"df-90e6ec45-c619-46de-a7cd-8e0fdc28ee04\">\n",
              "    <div class=\"colab-df-container\">\n",
              "      <div>\n",
              "<style scoped>\n",
              "    .dataframe tbody tr th:only-of-type {\n",
              "        vertical-align: middle;\n",
              "    }\n",
              "\n",
              "    .dataframe tbody tr th {\n",
              "        vertical-align: top;\n",
              "    }\n",
              "\n",
              "    .dataframe thead th {\n",
              "        text-align: right;\n",
              "    }\n",
              "</style>\n",
              "<table border=\"1\" class=\"dataframe\">\n",
              "  <thead>\n",
              "    <tr style=\"text-align: right;\">\n",
              "      <th></th>\n",
              "      <th>n_tokens_title</th>\n",
              "      <th>n_tokens_content</th>\n",
              "      <th>n_unique_tokens</th>\n",
              "      <th>num_hrefs</th>\n",
              "      <th>num_self_hrefs</th>\n",
              "      <th>num_imgs</th>\n",
              "      <th>num_videos</th>\n",
              "      <th>average_token_length</th>\n",
              "      <th>num_keywords</th>\n",
              "      <th>data_channel_is_lifestyle</th>\n",
              "      <th>...</th>\n",
              "      <th>avg_negative_polarity</th>\n",
              "      <th>min_negative_polarity</th>\n",
              "      <th>max_negative_polarity</th>\n",
              "      <th>title_subjectivity</th>\n",
              "      <th>title_sentiment_polarity</th>\n",
              "      <th>abs_title_subjectivity</th>\n",
              "      <th>abs_title_sentiment_polarity</th>\n",
              "      <th>shares</th>\n",
              "      <th>popularity</th>\n",
              "      <th>cluster</th>\n",
              "    </tr>\n",
              "  </thead>\n",
              "  <tbody>\n",
              "    <tr>\n",
              "      <th>0</th>\n",
              "      <td>0.633761</td>\n",
              "      <td>-0.636134</td>\n",
              "      <td>0.812476</td>\n",
              "      <td>-0.444444</td>\n",
              "      <td>-0.333333</td>\n",
              "      <td>0.000000</td>\n",
              "      <td>0.0</td>\n",
              "      <td>0.017074</td>\n",
              "      <td>-0.829843</td>\n",
              "      <td>0.0</td>\n",
              "      <td>...</td>\n",
              "      <td>-0.667997</td>\n",
              "      <td>-0.248889</td>\n",
              "      <td>-1.333333</td>\n",
              "      <td>0.750000</td>\n",
              "      <td>-1.375</td>\n",
              "      <td>-1.500000</td>\n",
              "      <td>0.750000</td>\n",
              "      <td>6.385194</td>\n",
              "      <td>Unpopular</td>\n",
              "      <td>2</td>\n",
              "    </tr>\n",
              "    <tr>\n",
              "      <th>1</th>\n",
              "      <td>-0.366239</td>\n",
              "      <td>-0.489067</td>\n",
              "      <td>0.436317</td>\n",
              "      <td>-0.555556</td>\n",
              "      <td>-0.666667</td>\n",
              "      <td>0.000000</td>\n",
              "      <td>0.0</td>\n",
              "      <td>0.639390</td>\n",
              "      <td>-1.380182</td>\n",
              "      <td>0.0</td>\n",
              "      <td>...</td>\n",
              "      <td>1.006305</td>\n",
              "      <td>0.933333</td>\n",
              "      <td>0.000000</td>\n",
              "      <td>-0.250000</td>\n",
              "      <td>0.000</td>\n",
              "      <td>0.000000</td>\n",
              "      <td>0.000000</td>\n",
              "      <td>6.566672</td>\n",
              "      <td>Unpopular</td>\n",
              "      <td>2</td>\n",
              "    </tr>\n",
              "    <tr>\n",
              "      <th>2</th>\n",
              "      <td>-0.366239</td>\n",
              "      <td>-0.672094</td>\n",
              "      <td>0.232948</td>\n",
              "      <td>-0.555556</td>\n",
              "      <td>-0.666667</td>\n",
              "      <td>0.000000</td>\n",
              "      <td>0.0</td>\n",
              "      <td>-0.792290</td>\n",
              "      <td>-0.380182</td>\n",
              "      <td>0.0</td>\n",
              "      <td>...</td>\n",
              "      <td>-1.512690</td>\n",
              "      <td>-0.746667</td>\n",
              "      <td>-0.444444</td>\n",
              "      <td>-0.250000</td>\n",
              "      <td>0.000</td>\n",
              "      <td>0.000000</td>\n",
              "      <td>0.000000</td>\n",
              "      <td>7.313220</td>\n",
              "      <td>Popular</td>\n",
              "      <td>2</td>\n",
              "    </tr>\n",
              "    <tr>\n",
              "      <th>3</th>\n",
              "      <td>-0.366239</td>\n",
              "      <td>0.219733</td>\n",
              "      <td>-0.303499</td>\n",
              "      <td>0.111111</td>\n",
              "      <td>-1.000000</td>\n",
              "      <td>0.000000</td>\n",
              "      <td>0.0</td>\n",
              "      <td>-0.758763</td>\n",
              "      <td>0.000000</td>\n",
              "      <td>0.0</td>\n",
              "      <td>...</td>\n",
              "      <td>-0.810607</td>\n",
              "      <td>-0.248889</td>\n",
              "      <td>-0.888889</td>\n",
              "      <td>-0.250000</td>\n",
              "      <td>0.000</td>\n",
              "      <td>0.000000</td>\n",
              "      <td>0.000000</td>\n",
              "      <td>7.090077</td>\n",
              "      <td>Unpopular</td>\n",
              "      <td>2</td>\n",
              "    </tr>\n",
              "    <tr>\n",
              "      <th>4</th>\n",
              "      <td>0.911994</td>\n",
              "      <td>0.898597</td>\n",
              "      <td>-1.082499</td>\n",
              "      <td>1.222222</td>\n",
              "      <td>5.333333</td>\n",
              "      <td>6.333333</td>\n",
              "      <td>0.0</td>\n",
              "      <td>0.023824</td>\n",
              "      <td>0.000000</td>\n",
              "      <td>0.0</td>\n",
              "      <td>...</td>\n",
              "      <td>0.271840</td>\n",
              "      <td>0.000000</td>\n",
              "      <td>0.666667</td>\n",
              "      <td>0.659091</td>\n",
              "      <td>1.000</td>\n",
              "      <td>-1.363636</td>\n",
              "      <td>0.545455</td>\n",
              "      <td>6.224558</td>\n",
              "      <td>Unpopular</td>\n",
              "      <td>2</td>\n",
              "    </tr>\n",
              "  </tbody>\n",
              "</table>\n",
              "<p>5 rows × 58 columns</p>\n",
              "</div>\n",
              "      <button class=\"colab-df-convert\" onclick=\"convertToInteractive('df-90e6ec45-c619-46de-a7cd-8e0fdc28ee04')\"\n",
              "              title=\"Convert this dataframe to an interactive table.\"\n",
              "              style=\"display:none;\">\n",
              "        \n",
              "  <svg xmlns=\"http://www.w3.org/2000/svg\" height=\"24px\"viewBox=\"0 0 24 24\"\n",
              "       width=\"24px\">\n",
              "    <path d=\"M0 0h24v24H0V0z\" fill=\"none\"/>\n",
              "    <path d=\"M18.56 5.44l.94 2.06.94-2.06 2.06-.94-2.06-.94-.94-2.06-.94 2.06-2.06.94zm-11 1L8.5 8.5l.94-2.06 2.06-.94-2.06-.94L8.5 2.5l-.94 2.06-2.06.94zm10 10l.94 2.06.94-2.06 2.06-.94-2.06-.94-.94-2.06-.94 2.06-2.06.94z\"/><path d=\"M17.41 7.96l-1.37-1.37c-.4-.4-.92-.59-1.43-.59-.52 0-1.04.2-1.43.59L10.3 9.45l-7.72 7.72c-.78.78-.78 2.05 0 2.83L4 21.41c.39.39.9.59 1.41.59.51 0 1.02-.2 1.41-.59l7.78-7.78 2.81-2.81c.8-.78.8-2.07 0-2.86zM5.41 20L4 18.59l7.72-7.72 1.47 1.35L5.41 20z\"/>\n",
              "  </svg>\n",
              "      </button>\n",
              "      \n",
              "  <style>\n",
              "    .colab-df-container {\n",
              "      display:flex;\n",
              "      flex-wrap:wrap;\n",
              "      gap: 12px;\n",
              "    }\n",
              "\n",
              "    .colab-df-convert {\n",
              "      background-color: #E8F0FE;\n",
              "      border: none;\n",
              "      border-radius: 50%;\n",
              "      cursor: pointer;\n",
              "      display: none;\n",
              "      fill: #1967D2;\n",
              "      height: 32px;\n",
              "      padding: 0 0 0 0;\n",
              "      width: 32px;\n",
              "    }\n",
              "\n",
              "    .colab-df-convert:hover {\n",
              "      background-color: #E2EBFA;\n",
              "      box-shadow: 0px 1px 2px rgba(60, 64, 67, 0.3), 0px 1px 3px 1px rgba(60, 64, 67, 0.15);\n",
              "      fill: #174EA6;\n",
              "    }\n",
              "\n",
              "    [theme=dark] .colab-df-convert {\n",
              "      background-color: #3B4455;\n",
              "      fill: #D2E3FC;\n",
              "    }\n",
              "\n",
              "    [theme=dark] .colab-df-convert:hover {\n",
              "      background-color: #434B5C;\n",
              "      box-shadow: 0px 1px 3px 1px rgba(0, 0, 0, 0.15);\n",
              "      filter: drop-shadow(0px 1px 2px rgba(0, 0, 0, 0.3));\n",
              "      fill: #FFFFFF;\n",
              "    }\n",
              "  </style>\n",
              "\n",
              "      <script>\n",
              "        const buttonEl =\n",
              "          document.querySelector('#df-90e6ec45-c619-46de-a7cd-8e0fdc28ee04 button.colab-df-convert');\n",
              "        buttonEl.style.display =\n",
              "          google.colab.kernel.accessAllowed ? 'block' : 'none';\n",
              "\n",
              "        async function convertToInteractive(key) {\n",
              "          const element = document.querySelector('#df-90e6ec45-c619-46de-a7cd-8e0fdc28ee04');\n",
              "          const dataTable =\n",
              "            await google.colab.kernel.invokeFunction('convertToInteractive',\n",
              "                                                     [key], {});\n",
              "          if (!dataTable) return;\n",
              "\n",
              "          const docLinkHtml = 'Like what you see? Visit the ' +\n",
              "            '<a target=\"_blank\" href=https://colab.research.google.com/notebooks/data_table.ipynb>data table notebook</a>'\n",
              "            + ' to learn more about interactive tables.';\n",
              "          element.innerHTML = '';\n",
              "          dataTable['output_type'] = 'display_data';\n",
              "          await google.colab.output.renderOutput(dataTable, element);\n",
              "          const docLink = document.createElement('div');\n",
              "          docLink.innerHTML = docLinkHtml;\n",
              "          element.appendChild(docLink);\n",
              "        }\n",
              "      </script>\n",
              "    </div>\n",
              "  </div>\n",
              "  "
            ]
          },
          "metadata": {},
          "execution_count": 48
        }
      ],
      "execution_count": null
    },
    {
      "cell_type": "code",
      "source": [
        "#creating new datasets from the clusters\n",
        "clust1_data = clust_data[clust_data['cluster'] == 0]\n",
        "clust2_data = clust_data[clust_data['cluster'] == 1]\n",
        "clust3_data = clust_data[clust_data['cluster'] == 2]\n",
        "clust4_data = clust_data[clust_data['cluster'] == 3]\n",
        "print ('Cluster1 size: ',clust1_data.shape)\n",
        "print ('Cluster2 size: ',clust2_data.shape)\n",
        "print ('Cluster3 size: ',clust3_data.shape)\n",
        "print ('Cluster4 size: ',clust4_data.shape)"
      ],
      "metadata": {
        "tags": [],
        "cell_id": "0deacd4fa08c46cb956cd3638c1f93e4",
        "source_hash": "6faa713f",
        "execution_start": 1671225624088,
        "execution_millis": 67,
        "deepnote_to_be_reexecuted": false,
        "deepnote_cell_type": "code",
        "colab": {
          "base_uri": "https://localhost:8080/"
        },
        "id": "J5YhhlT4ukJ5",
        "outputId": "a44bb6f6-1cb6-4184-ca3f-34085e7df837"
      },
      "outputs": [
        {
          "output_type": "stream",
          "name": "stdout",
          "text": [
            "Cluster1 size:  (9079, 58)\n",
            "Cluster2 size:  (8815, 58)\n",
            "Cluster3 size:  (11459, 58)\n",
            "Cluster4 size:  (9110, 58)\n"
          ]
        }
      ],
      "execution_count": null
    },
    {
      "cell_type": "code",
      "source": [
        "from collections import Counter\n",
        "# the input variable are the numerical features of each article\n",
        "# the target ooutput variable is the categorical label popularity\n",
        "\n",
        "#Cluster 1\n",
        "X1 = clust1_data.iloc[:, :-3]\n",
        "y1 = clust1_data.iloc[:, -2]\n",
        "counter = Counter(y1)\n",
        "print(counter)\n",
        "\n",
        "#Cluster 2\n",
        "X2 = clust2_data.iloc[:, :-3]\n",
        "y2 = clust2_data.iloc[:, -2]\n",
        "counter = Counter(y2)\n",
        "print(counter)\n",
        "\n",
        "#Cluster 3\n",
        "X3 = clust3_data.iloc[:, :-3]\n",
        "y3 = clust3_data.iloc[:, -2]\n",
        "counter = Counter(y3)\n",
        "print(counter)\n",
        "\n",
        "#Cluster 4\n",
        "X4 = clust4_data.iloc[:, :-3]\n",
        "y4 = clust4_data.iloc[:, -2]\n",
        "counter = Counter(y1)\n",
        "print(counter)\n"
      ],
      "metadata": {
        "tags": [],
        "cell_id": "027c0d801d4d4d52b493f736fe5fd7a4",
        "source_hash": "a3c0c6b",
        "execution_start": 1671225624164,
        "execution_millis": 72,
        "deepnote_to_be_reexecuted": false,
        "deepnote_cell_type": "code",
        "colab": {
          "base_uri": "https://localhost:8080/"
        },
        "id": "Hzc3Wwr9ukKC",
        "outputId": "8e1dbc40-2ec2-464e-ce91-4925a511c643"
      },
      "outputs": [
        {
          "output_type": "stream",
          "name": "stdout",
          "text": [
            "Counter({'Popular': 4575, 'Unpopular': 4504})\n",
            "Counter({'Unpopular': 4874, 'Popular': 3941})\n",
            "Counter({'Unpopular': 6411, 'Popular': 5048})\n",
            "Counter({'Popular': 4575, 'Unpopular': 4504})\n"
          ]
        }
      ],
      "execution_count": null
    },
    {
      "cell_type": "markdown",
      "source": [
        "## Balancing dataset with SMOTE"
      ],
      "metadata": {
        "tags": [],
        "cell_id": "f5f204bc354343bca811097a5a831716",
        "is_collapsed": false,
        "formattedRanges": [],
        "deepnote_cell_type": "text-cell-h2",
        "id": "9FZz1A1OukKC"
      }
    },
    {
      "cell_type": "code",
      "source": [
        "'''\n",
        "!pip install imblearn==0.0\n",
        "\n",
        "from imblearn.over_sampling import SMOTE\n",
        "from matplotlib import pyplot\n",
        "from numpy import where\n",
        "'''"
      ],
      "metadata": {
        "tags": [],
        "cell_id": "74e188392fd846adab71ab9b1ed2d532",
        "source_hash": "57930e26",
        "execution_start": 1671225624245,
        "execution_millis": 11,
        "deepnote_to_be_reexecuted": false,
        "deepnote_cell_type": "code",
        "colab": {
          "base_uri": "https://localhost:8080/",
          "height": 35
        },
        "id": "zRpsWQLcukKD",
        "outputId": "e25a05df-dadd-4430-ad39-60cc697cc798"
      },
      "outputs": [
        {
          "output_type": "execute_result",
          "data": {
            "text/plain": [
              "'\\n!pip install imblearn==0.0\\n\\nfrom imblearn.over_sampling import SMOTE\\nfrom matplotlib import pyplot\\nfrom numpy import where\\n'"
            ],
            "application/vnd.google.colaboratory.intrinsic+json": {
              "type": "string"
            }
          },
          "metadata": {},
          "execution_count": 51
        }
      ],
      "execution_count": null
    },
    {
      "cell_type": "code",
      "source": [
        "'''\n",
        "#Balancing the data with SMOTE oversampling\n",
        "oversample = SMOTE()\n",
        "\n",
        "#Cluster 1 Balanced data \n",
        "X1, y1 = oversample.fit_resample(X1, y1)\n",
        "counter = Counter(y1)\n",
        "print(counter)\n",
        "\n",
        "#Cluster 2 Balanced data \n",
        "X2, y2 = oversample.fit_resample(X2, y2)\n",
        "counter = Counter(y2)\n",
        "print(counter)\n",
        "\n",
        "#Cluster 3 Balanced data \n",
        "X3, y3 = oversample.fit_resample(X3, y3)\n",
        "counter = Counter(y3)\n",
        "print(counter)\n",
        "\n",
        "#Cluster 4 Balanced data \n",
        "X4, y4 = oversample.fit_resample(X4, y4)\n",
        "counter = Counter(y4)\n",
        "print(counter)\n",
        "'''"
      ],
      "metadata": {
        "tags": [],
        "cell_id": "194c50c54cee4ab2a32189b352d33d73",
        "source_hash": "71f3a15b",
        "execution_start": 1671225624324,
        "execution_millis": 12079503,
        "deepnote_to_be_reexecuted": false,
        "deepnote_cell_type": "code",
        "colab": {
          "base_uri": "https://localhost:8080/",
          "height": 87
        },
        "id": "7qO2wRxPukKD",
        "outputId": "14169e0a-8908-4bd6-ccb6-6a769d172c31"
      },
      "outputs": [
        {
          "output_type": "execute_result",
          "data": {
            "text/plain": [
              "'\\n#Balancing the data with SMOTE oversampling\\noversample = SMOTE()\\n\\n#Cluster 1 Balanced data \\nX1, y1 = oversample.fit_resample(X1, y1)\\ncounter = Counter(y1)\\nprint(counter)\\n\\n#Cluster 2 Balanced data \\nX2, y2 = oversample.fit_resample(X2, y2)\\ncounter = Counter(y2)\\nprint(counter)\\n\\n#Cluster 3 Balanced data \\nX3, y3 = oversample.fit_resample(X3, y3)\\ncounter = Counter(y3)\\nprint(counter)\\n\\n#Cluster 4 Balanced data \\nX4, y4 = oversample.fit_resample(X4, y4)\\ncounter = Counter(y4)\\nprint(counter)\\n'"
            ],
            "application/vnd.google.colaboratory.intrinsic+json": {
              "type": "string"
            }
          },
          "metadata": {},
          "execution_count": 52
        }
      ],
      "execution_count": null
    },
    {
      "cell_type": "markdown",
      "source": [
        "## Feature Selection "
      ],
      "metadata": {
        "tags": [],
        "cell_id": "b5371287fe4e4f639e080d2fd60b846e",
        "is_collapsed": false,
        "formattedRanges": [],
        "deepnote_cell_type": "text-cell-h2",
        "id": "kCtSguAuukKE"
      }
    },
    {
      "cell_type": "markdown",
      "source": [
        "Since we have a classification problem with numerical input and categorical output we are going to perform feature selection with the two most popular methods:"
      ],
      "metadata": {
        "tags": [],
        "cell_id": "2fa4d365-1311-4da9-8172-dd45428539d3",
        "is_collapsed": false,
        "formattedRanges": [],
        "deepnote_cell_type": "text-cell-p",
        "id": "0FBqTBGCukKE"
      }
    },
    {
      "cell_type": "markdown",
      "source": [
        "- ANOVA F-score "
      ],
      "metadata": {
        "tags": [],
        "cell_id": "da2b1d0c-aad4-47ce-b028-1b62d27c26e1",
        "is_collapsed": false,
        "formattedRanges": [],
        "deepnote_cell_type": "text-cell-bullet",
        "id": "khSXllu9ukKE"
      }
    },
    {
      "cell_type": "markdown",
      "source": [
        "- Mutual Information "
      ],
      "metadata": {
        "tags": [],
        "cell_id": "f2b721d1-6f1e-4600-a1f1-0882b9e37a6a",
        "is_collapsed": false,
        "formattedRanges": [],
        "deepnote_cell_type": "text-cell-bullet",
        "id": "zz78dQ8gukKE"
      }
    },
    {
      "cell_type": "code",
      "source": [
        "#Function to extract the best features for each cluster and sort in order of best to worst\n",
        "def extract_best_features(feature_scores, feature_col, n=5, sort_metric=False):\n",
        "\n",
        "    temp = np.hstack((feature_scores.reshape(-1,1), feature_col.reshape(-1,1)))\n",
        "    features = pd.DataFrame(temp, columns=['score', 'name'])\n",
        "    features = features.sort_values(by=['score'], ascending=sort_metric).reset_index(drop=True)\n",
        "    best_features = features.iloc[:n, :].to_numpy()\n",
        "    return best_features"
      ],
      "metadata": {
        "tags": [],
        "cell_id": "fe635c8e3774458fbe9f5f66aceb3a67",
        "source_hash": "d340e5cf",
        "execution_start": 1671225624358,
        "execution_millis": 12079523,
        "deepnote_to_be_reexecuted": false,
        "deepnote_cell_type": "code",
        "id": "1dFq9R5CukKE"
      },
      "outputs": [],
      "execution_count": null
    },
    {
      "cell_type": "markdown",
      "source": [
        "### ANOVA F-value"
      ],
      "metadata": {
        "tags": [],
        "cell_id": "3563183ca597426396f7d272af1389d5",
        "is_collapsed": false,
        "formattedRanges": [],
        "deepnote_cell_type": "text-cell-h3",
        "id": "uNr0nPktukKF"
      }
    },
    {
      "cell_type": "code",
      "source": [
        "from sklearn.feature_selection import f_classif"
      ],
      "metadata": {
        "tags": [],
        "cell_id": "7e1ebcbb48364bec9d92ae316dc5aa16",
        "source_hash": "dc0d274",
        "execution_start": 1671225624359,
        "execution_millis": 3,
        "deepnote_to_be_reexecuted": false,
        "deepnote_cell_type": "code",
        "id": "WlJhCu-LukKF"
      },
      "outputs": [],
      "execution_count": null
    },
    {
      "cell_type": "code",
      "source": [
        "#Compute the ANOVA F-values for each cluster \n",
        "\n",
        "# F-value for cluster 1\n",
        "f_data_clust1 = f_classif(X1, y1)\n",
        "\n",
        "# F-value for cluster 2\n",
        "f_data_clust2 = f_classif(X2, y2)\n",
        "\n",
        "# F-value for cluster 3\n",
        "f_data_clust3 = f_classif(X3, y3)\n",
        "\n",
        "# F-value for cluster 4\n",
        "f_data_clust4 = f_classif(X4, y4)"
      ],
      "metadata": {
        "tags": [],
        "cell_id": "07013b957353443bb17698786a890c7a",
        "source_hash": "ab0d0dbd",
        "execution_start": 1671225624359,
        "execution_millis": 166,
        "deepnote_to_be_reexecuted": false,
        "deepnote_cell_type": "code",
        "id": "i5uVNSYqukKG"
      },
      "outputs": [],
      "execution_count": null
    },
    {
      "cell_type": "code",
      "source": [
        "#Extract the 10 best features for cluster 1\n",
        "fval_best_features1 = extract_best_features(f_data_clust1[0], X1.columns.values, n=10)\n",
        "fval_best_features1\n",
        "\n",
        "# plot the best features for cluster 1\n",
        "plt.figure(figsize=(10,5))\n",
        "plt.bar(fval_best_features1[:,1], fval_best_features1[:,0])\n",
        "plt.xticks(rotation=90)\n",
        "plt.xlabel('Features')\n",
        "plt.ylabel('F-value')\n",
        "plt.title('ANOVA F-value: Best Features for Cluster 1')\n",
        "plt.show()\n"
      ],
      "metadata": {
        "tags": [],
        "cell_id": "16c914c44f2848c1a0fe4cf5e614e2c9",
        "source_hash": "8e9dc4ae",
        "execution_start": 1671225624570,
        "execution_millis": 719,
        "deepnote_to_be_reexecuted": false,
        "deepnote_cell_type": "code",
        "colab": {
          "base_uri": "https://localhost:8080/",
          "height": 464
        },
        "id": "3IWpbbeCukKG",
        "outputId": "13508f3b-cf7c-406e-8cb1-610527874c99"
      },
      "outputs": [
        {
          "output_type": "display_data",
          "data": {
            "text/plain": [
              "<Figure size 720x360 with 1 Axes>"
            ],
            "image/png": "[encoded data removed]"
          },
          "metadata": {
            "needs_background": "light"
          }
        }
      ],
      "execution_count": null
    },
    {
      "cell_type": "code",
      "source": [
        "#Extract the 10 best features for cluster 2\n",
        "fval_best_features2 = extract_best_features(f_data_clust2[0], X2.columns.values, n=10)\n",
        "fval_best_features2\n",
        "\n",
        "# plot the best features for cluster 2\n",
        "plt.figure(figsize=(10,5))\n",
        "plt.bar(fval_best_features2[:,1], fval_best_features2[:,0])\n",
        "plt.xticks(rotation=90)\n",
        "plt.xlabel('Features')\n",
        "plt.ylabel('F-value')\n",
        "plt.title('ANOVA F-value: Best Features for Cluster 2')\n",
        "plt.show()\n"
      ],
      "metadata": {
        "tags": [],
        "cell_id": "15c0727f9afb49569542996c1759352e",
        "source_hash": "acf0cdd6",
        "execution_start": 1671225625287,
        "execution_millis": 752,
        "deepnote_to_be_reexecuted": false,
        "deepnote_cell_type": "code",
        "colab": {
          "base_uri": "https://localhost:8080/",
          "height": 497
        },
        "id": "R0uClZDHukKG",
        "outputId": "e99116a4-bbeb-478c-a445-36d97358d9fc"
      },
      "outputs": [
        {
          "output_type": "display_data",
          "data": {
            "text/plain": [
              "<Figure size 720x360 with 1 Axes>"
            ],
            "image/png": "[encoded data removed]"
          },
          "metadata": {
            "needs_background": "light"
          }
        }
      ],
      "execution_count": null
    },
    {
      "cell_type": "code",
      "source": [
        "#Extract the 10 best features for cluster 3\n",
        "fval_best_features3 = extract_best_features(f_data_clust3[0], X3.columns.values, n=10)\n",
        "fval_best_features3\n",
        "\n",
        "# plot the best features for cluster 3\n",
        "plt.figure(figsize=(10,5))\n",
        "plt.bar(fval_best_features3[:,1], fval_best_features3[:,0])\n",
        "plt.xticks(rotation=90)\n",
        "plt.xlabel('Features')\n",
        "plt.ylabel('F-value')\n",
        "plt.title('ANOVA F-value: Best Features for Cluster 3')\n",
        "plt.show()"
      ],
      "metadata": {
        "tags": [],
        "cell_id": "c4c41db3b68c43c495e4d4e854bac4c7",
        "source_hash": "3221b8cc",
        "execution_start": 1671225626043,
        "execution_millis": 814,
        "deepnote_to_be_reexecuted": false,
        "deepnote_cell_type": "code",
        "colab": {
          "base_uri": "https://localhost:8080/",
          "height": 464
        },
        "id": "bS4AbEiQukKG",
        "outputId": "d1e37ccc-6668-4b11-fc38-d3744c85486d"
      },
      "outputs": [
        {
          "output_type": "display_data",
          "data": {
            "text/plain": [
              "<Figure size 720x360 with 1 Axes>"
            ],
            "image/png": "[encoded data removed]"
          },
          "metadata": {
            "needs_background": "light"
          }
        }
      ],
      "execution_count": null
    },
    {
      "cell_type": "code",
      "source": [
        "#Extract the 10 best features for cluster 4\n",
        "fval_best_features4 = extract_best_features(f_data_clust4[0], X4.columns.values, n=10)\n",
        "fval_best_features4\n",
        "\n",
        "# plot the best features for cluster 4\n",
        "plt.figure(figsize=(10,5))\n",
        "plt.bar(fval_best_features4[:,1], fval_best_features4[:,0])\n",
        "plt.xticks(rotation=90)\n",
        "plt.xlabel('Features')\n",
        "plt.ylabel('F-value')\n",
        "plt.title('ANOVA F-value: Best Features for Cluster 4')\n",
        "plt.show()"
      ],
      "metadata": {
        "tags": [],
        "cell_id": "202faf9ac68a4900b156822912ace0ff",
        "source_hash": "6355baf3",
        "execution_start": 1671225626877,
        "execution_millis": 787,
        "deepnote_to_be_reexecuted": false,
        "deepnote_cell_type": "code",
        "colab": {
          "base_uri": "https://localhost:8080/",
          "height": 497
        },
        "id": "KR1xoQWsukKH",
        "outputId": "844fca6d-2525-44dc-9572-e94b25394c99"
      },
      "outputs": [
        {
          "output_type": "display_data",
          "data": {
            "text/plain": [
              "<Figure size 720x360 with 1 Axes>"
            ],
            "image/png": "[encoded data removed]"
          },
          "metadata": {
            "needs_background": "light"
          }
        }
      ],
      "execution_count": null
    },
    {
      "cell_type": "markdown",
      "source": [
        "### Mutual Information "
      ],
      "metadata": {
        "tags": [],
        "cell_id": "2caa07df268f453b9129861afb9b24b8",
        "is_collapsed": false,
        "formattedRanges": [],
        "deepnote_cell_type": "text-cell-h3",
        "id": "FJ7KqtC9ukKH"
      }
    },
    {
      "cell_type": "code",
      "source": [
        "# Mutual Information future selection\n",
        "# the input variable are the numerical features of each article\n",
        "# the target ooutput variable is the categorical label popularity\n",
        "from sklearn.feature_selection import mutual_info_classif\n",
        "\n",
        "# Mutual information for cluster 1\n",
        "mi_data_clust1 = mutual_info_classif(X1, y1)\n",
        "\n",
        "# Mutual information for cluster 2\n",
        "mi_data_clust2 = mutual_info_classif(X2, y2)\n",
        "\n",
        "# Mutual information for cluster 3\n",
        "mi_data_clust3 = mutual_info_classif(X3, y3)\n",
        "\n",
        "# Mutual information for cluster 4\n",
        "mi_data_clust4 = mutual_info_classif(X4, y4)"
      ],
      "metadata": {
        "tags": [],
        "cell_id": "0857e8cbe1594d748379799309999e18",
        "source_hash": "6134a136",
        "execution_start": 1671225627673,
        "execution_millis": 33511,
        "deepnote_to_be_reexecuted": false,
        "deepnote_cell_type": "code",
        "id": "6wAXLiuNukKH"
      },
      "outputs": [],
      "execution_count": null
    },
    {
      "cell_type": "code",
      "source": [
        "#Extract the 10 best features for cluster 1\n",
        "mi_best_features1 = extract_best_features(mi_data_clust1, X1.columns.values, n=10)\n",
        "\n",
        "# plot the best features for cluster 1\n",
        "plt.figure(figsize=(10,5))\n",
        "plt.bar(mi_best_features1[:,1], mi_best_features1[:,0])\n",
        "plt.xticks(rotation=90)\n",
        "plt.xlabel('Features')\n",
        "plt.ylabel('Mutual Information Score')\n",
        "plt.title('MI: Best Features for Cluster 1')\n",
        "plt.show()"
      ],
      "metadata": {
        "tags": [],
        "cell_id": "af6c1d2e61e3482fa48c149145990b84",
        "source_hash": "ddd0f74b",
        "execution_start": 1671225661227,
        "execution_millis": 714,
        "deepnote_to_be_reexecuted": false,
        "deepnote_cell_type": "code",
        "colab": {
          "base_uri": "https://localhost:8080/",
          "height": 477
        },
        "id": "hAEMYE8qukKH",
        "outputId": "509f5e3b-a538-43cb-8535-a053276afced"
      },
      "outputs": [
        {
          "output_type": "display_data",
          "data": {
            "text/plain": [
              "<Figure size 720x360 with 1 Axes>"
            ],
            "image/png": "[encoded data removed]"
          },
          "metadata": {
            "needs_background": "light"
          }
        }
      ],
      "execution_count": null
    },
    {
      "cell_type": "code",
      "source": [
        "#Extract the 10 best features for cluster 2\n",
        "mi_best_features2 = extract_best_features(mi_data_clust2, X2.columns.values, n=10)\n",
        "\n",
        "# plot the best features for cluster 2\n",
        "plt.figure(figsize=(10,5))\n",
        "plt.bar(mi_best_features2[:,1], mi_best_features2[:,0])\n",
        "plt.xticks(rotation=90)\n",
        "plt.xlabel('Features')\n",
        "plt.ylabel('Mutual Information Score')\n",
        "plt.title('MI: Best Features for Cluster 2')\n",
        "plt.show()"
      ],
      "metadata": {
        "tags": [],
        "cell_id": "9b385ebb45284cd4927ea03a694d40ca",
        "source_hash": "e8a8ff73",
        "execution_start": 1671225661980,
        "execution_millis": 682,
        "deepnote_to_be_reexecuted": false,
        "deepnote_cell_type": "code",
        "colab": {
          "base_uri": "https://localhost:8080/",
          "height": 497
        },
        "id": "6BAhARSaukKI",
        "outputId": "2e92c928-3980-436f-b1b9-2078eba46cff"
      },
      "outputs": [
        {
          "output_type": "display_data",
          "data": {
            "text/plain": [
              "<Figure size 720x360 with 1 Axes>"
            ],
            "image/png": "[encoded data removed]"
          },
          "metadata": {
            "needs_background": "light"
          }
        }
      ],
      "execution_count": null
    },
    {
      "cell_type": "code",
      "source": [
        "#Extract the 10 best features for cluster 3\n",
        "mi_best_features3 = extract_best_features(mi_data_clust3, X3.columns.values, n=10)\n",
        "\n",
        "# plot the best features for cluster 3\n",
        "plt.figure(figsize=(10,5))\n",
        "plt.bar(mi_best_features3[:,1], mi_best_features3[:,0])\n",
        "plt.xticks(rotation=90)\n",
        "plt.xlabel('Features')\n",
        "plt.ylabel('Mutual Information Score')\n",
        "plt.title('MI: Best Features for Cluster 3')\n",
        "plt.show()"
      ],
      "metadata": {
        "tags": [],
        "cell_id": "3f5885bc99c345e69dfddbc9fefc1acc",
        "source_hash": "afaaf7be",
        "execution_start": 1671225662673,
        "execution_millis": 763,
        "deepnote_to_be_reexecuted": false,
        "deepnote_cell_type": "code",
        "colab": {
          "base_uri": "https://localhost:8080/",
          "height": 472
        },
        "id": "24JIhjWgukKI",
        "outputId": "9f90e63c-e3e8-4249-ceb3-0e5b15acf0b9"
      },
      "outputs": [
        {
          "output_type": "display_data",
          "data": {
            "text/plain": [
              "<Figure size 720x360 with 1 Axes>"
            ],
            "image/png": "[encoded data removed]"
          },
          "metadata": {
            "needs_background": "light"
          }
        }
      ],
      "execution_count": null
    },
    {
      "cell_type": "code",
      "source": [
        "#Extract the 10 best features for cluster 4\n",
        "mi_best_features4 = extract_best_features(mi_data_clust4, X4.columns.values, n=10)\n",
        "\n",
        "# plot the best features for cluster 4\n",
        "plt.figure(figsize=(10,5))\n",
        "plt.bar(mi_best_features4[:,1], mi_best_features4[:,0])\n",
        "plt.xticks(rotation=90)\n",
        "plt.xlabel('Features')\n",
        "plt.ylabel('Mutual Information Score')\n",
        "plt.title('MI: Best Features for Cluster 4')\n",
        "plt.show()"
      ],
      "metadata": {
        "tags": [],
        "cell_id": "12da7b3582cf4b95a5c23dc3ce1c36d8",
        "source_hash": "b75e43e5",
        "execution_start": 1671225663456,
        "execution_millis": 907,
        "deepnote_to_be_reexecuted": false,
        "deepnote_cell_type": "code",
        "colab": {
          "base_uri": "https://localhost:8080/",
          "height": 475
        },
        "id": "96Zr8jCwukKI",
        "outputId": "9c0338c4-df8e-402a-a38e-101c6de5bab9"
      },
      "outputs": [
        {
          "output_type": "display_data",
          "data": {
            "text/plain": [
              "<Figure size 720x360 with 1 Axes>"
            ],
            "image/png": "[encoded data removed]"
          },
          "metadata": {
            "needs_background": "light"
          }
        }
      ],
      "execution_count": null
    },
    {
      "cell_type": "markdown",
      "source": [
        "## Classification of Online News Popularity"
      ],
      "metadata": {
        "tags": [],
        "cell_id": "795189161d3a45918bc88813b914e418",
        "is_collapsed": false,
        "formattedRanges": [],
        "deepnote_cell_type": "text-cell-h2",
        "id": "77gl9ziUukKJ"
      }
    },
    {
      "cell_type": "markdown",
      "source": [
        "Since the mission of this project is to predict weather an online news article is popular or not, rather than to build a regression model that predicted how many times an article would eventually be shared, the problem is treated as a binary classification of popular and unpopular using the following 5 models: "
      ],
      "metadata": {
        "tags": [],
        "cell_id": "0eeead6199624942b9044dfd3c8a0d82",
        "is_collapsed": false,
        "formattedRanges": [
          {
            "type": "marks",
            "marks": {
              "bold": true,
              "italic": true
            },
            "toCodePoint": 256,
            "fromCodePoint": 235
          }
        ],
        "deepnote_cell_type": "text-cell-p",
        "id": "zuu-VvkZukKK"
      }
    },
    {
      "cell_type": "markdown",
      "source": [
        "- Logistic regression"
      ],
      "metadata": {
        "tags": [],
        "cell_id": "6cc02d49-e108-4dfa-a7ef-09f9c8a57d6c",
        "is_collapsed": false,
        "formattedRanges": [],
        "deepnote_cell_type": "text-cell-bullet",
        "id": "k4HaFB53ukKP"
      }
    },
    {
      "cell_type": "markdown",
      "source": [
        "- KNN"
      ],
      "metadata": {
        "tags": [],
        "cell_id": "0cf5d440-95b8-4fb1-b82d-b2cd9e36bc89",
        "is_collapsed": false,
        "formattedRanges": [],
        "deepnote_cell_type": "text-cell-bullet",
        "id": "TdnjgRFeukKQ"
      }
    },
    {
      "cell_type": "markdown",
      "source": [
        "- Decision trees"
      ],
      "metadata": {
        "tags": [],
        "cell_id": "11e997b9-00c8-4fe1-8d89-4062ee11d46e",
        "is_collapsed": false,
        "formattedRanges": [],
        "deepnote_cell_type": "text-cell-bullet",
        "id": "gWMDVBNhukKQ"
      }
    },
    {
      "cell_type": "markdown",
      "source": [
        "- Random Forest"
      ],
      "metadata": {
        "tags": [],
        "cell_id": "f9059390-db74-46fa-85ad-0807ea1b064a",
        "is_collapsed": false,
        "formattedRanges": [],
        "deepnote_cell_type": "text-cell-bullet",
        "id": "clB4Z0s3ukKQ"
      }
    },
    {
      "cell_type": "markdown",
      "source": [
        "- SVMs"
      ],
      "metadata": {
        "tags": [],
        "cell_id": "8e4de31e-8205-478f-8e34-21f95fd2d34c",
        "is_collapsed": false,
        "formattedRanges": [],
        "deepnote_cell_type": "text-cell-bullet",
        "id": "4HXhmqrfukKQ"
      }
    },
    {
      "cell_type": "code",
      "source": [
        "from sklearn.preprocessing import LabelEncoder\n",
        "from sklearn.model_selection import train_test_split\n",
        "from sklearn.metrics import classification_report, confusion_matrix\n",
        "from sklearn.metrics import f1_score\n"
      ],
      "metadata": {
        "tags": [],
        "cell_id": "8b7d4b7a74b94d7aa12f6acd8cf13fd1",
        "source_hash": "a711a542",
        "execution_start": 1671225664376,
        "execution_millis": 7,
        "deepnote_to_be_reexecuted": false,
        "deepnote_cell_type": "code",
        "id": "lZeI_DD6ukKQ"
      },
      "outputs": [],
      "execution_count": null
    },
    {
      "cell_type": "markdown",
      "source": [
        "### Logistic Regression"
      ],
      "metadata": {
        "tags": [],
        "cell_id": "b2c15b9cc14c4b159e424cc835d8bdb2",
        "is_collapsed": false,
        "formattedRanges": [],
        "deepnote_cell_type": "text-cell-h3",
        "id": "reV7XjChukKR"
      }
    },
    {
      "cell_type": "code",
      "source": [
        "from sklearn.linear_model import LogisticRegression"
      ],
      "metadata": {
        "tags": [],
        "cell_id": "df84428ffc08469eabfb079805b833df",
        "source_hash": "af35732f",
        "execution_start": 1671225664385,
        "execution_millis": 12099283,
        "deepnote_to_be_reexecuted": false,
        "deepnote_cell_type": "code",
        "id": "bSSI_LkhukKR"
      },
      "outputs": [],
      "execution_count": null
    },
    {
      "cell_type": "markdown",
      "source": [
        "ANOVA F-value"
      ],
      "metadata": {
        "tags": [],
        "cell_id": "70d71fbaaee74e8abef451096ce6a9f6",
        "is_collapsed": false,
        "formattedRanges": [
          {
            "type": "marks",
            "marks": {
              "bold": true
            },
            "toCodePoint": 13,
            "fromCodePoint": 0
          }
        ],
        "deepnote_cell_type": "text-cell-p",
        "id": "vfdJUXK1ukKR"
      }
    },
    {
      "cell_type": "code",
      "source": [
        "def logistic_regression_news_model(name: str, target_labels, X, fval_best_features):\n",
        "\n",
        "    labelEn = LabelEncoder()\n",
        "    target_labels = labelEn.fit_transform(target_labels)\n",
        "\n",
        "    unused_features = list(set(X.columns.values) - set(fval_best_features[:,1]))\n",
        "    data_cluster_fval = X.drop(unused_features, axis=1, inplace=False)\n",
        "\n",
        "    X_train_LR, X_test_LR, y_train_LR, y_test_LR = train_test_split(data_cluster_fval, target_labels, test_size=0.3, shuffle=False)\n",
        "\n",
        "    lr = LogisticRegression().fit(X_train_LR, y_train_LR)\n",
        "    y_pred_LR = lr.predict(X_test_LR)\n",
        "\n",
        "    print(f\"{name} - Linear regression Results for ANOVA F-value:\")\n",
        "    print(classification_report(y_test_LR, y_pred_LR))\n",
        "    print(\"Confusion Matrix:\")\n",
        "    print(confusion_matrix(y_test_LR, y_pred_LR))\n",
        "    print(\"\\n\")\n",
        "\n",
        "    return Counter(y_pred_LR), accuracy_score(y_test_LR,y_pred_LR), precision_score(y_test_LR,y_pred_LR), recall_score(y_test_LR,y_pred_LR), f1_score(y_test_LR,y_pred_LR)\n",
        "\n",
        "\n",
        "\n",
        "lr1 = logistic_regression_news_model(\"Cluster 1\", y1.values, X1, fval_best_features1)\n",
        "lr2 = logistic_regression_news_model(\"Cluster 2\", y2.values, X2, fval_best_features2)\n",
        "lr3 = logistic_regression_news_model(\"Cluster 3\", y3.values, X3, fval_best_features3)\n",
        "lr4 = logistic_regression_news_model(\"Cluster 4\", y4.values, X4, fval_best_features4)"
      ],
      "metadata": {
        "tags": [],
        "cell_id": "960e84dd17184b87b09d14c50bc4a873",
        "source_hash": "86f6bcb8",
        "execution_start": 1671228285582,
        "execution_millis": 1132,
        "deepnote_to_be_reexecuted": false,
        "deepnote_cell_type": "code",
        "colab": {
          "base_uri": "https://localhost:8080/"
        },
        "id": "O0x8m7fNukKR",
        "outputId": "5822b5e6-655b-4383-9fd4-6a5bbf405208"
      },
      "outputs": [
        {
          "output_type": "stream",
          "name": "stdout",
          "text": [
            "Cluster 1 - Linear regression Results for ANOVA F-value:\n",
            "              precision    recall  f1-score   support\n",
            "\n",
            "           0       0.73      0.56      0.63      1430\n",
            "           1       0.61      0.77      0.68      1294\n",
            "\n",
            "    accuracy                           0.66      2724\n",
            "   macro avg       0.67      0.66      0.66      2724\n",
            "weighted avg       0.67      0.66      0.66      2724\n",
            "\n",
            "Confusion Matrix:\n",
            "[[804 626]\n",
            " [304 990]]\n",
            "\n",
            "\n",
            "Cluster 2 - Linear regression Results for ANOVA F-value:\n",
            "              precision    recall  f1-score   support\n",
            "\n",
            "           0       0.63      0.48      0.55      1111\n",
            "           1       0.68      0.79      0.73      1534\n",
            "\n",
            "    accuracy                           0.66      2645\n",
            "   macro avg       0.65      0.64      0.64      2645\n",
            "weighted avg       0.66      0.66      0.65      2645\n",
            "\n",
            "Confusion Matrix:\n",
            "[[ 536  575]\n",
            " [ 319 1215]]\n",
            "\n",
            "\n",
            "Cluster 3 - Linear regression Results for ANOVA F-value:\n",
            "              precision    recall  f1-score   support\n",
            "\n",
            "           0       0.57      0.23      0.33      1199\n",
            "           1       0.69      0.91      0.78      2239\n",
            "\n",
            "    accuracy                           0.67      3438\n",
            "   macro avg       0.63      0.57      0.56      3438\n",
            "weighted avg       0.65      0.67      0.62      3438\n",
            "\n",
            "Confusion Matrix:\n",
            "[[ 276  923]\n",
            " [ 207 2032]]\n",
            "\n",
            "\n",
            "Cluster 4 - Linear regression Results for ANOVA F-value:\n",
            "              precision    recall  f1-score   support\n",
            "\n",
            "           0       0.65      0.83      0.73      1512\n",
            "           1       0.68      0.44      0.53      1221\n",
            "\n",
            "    accuracy                           0.66      2733\n",
            "   macro avg       0.66      0.64      0.63      2733\n",
            "weighted avg       0.66      0.66      0.64      2733\n",
            "\n",
            "Confusion Matrix:\n",
            "[[1260  252]\n",
            " [ 684  537]]\n",
            "\n",
            "\n"
          ]
        }
      ],
      "execution_count": null
    },
    {
      "cell_type": "code",
      "source": [
        "labels = ['Cluster 1', 'Cluster 2', 'Cluster 3', 'Cluster 4']\n",
        "\n",
        "p1 = round(lr1[0][0] / (lr1[0][0] + lr1[0][1]), 2)\n",
        "p2 = round(lr2[0][0] / (lr2[0][0] + lr2[0][1]), 2)\n",
        "p3 = round(lr3[0][0] / (lr3[0][0] + lr3[0][1]), 2)\n",
        "p4 = round(lr4[0][0] / (lr4[0][0] + lr4[0][1]), 2)\n",
        "\n",
        "men_means = [p1, p2, p3, p4]\n",
        "women_means = [1-p1, 1-p2, 1-p3, 1-p4]\n",
        "\n",
        "x = np.arange(len(labels))  # the label locations\n",
        "width = 0.35  # the width of the bars\n",
        "\n",
        "fig, ax = plt.subplots()\n",
        "rects1 = ax.bar(x - width/2, men_means, width, label='Popular')\n",
        "rects2 = ax.bar(x + width/2, women_means, width, label='Unpopular')\n",
        "\n",
        "# Add some text for labels, title and custom x-axis tick labels, etc.\n",
        "ax.set_ylabel('Class scores')\n",
        "ax.set_title('% of Popular and Unpopular predictions of Logistic Regression for each cluster')\n",
        "ax.set_xticks(x, labels)\n",
        "ax.legend()\n",
        "#ax.bar_label(rects1, padding=3)\n",
        "#ax.bar_label(rects2, padding=3)\n",
        "\n",
        "fig.tight_layout()\n",
        "\n",
        "plt.show()"
      ],
      "metadata": {
        "tags": [],
        "cell_id": "6302d10a7451413ab620545e1e67bdbe",
        "source_hash": "bb173c8f",
        "execution_start": 1671225665816,
        "execution_millis": 870,
        "deepnote_to_be_reexecuted": false,
        "deepnote_cell_type": "code",
        "colab": {
          "base_uri": "https://localhost:8080/",
          "height": 352
        },
        "id": "ws5hZGIJukKS",
        "outputId": "efd8648d-0d97-46af-8e40-275e7214db93"
      },
      "outputs": [
        {
          "output_type": "stream",
          "name": "stderr",
          "text": [
            "<ipython-input-74-c646970faa9e>:21: MatplotlibDeprecationWarning: Passing the minor parameter of set_xticks() positionally is deprecated since Matplotlib 3.2; the parameter will become keyword-only two minor releases later.\n",
            "  ax.set_xticks(x, labels)\n"
          ]
        },
        {
          "output_type": "display_data",
          "data": {
            "text/plain": [
              "<Figure size 432x288 with 1 Axes>"
            ],
            "image/png": "[encoded data removed]"
          },
          "metadata": {
            "needs_background": "light"
          }
        }
      ],
      "execution_count": null
    },
    {
      "cell_type": "markdown",
      "source": [
        "Mutual Information"
      ],
      "metadata": {
        "tags": [],
        "cell_id": "2834e28a-5cb6-4269-ab94-48aec2d3e1ac",
        "is_collapsed": false,
        "formattedRanges": [
          {
            "type": "marks",
            "marks": {
              "bold": true
            },
            "toCodePoint": 18,
            "fromCodePoint": 0
          }
        ],
        "deepnote_cell_type": "text-cell-p",
        "id": "L9FFuMy5ukKT"
      }
    },
    {
      "cell_type": "code",
      "source": [
        "def logistic_regression_news_model(name: str, target_labels, X, mi_best_features):\n",
        "\n",
        "    labelEn = LabelEncoder()\n",
        "    target_labels = labelEn.fit_transform(target_labels)\n",
        "\n",
        "    unused_features = list(set(X.columns.values) - set(mi_best_features[:,1]))\n",
        "    data_cluster_fval = X.drop(unused_features, axis=1, inplace=False)\n",
        "\n",
        "    X_train, X_test, y_train, y_test = train_test_split(data_cluster_fval, target_labels, test_size=0.3, shuffle=False)\n",
        "\n",
        "    lr = LogisticRegression().fit(X_train, y_train)\n",
        "    y_pred = lr.predict(X_test)\n",
        "\n",
        "    print(f\"{name} - Linear regression Results for ANOVA F-value:\")\n",
        "    print(classification_report(y_test, y_pred))\n",
        "    print(\"Confusion Matrix:\")\n",
        "    print(confusion_matrix(y_test, y_pred))\n",
        "    print(\"\\n\")\n",
        "\n",
        "    return Counter(y_pred)\n",
        "\n",
        "\n",
        "\n",
        "lr1 = logistic_regression_news_model(\"Cluster 1\", y1.values, X1, mi_best_features1)\n",
        "lr2 = logistic_regression_news_model(\"Cluster 2\", y2.values, X2, mi_best_features2)\n",
        "lr3 = logistic_regression_news_model(\"Cluster 3\", y3.values, X3, mi_best_features3)\n",
        "lr4 = logistic_regression_news_model(\"Cluster 4\", y4.values, X4, mi_best_features4)\n",
        "\n"
      ],
      "metadata": {
        "tags": [],
        "cell_id": "ca87eb18b32348eba8a4dc797a81ce1f",
        "source_hash": "4347c498",
        "execution_start": 1671225666720,
        "execution_millis": 1206,
        "deepnote_to_be_reexecuted": false,
        "deepnote_cell_type": "code",
        "colab": {
          "base_uri": "https://localhost:8080/"
        },
        "id": "w1350RH2ukKT",
        "outputId": "8cee2913-a59b-45f3-e138-6c596c34d021"
      },
      "outputs": [
        {
          "output_type": "stream",
          "name": "stdout",
          "text": [
            "Cluster 1 - Linear regression Results for ANOVA F-value:\n",
            "              precision    recall  f1-score   support\n",
            "\n",
            "           0       0.62      0.72      0.67      1430\n",
            "           1       0.63      0.52      0.57      1294\n",
            "\n",
            "    accuracy                           0.63      2724\n",
            "   macro avg       0.63      0.62      0.62      2724\n",
            "weighted avg       0.63      0.63      0.62      2724\n",
            "\n",
            "Confusion Matrix:\n",
            "[[1036  394]\n",
            " [ 624  670]]\n",
            "\n",
            "\n",
            "Cluster 2 - Linear regression Results for ANOVA F-value:\n",
            "              precision    recall  f1-score   support\n",
            "\n",
            "           0       0.61      0.46      0.52      1111\n",
            "           1       0.67      0.79      0.72      1534\n",
            "\n",
            "    accuracy                           0.65      2645\n",
            "   macro avg       0.64      0.62      0.62      2645\n",
            "weighted avg       0.64      0.65      0.64      2645\n",
            "\n",
            "Confusion Matrix:\n",
            "[[ 509  602]\n",
            " [ 329 1205]]\n",
            "\n",
            "\n",
            "Cluster 3 - Linear regression Results for ANOVA F-value:\n",
            "              precision    recall  f1-score   support\n",
            "\n",
            "           0       0.55      0.41      0.47      1199\n",
            "           1       0.72      0.82      0.77      2239\n",
            "\n",
            "    accuracy                           0.68      3438\n",
            "   macro avg       0.63      0.61      0.62      3438\n",
            "weighted avg       0.66      0.68      0.66      3438\n",
            "\n",
            "Confusion Matrix:\n",
            "[[ 491  708]\n",
            " [ 409 1830]]\n",
            "\n",
            "\n",
            "Cluster 4 - Linear regression Results for ANOVA F-value:\n",
            "              precision    recall  f1-score   support\n",
            "\n",
            "           0       0.62      0.88      0.73      1512\n",
            "           1       0.70      0.34      0.46      1221\n",
            "\n",
            "    accuracy                           0.64      2733\n",
            "   macro avg       0.66      0.61      0.60      2733\n",
            "weighted avg       0.66      0.64      0.61      2733\n",
            "\n",
            "Confusion Matrix:\n",
            "[[1330  182]\n",
            " [ 801  420]]\n",
            "\n",
            "\n"
          ]
        }
      ],
      "execution_count": null
    },
    {
      "cell_type": "markdown",
      "source": [
        "### KNN"
      ],
      "metadata": {
        "tags": [],
        "cell_id": "13de0e5ff8e4488ab379d555588f92ef",
        "is_collapsed": false,
        "formattedRanges": [],
        "deepnote_cell_type": "text-cell-h3",
        "id": "tGABNVf5ukKU"
      }
    },
    {
      "cell_type": "code",
      "source": [
        "from sklearn.neighbors import KNeighborsClassifier"
      ],
      "metadata": {
        "tags": [],
        "cell_id": "ffd53eabf44c4cd082fa9bf758f63956",
        "source_hash": "4e690cc3",
        "execution_start": 1671225667935,
        "execution_millis": 18,
        "deepnote_to_be_reexecuted": false,
        "deepnote_cell_type": "code",
        "id": "TH9JiXmvukKU"
      },
      "outputs": [],
      "execution_count": null
    },
    {
      "cell_type": "markdown",
      "source": [
        "ANOVA F-value"
      ],
      "metadata": {
        "tags": [],
        "cell_id": "9f3e741f-32a5-45c0-bb29-f18034baebc6",
        "is_collapsed": false,
        "formattedRanges": [
          {
            "type": "marks",
            "marks": {
              "bold": true
            },
            "toCodePoint": 13,
            "fromCodePoint": 0
          }
        ],
        "deepnote_cell_type": "text-cell-p",
        "id": "UO5NOalFukKU"
      }
    },
    {
      "cell_type": "code",
      "source": [
        "def knn_news_model(name: str, target_labels, X, fval_best_features):\n",
        "    #LR for cluster 1\n",
        "    labelEn = LabelEncoder()\n",
        "    target_labels = labelEn.fit_transform(target_labels)\n",
        "\n",
        "    unused_features = list(set(X.columns.values) - set(fval_best_features[:,1]))\n",
        "    data_cluster_fval = X.drop(unused_features, axis=1, inplace=False)\n",
        "\n",
        "    X_train_KN, X_test_KN, y_train_KN, y_test_KN = train_test_split(data_cluster_fval, target_labels, test_size=0.3, shuffle=False)\n",
        "\n",
        "    knn = KNeighborsClassifier(n_neighbors=50).fit(X_train_KN, y_train_KN)\n",
        "    y_pred_KN = knn.predict(X_test_KN)\n",
        "\n",
        "    print(f\"{name} - KNN (k=50) for ANOVA F-value:\")\n",
        "    print(classification_report(y_test_KN, y_pred_KN))\n",
        "    print(\"Confusion Matrix:\")\n",
        "    print(confusion_matrix(y_test_KN, y_pred_KN))\n",
        "    print(\"\\n\")\n",
        "\n",
        "    return Counter(y_pred_KN), accuracy_score(y_test_KN,y_pred_KN), precision_score(y_test_KN,y_pred_KN), recall_score(y_test_KN,y_pred_KN), f1_score(y_test_KN,y_pred_KN)\n",
        "\n",
        "knn1 = knn_news_model(\"Cluster 1\", y1.values, X1, fval_best_features1)\n",
        "knn2 = knn_news_model(\"Cluster 2\", y2.values, X2, fval_best_features2)\n",
        "knn3 = knn_news_model(\"Cluster 3\", y3.values, X3, fval_best_features3)\n",
        "knn4 = knn_news_model(\"Cluster 3\", y4.values, X4, fval_best_features4)\n",
        "'''\n",
        "for k in [5, 10, 15, 20, 30, 40, 50]:\n",
        "    knn_news_model(\"Cluster 2\", k, y2.values, X2, fval_best_features2)\n",
        "for k in [5, 10, 15, 20, 30, 40, 50]:\n",
        "    knn_news_model(\"Cluster 3\", k, y3.values, X3, fval_best_features3)\n",
        "for k in [5, 10, 15, 20, 30, 40, 50]:\n",
        "    knn_news_model(\"Cluster 4\", k, y4.values, X4, fval_best_features4)\n",
        "    \n",
        "'''\n"
      ],
      "metadata": {
        "tags": [],
        "cell_id": "0afe07621a134cc6804b9c4b8dea7785",
        "source_hash": "3aea3aee",
        "execution_start": 1671228300683,
        "execution_millis": 3103,
        "deepnote_to_be_reexecuted": false,
        "deepnote_cell_type": "code",
        "colab": {
          "base_uri": "https://localhost:8080/",
          "height": 1000
        },
        "id": "YUmi2HsfukKU",
        "outputId": "47534f03-2a2d-4b02-f375-c5ba13d3b855"
      },
      "outputs": [
        {
          "output_type": "stream",
          "name": "stdout",
          "text": [
            "Cluster 1 - KNN (k=50) for ANOVA F-value:\n",
            "              precision    recall  f1-score   support\n",
            "\n",
            "           0       0.68      0.63      0.66      1430\n",
            "           1       0.62      0.67      0.65      1294\n",
            "\n",
            "    accuracy                           0.65      2724\n",
            "   macro avg       0.65      0.65      0.65      2724\n",
            "weighted avg       0.65      0.65      0.65      2724\n",
            "\n",
            "Confusion Matrix:\n",
            "[[905 525]\n",
            " [423 871]]\n",
            "\n",
            "\n",
            "Cluster 2 - KNN (k=50) for ANOVA F-value:\n",
            "              precision    recall  f1-score   support\n",
            "\n",
            "           0       0.61      0.44      0.51      1111\n",
            "           1       0.66      0.80      0.72      1534\n",
            "\n",
            "    accuracy                           0.65      2645\n",
            "   macro avg       0.64      0.62      0.62      2645\n",
            "weighted avg       0.64      0.65      0.64      2645\n",
            "\n",
            "Confusion Matrix:\n",
            "[[ 489  622]\n",
            " [ 309 1225]]\n",
            "\n",
            "\n",
            "Cluster 3 - KNN (k=50) for ANOVA F-value:\n",
            "              precision    recall  f1-score   support\n",
            "\n",
            "           0       0.55      0.34      0.42      1199\n",
            "           1       0.71      0.85      0.77      2239\n",
            "\n",
            "    accuracy                           0.67      3438\n",
            "   macro avg       0.63      0.60      0.60      3438\n",
            "weighted avg       0.65      0.67      0.65      3438\n",
            "\n",
            "Confusion Matrix:\n",
            "[[ 411  788]\n",
            " [ 335 1904]]\n",
            "\n",
            "\n",
            "Cluster 3 - KNN (k=50) for ANOVA F-value:\n",
            "              precision    recall  f1-score   support\n",
            "\n",
            "           0       0.64      0.85      0.73      1512\n",
            "           1       0.69      0.42      0.52      1221\n",
            "\n",
            "    accuracy                           0.66      2733\n",
            "   macro avg       0.67      0.63      0.63      2733\n",
            "weighted avg       0.66      0.66      0.64      2733\n",
            "\n",
            "Confusion Matrix:\n",
            "[[1281  231]\n",
            " [ 708  513]]\n",
            "\n",
            "\n"
          ]
        },
        {
          "output_type": "execute_result",
          "data": {
            "text/plain": [
              "'\\nfor k in [5, 10, 15, 20, 30, 40, 50]:\\n    knn_news_model(\"Cluster 2\", k, y2.values, X2, fval_best_features2)\\nfor k in [5, 10, 15, 20, 30, 40, 50]:\\n    knn_news_model(\"Cluster 3\", k, y3.values, X3, fval_best_features3)\\nfor k in [5, 10, 15, 20, 30, 40, 50]:\\n    knn_news_model(\"Cluster 4\", k, y4.values, X4, fval_best_features4)\\n    \\n'"
            ],
            "application/vnd.google.colaboratory.intrinsic+json": {
              "type": "string"
            }
          },
          "metadata": {},
          "execution_count": 78
        }
      ],
      "execution_count": null
    },
    {
      "cell_type": "markdown",
      "source": [
        "Mutual Information"
      ],
      "metadata": {
        "tags": [],
        "cell_id": "3ad93f3c4bfd47fe90fdce5138622ed2",
        "is_collapsed": false,
        "formattedRanges": [
          {
            "type": "marks",
            "marks": {
              "bold": true
            },
            "toCodePoint": 18,
            "fromCodePoint": 0
          }
        ],
        "deepnote_cell_type": "text-cell-p",
        "id": "Mg94iwWVukKV"
      }
    },
    {
      "cell_type": "code",
      "source": [
        "def knn_news_model(name: str, k, target_labels, X, mi_best_features):\n",
        "    #LR for cluster 1\n",
        "    labelEn = LabelEncoder()\n",
        "    target_labels = labelEn.fit_transform(target_labels)\n",
        "\n",
        "    unused_features = list(set(X.columns.values) - set(mi_best_features[:,1]))\n",
        "    data_cluster_fval = X.drop(unused_features, axis=1, inplace=False)\n",
        "\n",
        "    X_train, X_test, y_train, y_test = train_test_split(data_cluster_fval, target_labels, test_size=0.3, shuffle=False)\n",
        "\n",
        "    knn = KNeighborsClassifier(n_neighbors=k).fit(X_train, y_train)\n",
        "    y_pred = knn.predict(X_test)\n",
        "\n",
        "    print(f\"{name} - KNN (k={k})for ANOVA F-value:\")\n",
        "    print(classification_report(y_test, y_pred))\n",
        "    print(\"Confusion Matrix:\")\n",
        "    print(confusion_matrix(y_test, y_pred))\n",
        "    print(\"\\n\")\n",
        "\n",
        "\n",
        "for k in [5, 10, 15, 20, 30, 40, 50]:\n",
        "    knn_news_model(\"Cluster 1\", k, y1.values, X1, mi_best_features1)\n",
        "for k in [5, 10, 15, 20, 30, 40, 50]:\n",
        "    knn_news_model(\"Cluster 2\", k, y2.values, X2, mi_best_features2)\n",
        "for k in [5, 10, 15, 20, 30, 40, 50]:\n",
        "    knn_news_model(\"Cluster 3\", k, y3.values, X3, mi_best_features3)\n",
        "for k in [5, 10, 15, 20, 30, 40, 50]:\n",
        "    knn_news_model(\"Cluster 4\", k, y4.values, X4, mi_best_features4)"
      ],
      "metadata": {
        "tags": [],
        "cell_id": "5482f8fd0657499ab2a00114ecb0e30a",
        "source_hash": "ce742397",
        "execution_start": 1671225671261,
        "execution_millis": 19626,
        "deepnote_to_be_reexecuted": false,
        "deepnote_cell_type": "code",
        "colab": {
          "base_uri": "https://localhost:8080/"
        },
        "id": "xRLAWPIQukKV",
        "outputId": "b43eafe3-94b7-408b-c3a8-bef6c10cbb33"
      },
      "outputs": [
        {
          "output_type": "stream",
          "name": "stdout",
          "text": [
            "Cluster 1 - KNN (k=5)for ANOVA F-value:\n",
            "              precision    recall  f1-score   support\n",
            "\n",
            "           0       0.61      0.62      0.62      1430\n",
            "           1       0.57      0.57      0.57      1294\n",
            "\n",
            "    accuracy                           0.59      2724\n",
            "   macro avg       0.59      0.59      0.59      2724\n",
            "weighted avg       0.59      0.59      0.59      2724\n",
            "\n",
            "Confusion Matrix:\n",
            "[[886 544]\n",
            " [562 732]]\n",
            "\n",
            "\n",
            "Cluster 1 - KNN (k=10)for ANOVA F-value:\n",
            "              precision    recall  f1-score   support\n",
            "\n",
            "           0       0.61      0.72      0.66      1430\n",
            "           1       0.61      0.49      0.54      1294\n",
            "\n",
            "    accuracy                           0.61      2724\n",
            "   macro avg       0.61      0.60      0.60      2724\n",
            "weighted avg       0.61      0.61      0.60      2724\n",
            "\n",
            "Confusion Matrix:\n",
            "[[1025  405]\n",
            " [ 665  629]]\n",
            "\n",
            "\n",
            "Cluster 1 - KNN (k=15)for ANOVA F-value:\n",
            "              precision    recall  f1-score   support\n",
            "\n",
            "           0       0.64      0.65      0.64      1430\n",
            "           1       0.60      0.59      0.60      1294\n",
            "\n",
            "    accuracy                           0.62      2724\n",
            "   macro avg       0.62      0.62      0.62      2724\n",
            "weighted avg       0.62      0.62      0.62      2724\n",
            "\n",
            "Confusion Matrix:\n",
            "[[925 505]\n",
            " [531 763]]\n",
            "\n",
            "\n",
            "Cluster 1 - KNN (k=20)for ANOVA F-value:\n",
            "              precision    recall  f1-score   support\n",
            "\n",
            "           0       0.63      0.70      0.66      1430\n",
            "           1       0.62      0.54      0.58      1294\n",
            "\n",
            "    accuracy                           0.62      2724\n",
            "   macro avg       0.62      0.62      0.62      2724\n",
            "weighted avg       0.62      0.62      0.62      2724\n",
            "\n",
            "Confusion Matrix:\n",
            "[[996 434]\n",
            " [594 700]]\n",
            "\n",
            "\n",
            "Cluster 1 - KNN (k=30)for ANOVA F-value:\n",
            "              precision    recall  f1-score   support\n",
            "\n",
            "           0       0.63      0.67      0.65      1430\n",
            "           1       0.61      0.56      0.59      1294\n",
            "\n",
            "    accuracy                           0.62      2724\n",
            "   macro avg       0.62      0.62      0.62      2724\n",
            "weighted avg       0.62      0.62      0.62      2724\n",
            "\n",
            "Confusion Matrix:\n",
            "[[963 467]\n",
            " [563 731]]\n",
            "\n",
            "\n",
            "Cluster 1 - KNN (k=40)for ANOVA F-value:\n",
            "              precision    recall  f1-score   support\n",
            "\n",
            "           0       0.64      0.66      0.65      1430\n",
            "           1       0.61      0.59      0.60      1294\n",
            "\n",
            "    accuracy                           0.63      2724\n",
            "   macro avg       0.63      0.62      0.62      2724\n",
            "weighted avg       0.63      0.63      0.63      2724\n",
            "\n",
            "Confusion Matrix:\n",
            "[[949 481]\n",
            " [536 758]]\n",
            "\n",
            "\n",
            "Cluster 1 - KNN (k=50)for ANOVA F-value:\n",
            "              precision    recall  f1-score   support\n",
            "\n",
            "           0       0.65      0.67      0.66      1430\n",
            "           1       0.62      0.60      0.61      1294\n",
            "\n",
            "    accuracy                           0.63      2724\n",
            "   macro avg       0.63      0.63      0.63      2724\n",
            "weighted avg       0.63      0.63      0.63      2724\n",
            "\n",
            "Confusion Matrix:\n",
            "[[953 477]\n",
            " [522 772]]\n",
            "\n",
            "\n",
            "Cluster 2 - KNN (k=5)for ANOVA F-value:\n",
            "              precision    recall  f1-score   support\n",
            "\n",
            "           0       0.52      0.42      0.47      1111\n",
            "           1       0.63      0.71      0.67      1534\n",
            "\n",
            "    accuracy                           0.59      2645\n",
            "   macro avg       0.57      0.57      0.57      2645\n",
            "weighted avg       0.58      0.59      0.58      2645\n",
            "\n",
            "Confusion Matrix:\n",
            "[[ 471  640]\n",
            " [ 441 1093]]\n",
            "\n",
            "\n",
            "Cluster 2 - KNN (k=10)for ANOVA F-value:\n",
            "              precision    recall  f1-score   support\n",
            "\n",
            "           0       0.53      0.51      0.52      1111\n",
            "           1       0.65      0.67      0.66      1534\n",
            "\n",
            "    accuracy                           0.60      2645\n",
            "   macro avg       0.59      0.59      0.59      2645\n",
            "weighted avg       0.60      0.60      0.60      2645\n",
            "\n",
            "Confusion Matrix:\n",
            "[[ 566  545]\n",
            " [ 500 1034]]\n",
            "\n",
            "\n",
            "Cluster 2 - KNN (k=15)for ANOVA F-value:\n",
            "              precision    recall  f1-score   support\n",
            "\n",
            "           0       0.58      0.41      0.48      1111\n",
            "           1       0.65      0.78      0.71      1534\n",
            "\n",
            "    accuracy                           0.63      2645\n",
            "   macro avg       0.61      0.60      0.60      2645\n",
            "weighted avg       0.62      0.63      0.61      2645\n",
            "\n",
            "Confusion Matrix:\n",
            "[[ 457  654]\n",
            " [ 330 1204]]\n",
            "\n",
            "\n",
            "Cluster 2 - KNN (k=20)for ANOVA F-value:\n",
            "              precision    recall  f1-score   support\n",
            "\n",
            "           0       0.57      0.46      0.51      1111\n",
            "           1       0.66      0.75      0.70      1534\n",
            "\n",
            "    accuracy                           0.63      2645\n",
            "   macro avg       0.62      0.61      0.61      2645\n",
            "weighted avg       0.62      0.63      0.62      2645\n",
            "\n",
            "Confusion Matrix:\n",
            "[[ 509  602]\n",
            " [ 378 1156]]\n",
            "\n",
            "\n",
            "Cluster 2 - KNN (k=30)for ANOVA F-value:\n",
            "              precision    recall  f1-score   support\n",
            "\n",
            "           0       0.59      0.44      0.50      1111\n",
            "           1       0.66      0.78      0.71      1534\n",
            "\n",
            "    accuracy                           0.63      2645\n",
            "   macro avg       0.62      0.61      0.61      2645\n",
            "weighted avg       0.63      0.63      0.62      2645\n",
            "\n",
            "Confusion Matrix:\n",
            "[[ 490  621]\n",
            " [ 345 1189]]\n",
            "\n",
            "\n",
            "Cluster 2 - KNN (k=40)for ANOVA F-value:\n",
            "              precision    recall  f1-score   support\n",
            "\n",
            "           0       0.60      0.43      0.50      1111\n",
            "           1       0.66      0.79      0.72      1534\n",
            "\n",
            "    accuracy                           0.64      2645\n",
            "   macro avg       0.63      0.61      0.61      2645\n",
            "weighted avg       0.63      0.64      0.63      2645\n",
            "\n",
            "Confusion Matrix:\n",
            "[[ 482  629]\n",
            " [ 324 1210]]\n",
            "\n",
            "\n",
            "Cluster 2 - KNN (k=50)for ANOVA F-value:\n",
            "              precision    recall  f1-score   support\n",
            "\n",
            "           0       0.59      0.42      0.49      1111\n",
            "           1       0.65      0.79      0.72      1534\n",
            "\n",
            "    accuracy                           0.64      2645\n",
            "   macro avg       0.62      0.61      0.60      2645\n",
            "weighted avg       0.63      0.64      0.62      2645\n",
            "\n",
            "Confusion Matrix:\n",
            "[[ 466  645]\n",
            " [ 319 1215]]\n",
            "\n",
            "\n",
            "Cluster 3 - KNN (k=5)for ANOVA F-value:\n",
            "              precision    recall  f1-score   support\n",
            "\n",
            "           0       0.47      0.43      0.45      1199\n",
            "           1       0.71      0.74      0.72      2239\n",
            "\n",
            "    accuracy                           0.63      3438\n",
            "   macro avg       0.59      0.58      0.59      3438\n",
            "weighted avg       0.62      0.63      0.63      3438\n",
            "\n",
            "Confusion Matrix:\n",
            "[[ 515  684]\n",
            " [ 586 1653]]\n",
            "\n",
            "\n",
            "Cluster 3 - KNN (k=10)for ANOVA F-value:\n",
            "              precision    recall  f1-score   support\n",
            "\n",
            "           0       0.48      0.50      0.49      1199\n",
            "           1       0.72      0.71      0.72      2239\n",
            "\n",
            "    accuracy                           0.64      3438\n",
            "   macro avg       0.60      0.60      0.60      3438\n",
            "weighted avg       0.64      0.64      0.64      3438\n",
            "\n",
            "Confusion Matrix:\n",
            "[[ 595  604]\n",
            " [ 648 1591]]\n",
            "\n",
            "\n",
            "Cluster 3 - KNN (k=15)for ANOVA F-value:\n",
            "              precision    recall  f1-score   support\n",
            "\n",
            "           0       0.52      0.42      0.46      1199\n",
            "           1       0.72      0.79      0.75      2239\n",
            "\n",
            "    accuracy                           0.66      3438\n",
            "   macro avg       0.62      0.61      0.61      3438\n",
            "weighted avg       0.65      0.66      0.65      3438\n",
            "\n",
            "Confusion Matrix:\n",
            "[[ 501  698]\n",
            " [ 464 1775]]\n",
            "\n",
            "\n",
            "Cluster 3 - KNN (k=20)for ANOVA F-value:\n",
            "              precision    recall  f1-score   support\n",
            "\n",
            "           0       0.51      0.44      0.47      1199\n",
            "           1       0.72      0.77      0.75      2239\n",
            "\n",
            "    accuracy                           0.66      3438\n",
            "   macro avg       0.62      0.61      0.61      3438\n",
            "weighted avg       0.65      0.66      0.65      3438\n",
            "\n",
            "Confusion Matrix:\n",
            "[[ 530  669]\n",
            " [ 507 1732]]\n",
            "\n",
            "\n",
            "Cluster 3 - KNN (k=30)for ANOVA F-value:\n",
            "              precision    recall  f1-score   support\n",
            "\n",
            "           0       0.52      0.43      0.47      1199\n",
            "           1       0.72      0.79      0.75      2239\n",
            "\n",
            "    accuracy                           0.66      3438\n",
            "   macro avg       0.62      0.61      0.61      3438\n",
            "weighted avg       0.65      0.66      0.65      3438\n",
            "\n",
            "Confusion Matrix:\n",
            "[[ 512  687]\n",
            " [ 469 1770]]\n",
            "\n",
            "\n",
            "Cluster 3 - KNN (k=40)for ANOVA F-value:\n",
            "              precision    recall  f1-score   support\n",
            "\n",
            "           0       0.53      0.42      0.47      1199\n",
            "           1       0.72      0.80      0.76      2239\n",
            "\n",
            "    accuracy                           0.67      3438\n",
            "   macro avg       0.63      0.61      0.62      3438\n",
            "weighted avg       0.66      0.67      0.66      3438\n",
            "\n",
            "Confusion Matrix:\n",
            "[[ 509  690]\n",
            " [ 449 1790]]\n",
            "\n",
            "\n",
            "Cluster 3 - KNN (k=50)for ANOVA F-value:\n",
            "              precision    recall  f1-score   support\n",
            "\n",
            "           0       0.53      0.41      0.46      1199\n",
            "           1       0.72      0.80      0.76      2239\n",
            "\n",
            "    accuracy                           0.67      3438\n",
            "   macro avg       0.62      0.61      0.61      3438\n",
            "weighted avg       0.65      0.67      0.65      3438\n",
            "\n",
            "Confusion Matrix:\n",
            "[[ 491  708]\n",
            " [ 442 1797]]\n",
            "\n",
            "\n",
            "Cluster 4 - KNN (k=5)for ANOVA F-value:\n",
            "              precision    recall  f1-score   support\n",
            "\n",
            "           0       0.61      0.70      0.65      1512\n",
            "           1       0.55      0.45      0.50      1221\n",
            "\n",
            "    accuracy                           0.59      2733\n",
            "   macro avg       0.58      0.58      0.58      2733\n",
            "weighted avg       0.59      0.59      0.58      2733\n",
            "\n",
            "Confusion Matrix:\n",
            "[[1059  453]\n",
            " [ 666  555]]\n",
            "\n",
            "\n",
            "Cluster 4 - KNN (k=10)for ANOVA F-value:\n",
            "              precision    recall  f1-score   support\n",
            "\n",
            "           0       0.62      0.81      0.70      1512\n",
            "           1       0.62      0.38      0.47      1221\n",
            "\n",
            "    accuracy                           0.62      2733\n",
            "   macro avg       0.62      0.59      0.58      2733\n",
            "weighted avg       0.62      0.62      0.60      2733\n",
            "\n",
            "Confusion Matrix:\n",
            "[[1226  286]\n",
            " [ 762  459]]\n",
            "\n",
            "\n",
            "Cluster 4 - KNN (k=15)for ANOVA F-value:\n",
            "              precision    recall  f1-score   support\n",
            "\n",
            "           0       0.63      0.79      0.70      1512\n",
            "           1       0.62      0.43      0.51      1221\n",
            "\n",
            "    accuracy                           0.63      2733\n",
            "   macro avg       0.63      0.61      0.60      2733\n",
            "weighted avg       0.63      0.63      0.62      2733\n",
            "\n",
            "Confusion Matrix:\n",
            "[[1198  314]\n",
            " [ 700  521]]\n",
            "\n",
            "\n",
            "Cluster 4 - KNN (k=20)for ANOVA F-value:\n",
            "              precision    recall  f1-score   support\n",
            "\n",
            "           0       0.62      0.84      0.71      1512\n",
            "           1       0.65      0.36      0.46      1221\n",
            "\n",
            "    accuracy                           0.63      2733\n",
            "   macro avg       0.63      0.60      0.59      2733\n",
            "weighted avg       0.63      0.63      0.60      2733\n",
            "\n",
            "Confusion Matrix:\n",
            "[[1273  239]\n",
            " [ 784  437]]\n",
            "\n",
            "\n",
            "Cluster 4 - KNN (k=30)for ANOVA F-value:\n",
            "              precision    recall  f1-score   support\n",
            "\n",
            "           0       0.62      0.86      0.72      1512\n",
            "           1       0.66      0.34      0.45      1221\n",
            "\n",
            "    accuracy                           0.63      2733\n",
            "   macro avg       0.64      0.60      0.58      2733\n",
            "weighted avg       0.64      0.63      0.60      2733\n",
            "\n",
            "Confusion Matrix:\n",
            "[[1302  210]\n",
            " [ 805  416]]\n",
            "\n",
            "\n",
            "Cluster 4 - KNN (k=40)for ANOVA F-value:\n",
            "              precision    recall  f1-score   support\n",
            "\n",
            "           0       0.61      0.87      0.72      1512\n",
            "           1       0.67      0.32      0.43      1221\n",
            "\n",
            "    accuracy                           0.62      2733\n",
            "   macro avg       0.64      0.60      0.58      2733\n",
            "weighted avg       0.64      0.62      0.59      2733\n",
            "\n",
            "Confusion Matrix:\n",
            "[[1320  192]\n",
            " [ 833  388]]\n",
            "\n",
            "\n",
            "Cluster 4 - KNN (k=50)for ANOVA F-value:\n",
            "              precision    recall  f1-score   support\n",
            "\n",
            "           0       0.61      0.86      0.72      1512\n",
            "           1       0.66      0.33      0.44      1221\n",
            "\n",
            "    accuracy                           0.62      2733\n",
            "   macro avg       0.64      0.60      0.58      2733\n",
            "weighted avg       0.63      0.62      0.59      2733\n",
            "\n",
            "Confusion Matrix:\n",
            "[[1304  208]\n",
            " [ 820  401]]\n",
            "\n",
            "\n"
          ]
        }
      ],
      "execution_count": null
    },
    {
      "cell_type": "markdown",
      "source": [
        "### Decision Trees"
      ],
      "metadata": {
        "tags": [],
        "cell_id": "65a0e62d71c14909aa5a909782d643e3",
        "is_collapsed": false,
        "formattedRanges": [],
        "deepnote_cell_type": "text-cell-h3",
        "id": "ugRnvk0sukKV"
      }
    },
    {
      "cell_type": "code",
      "source": [
        "from sklearn.tree import DecisionTreeClassifier"
      ],
      "metadata": {
        "tags": [],
        "cell_id": "d1232ec149f04ef59f2bc83ee9087feb",
        "source_hash": "1f640c24",
        "execution_start": 1671225690897,
        "execution_millis": 3,
        "deepnote_to_be_reexecuted": false,
        "deepnote_cell_type": "code",
        "id": "jPbJAezbukKV"
      },
      "outputs": [],
      "execution_count": null
    },
    {
      "cell_type": "markdown",
      "source": [
        "ANOVA F-value"
      ],
      "metadata": {
        "tags": [],
        "cell_id": "73f1786576574eb79f292fbc904cf40d",
        "is_collapsed": false,
        "formattedRanges": [
          {
            "type": "marks",
            "marks": {
              "bold": true
            },
            "toCodePoint": 13,
            "fromCodePoint": 0
          }
        ],
        "deepnote_cell_type": "text-cell-p",
        "id": "9SdSmCF9ukKX"
      }
    },
    {
      "cell_type": "code",
      "source": [
        "def decision_tree_news_model(name: str, target_labels, X, fval_best_features):\n",
        "\n",
        "    labelEn = LabelEncoder()\n",
        "    target_labels = labelEn.fit_transform(target_labels)\n",
        "\n",
        "    unused_features = list(set(X.columns.values) - set(fval_best_features[:,1]))\n",
        "    data_cluster_fval = X.drop(unused_features, axis=1, inplace=False)\n",
        "\n",
        "    X_train_DT, X_test_DT, y_train_DT, y_test_DT = train_test_split(data_cluster_fval, target_labels, test_size=0.3, shuffle=False)\n",
        "\n",
        "    dt = DecisionTreeClassifier().fit(X_train_DT, y_train_DT)\n",
        "    y_pred_DT = dt.predict(X_test_DT)\n",
        "\n",
        "    print(f\"{name} - Decision Tree Results for MI:\")\n",
        "    print(classification_report(y_test_DT, y_pred_DT))\n",
        "    print(\"Confusion Matrix:\")\n",
        "    print(confusion_matrix(y_test_DT, y_pred_DT))\n",
        "    print(\"\\n\")\n",
        "    return Counter(y_pred_DT), accuracy_score(y_test_DT,y_pred_DT), precision_score(y_test_DT,y_pred_DT), recall_score(y_test_DT,y_pred_DT), f1_score(y_test_DT,y_pred_DT)\n",
        "\n",
        "dt1 = decision_tree_news_model(\"Cluster 1\", y1.values, X1, fval_best_features1)\n",
        "dt2 = decision_tree_news_model(\"Cluster 2\", y2.values, X2, fval_best_features2)\n",
        "dt3 = decision_tree_news_model(\"Cluster 3\", y3.values, X3, fval_best_features3)\n",
        "dt4 = decision_tree_news_model(\"Cluster 4\", y4.values, X4, fval_best_features4)\n"
      ],
      "metadata": {
        "tags": [],
        "cell_id": "a9e875ea317d4694b60a67be48513e35",
        "source_hash": "fb6f3d92",
        "execution_start": 1671228272439,
        "execution_millis": 905,
        "deepnote_to_be_reexecuted": false,
        "deepnote_cell_type": "code",
        "colab": {
          "base_uri": "https://localhost:8080/"
        },
        "id": "nWG46bFwukKY",
        "outputId": "2e364121-0c35-46a8-dbec-2e2522e1108a"
      },
      "outputs": [
        {
          "output_type": "stream",
          "name": "stdout",
          "text": [
            "Cluster 1 - Decision Tree Results for MI:\n",
            "              precision    recall  f1-score   support\n",
            "\n",
            "           0       0.59      0.58      0.59      1430\n",
            "           1       0.55      0.55      0.55      1294\n",
            "\n",
            "    accuracy                           0.57      2724\n",
            "   macro avg       0.57      0.57      0.57      2724\n",
            "weighted avg       0.57      0.57      0.57      2724\n",
            "\n",
            "Confusion Matrix:\n",
            "[[836 594]\n",
            " [582 712]]\n",
            "\n",
            "\n",
            "Cluster 2 - Decision Tree Results for MI:\n",
            "              precision    recall  f1-score   support\n",
            "\n",
            "           0       0.48      0.55      0.51      1111\n",
            "           1       0.64      0.57      0.60      1534\n",
            "\n",
            "    accuracy                           0.56      2645\n",
            "   macro avg       0.56      0.56      0.56      2645\n",
            "weighted avg       0.57      0.56      0.56      2645\n",
            "\n",
            "Confusion Matrix:\n",
            "[[613 498]\n",
            " [664 870]]\n",
            "\n",
            "\n",
            "Cluster 3 - Decision Tree Results for MI:\n",
            "              precision    recall  f1-score   support\n",
            "\n",
            "           0       0.40      0.44      0.42      1199\n",
            "           1       0.68      0.65      0.66      2239\n",
            "\n",
            "    accuracy                           0.58      3438\n",
            "   macro avg       0.54      0.55      0.54      3438\n",
            "weighted avg       0.59      0.58      0.58      3438\n",
            "\n",
            "Confusion Matrix:\n",
            "[[ 533  666]\n",
            " [ 793 1446]]\n",
            "\n",
            "\n",
            "Cluster 4 - Decision Tree Results for MI:\n",
            "              precision    recall  f1-score   support\n",
            "\n",
            "           0       0.60      0.64      0.62      1512\n",
            "           1       0.51      0.48      0.50      1221\n",
            "\n",
            "    accuracy                           0.57      2733\n",
            "   macro avg       0.56      0.56      0.56      2733\n",
            "weighted avg       0.56      0.57      0.56      2733\n",
            "\n",
            "Confusion Matrix:\n",
            "[[962 550]\n",
            " [638 583]]\n",
            "\n",
            "\n"
          ]
        }
      ],
      "execution_count": null
    },
    {
      "cell_type": "markdown",
      "source": [
        "Mutual Information"
      ],
      "metadata": {
        "tags": [],
        "cell_id": "022361bc70d2453d9a157aa46af4bb9a",
        "is_collapsed": false,
        "formattedRanges": [
          {
            "type": "marks",
            "marks": {
              "bold": true
            },
            "toCodePoint": 18,
            "fromCodePoint": 0
          }
        ],
        "deepnote_cell_type": "text-cell-p",
        "id": "DBpPfxNeukKY"
      }
    },
    {
      "cell_type": "code",
      "source": [
        "def decision_tree_news_model(name: str, target_labels, X, mi_best_features):\n",
        "\n",
        "    labelEn = LabelEncoder()\n",
        "    target_labels = labelEn.fit_transform(target_labels)\n",
        "\n",
        "    unused_features = list(set(X.columns.values) - set(mi_best_features[:,1]))\n",
        "    data_cluster_fval = X.drop(unused_features, axis=1, inplace=False)\n",
        "\n",
        "    X_train_DT, X_test_DT, y_train_DT, y_test_DT = train_test_split(data_cluster_fval, target_labels, test_size=0.3, shuffle=False)\n",
        "\n",
        "    dt = DecisionTreeClassifier().fit(X_train_DT, y_train_DT)\n",
        "    y_pred_DT = dt.predict(X_test_DT)\n",
        "\n",
        "    print(f\"{name} - Decision Tree Results for MI:\")\n",
        "    print(classification_report(y_test_DT, y_pred_DT))\n",
        "    print(\"Confusion Matrix:\")\n",
        "    print(confusion_matrix(y_test_DT, y_pred_DT))\n",
        "    print(\"\\n\")\n",
        "\n",
        "    return Counter(y_pred_DT)\n",
        "\n",
        "\n",
        "dt1 = decision_tree_news_model(\"Cluster 1\", y1.values, X1, mi_best_features1)\n",
        "dt2 = decision_tree_news_model(\"Cluster 2\", y2.values, X2, mi_best_features2)\n",
        "dt3 = decision_tree_news_model(\"Cluster 3\", y3.values, X3, mi_best_features3)\n",
        "dt4 = decision_tree_news_model(\"Cluster 4\", y4.values, X4, mi_best_features4)\n"
      ],
      "metadata": {
        "tags": [],
        "cell_id": "4fbdc6ed22cb49e08595203f6fe61860",
        "source_hash": "7eaf240a",
        "execution_start": 1671225692003,
        "execution_millis": 892,
        "deepnote_to_be_reexecuted": false,
        "deepnote_cell_type": "code",
        "colab": {
          "base_uri": "https://localhost:8080/"
        },
        "id": "XWHZ6h6cukKY",
        "outputId": "b9c7e413-3cc6-407b-de62-1c9121b4cf6d"
      },
      "outputs": [
        {
          "output_type": "stream",
          "name": "stdout",
          "text": [
            "Cluster 1 - Decision Tree Results for MI:\n",
            "              precision    recall  f1-score   support\n",
            "\n",
            "           0       0.60      0.59      0.59      1430\n",
            "           1       0.56      0.57      0.56      1294\n",
            "\n",
            "    accuracy                           0.58      2724\n",
            "   macro avg       0.58      0.58      0.58      2724\n",
            "weighted avg       0.58      0.58      0.58      2724\n",
            "\n",
            "Confusion Matrix:\n",
            "[[839 591]\n",
            " [552 742]]\n",
            "\n",
            "\n",
            "Cluster 2 - Decision Tree Results for MI:\n",
            "              precision    recall  f1-score   support\n",
            "\n",
            "           0       0.47      0.51      0.49      1111\n",
            "           1       0.62      0.58      0.60      1534\n",
            "\n",
            "    accuracy                           0.55      2645\n",
            "   macro avg       0.55      0.55      0.54      2645\n",
            "weighted avg       0.56      0.55      0.55      2645\n",
            "\n",
            "Confusion Matrix:\n",
            "[[567 544]\n",
            " [642 892]]\n",
            "\n",
            "\n",
            "Cluster 3 - Decision Tree Results for MI:\n",
            "              precision    recall  f1-score   support\n",
            "\n",
            "           0       0.41      0.48      0.44      1199\n",
            "           1       0.70      0.64      0.66      2239\n",
            "\n",
            "    accuracy                           0.58      3438\n",
            "   macro avg       0.55      0.56      0.55      3438\n",
            "weighted avg       0.60      0.58      0.59      3438\n",
            "\n",
            "Confusion Matrix:\n",
            "[[ 576  623]\n",
            " [ 815 1424]]\n",
            "\n",
            "\n",
            "Cluster 4 - Decision Tree Results for MI:\n",
            "              precision    recall  f1-score   support\n",
            "\n",
            "           0       0.60      0.61      0.60      1512\n",
            "           1       0.51      0.51      0.51      1221\n",
            "\n",
            "    accuracy                           0.56      2733\n",
            "   macro avg       0.56      0.56      0.56      2733\n",
            "weighted avg       0.56      0.56      0.56      2733\n",
            "\n",
            "Confusion Matrix:\n",
            "[[916 596]\n",
            " [601 620]]\n",
            "\n",
            "\n"
          ]
        }
      ],
      "execution_count": null
    },
    {
      "cell_type": "markdown",
      "source": [
        "### Random Forest"
      ],
      "metadata": {
        "tags": [],
        "cell_id": "6cfe7a3c62094d27ac6cab46b65f0541",
        "is_collapsed": false,
        "formattedRanges": [],
        "deepnote_cell_type": "text-cell-h3",
        "id": "6qEIoxegukKZ"
      }
    },
    {
      "cell_type": "code",
      "source": [
        "from sklearn.ensemble import RandomForestClassifier"
      ],
      "metadata": {
        "tags": [],
        "cell_id": "d625447dc6a54c0cbf764352ba9abdc9",
        "source_hash": "39ef4b5b",
        "execution_start": 1671225692930,
        "execution_millis": 6,
        "deepnote_to_be_reexecuted": false,
        "deepnote_cell_type": "code",
        "id": "FLAKKGekukKZ"
      },
      "outputs": [],
      "execution_count": null
    },
    {
      "cell_type": "markdown",
      "source": [
        "ANOVA f-value"
      ],
      "metadata": {
        "tags": [],
        "cell_id": "7e264d0ddd5049859fd263e60deedf8d",
        "is_collapsed": false,
        "formattedRanges": [
          {
            "type": "marks",
            "marks": {
              "bold": true
            },
            "toCodePoint": 13,
            "fromCodePoint": 0
          }
        ],
        "deepnote_cell_type": "text-cell-p",
        "id": "1BdheaequkKZ"
      }
    },
    {
      "cell_type": "code",
      "source": [
        "def random_forrest_news_model(name: str, target_labels, X, fval_best_features):\n",
        "\n",
        "    labelEn = LabelEncoder()\n",
        "    target_labels = labelEn.fit_transform(target_labels)\n",
        "\n",
        "    unused_features = list(set(X.columns.values) - set(fval_best_features[:,1]))\n",
        "    data_cluster_fval = X.drop(unused_features, axis=1, inplace=False)\n",
        "\n",
        "    X_train_RF, X_test_RF, y_train_RF, y_test_RF = train_test_split(data_cluster_fval, target_labels, test_size=0.3, shuffle=False)\n",
        "\n",
        "    rf = RandomForestClassifier().fit(X_train_RF, y_train_RF)\n",
        "    y_pred_RF = rf.predict(X_test_RF)\n",
        "\n",
        "    print(f\"{name} - Random Forrest for ANOVA F-values:\")\n",
        "    print(classification_report(y_test_RF, y_pred_RF))\n",
        "    print(\"Confusion Matrix:\")\n",
        "    print(confusion_matrix(y_test_RF, y_pred_RF))\n",
        "    print(\"\\n\")\n",
        "\n",
        "    return Counter(y_pred_RF), accuracy_score(y_test_RF,y_pred_RF), precision_score(y_test_RF,y_pred_RF), recall_score(y_test_RF,y_pred_RF), f1_score(y_test_RF,y_pred_RF)\n",
        "\n",
        "\n",
        "rf1 = random_forrest_news_model(\"Cluster 1\", y1.values, X1, fval_best_features1)\n",
        "rf2 = random_forrest_news_model(\"Cluster 2\", y2.values, X2, fval_best_features2)\n",
        "rf3 = random_forrest_news_model(\"Cluster 3\", y3.values, X3, fval_best_features3)\n",
        "rf4 = random_forrest_news_model(\"Cluster 4\", y4.values, X4, fval_best_features4)\n"
      ],
      "metadata": {
        "tags": [],
        "cell_id": "f6d9640adc9645559cab9ec1f9b843aa",
        "source_hash": "6e551e0e",
        "execution_start": 1671227001178,
        "execution_millis": 14997,
        "deepnote_to_be_reexecuted": false,
        "deepnote_cell_type": "code",
        "colab": {
          "base_uri": "https://localhost:8080/"
        },
        "id": "ti_ZMOlkukKZ",
        "outputId": "5ec55e0d-3a22-438b-bd83-805c8f3b93b4"
      },
      "outputs": [
        {
          "output_type": "stream",
          "name": "stdout",
          "text": [
            "Cluster 1 - Random Forrest for ANOVA F-values:\n",
            "              precision    recall  f1-score   support\n",
            "\n",
            "           0       0.66      0.67      0.66      1430\n",
            "           1       0.63      0.61      0.62      1294\n",
            "\n",
            "    accuracy                           0.64      2724\n",
            "   macro avg       0.64      0.64      0.64      2724\n",
            "weighted avg       0.64      0.64      0.64      2724\n",
            "\n",
            "Confusion Matrix:\n",
            "[[958 472]\n",
            " [499 795]]\n",
            "\n",
            "\n",
            "Cluster 2 - Random Forrest for ANOVA F-values:\n",
            "              precision    recall  f1-score   support\n",
            "\n",
            "           0       0.57      0.55      0.56      1111\n",
            "           1       0.68      0.70      0.69      1534\n",
            "\n",
            "    accuracy                           0.64      2645\n",
            "   macro avg       0.63      0.63      0.63      2645\n",
            "weighted avg       0.64      0.64      0.64      2645\n",
            "\n",
            "Confusion Matrix:\n",
            "[[ 614  497]\n",
            " [ 459 1075]]\n",
            "\n",
            "\n",
            "Cluster 3 - Random Forrest for ANOVA F-values:\n",
            "              precision    recall  f1-score   support\n",
            "\n",
            "           0       0.50      0.40      0.45      1199\n",
            "           1       0.71      0.78      0.75      2239\n",
            "\n",
            "    accuracy                           0.65      3438\n",
            "   macro avg       0.61      0.59      0.60      3438\n",
            "weighted avg       0.64      0.65      0.64      3438\n",
            "\n",
            "Confusion Matrix:\n",
            "[[ 484  715]\n",
            " [ 482 1757]]\n",
            "\n",
            "\n",
            "Cluster 4 - Random Forrest for ANOVA F-values:\n",
            "              precision    recall  f1-score   support\n",
            "\n",
            "           0       0.63      0.78      0.70      1512\n",
            "           1       0.62      0.44      0.52      1221\n",
            "\n",
            "    accuracy                           0.63      2733\n",
            "   macro avg       0.63      0.61      0.61      2733\n",
            "weighted avg       0.63      0.63      0.62      2733\n",
            "\n",
            "Confusion Matrix:\n",
            "[[1179  333]\n",
            " [ 680  541]]\n",
            "\n",
            "\n"
          ]
        }
      ],
      "execution_count": null
    },
    {
      "cell_type": "markdown",
      "source": [
        "Mutual Information"
      ],
      "metadata": {
        "tags": [],
        "cell_id": "9a2a73caff844d04ac17fed42683ce5a",
        "is_collapsed": false,
        "formattedRanges": [
          {
            "type": "marks",
            "marks": {
              "bold": true
            },
            "toCodePoint": 18,
            "fromCodePoint": 0
          }
        ],
        "deepnote_cell_type": "text-cell-p",
        "id": "1hRbx4Q1ukKa"
      }
    },
    {
      "cell_type": "code",
      "source": [
        "def random_forrest_news_model(name: str, target_labels, X, mi_best_features):\n",
        "\n",
        "    labelEn = LabelEncoder()\n",
        "    target_labels = labelEn.fit_transform(target_labels)\n",
        "\n",
        "    unused_features = list(set(X.columns.values) - set(mi_best_features[:,1]))\n",
        "    data_cluster_fval = X.drop(unused_features, axis=1, inplace=False)\n",
        "\n",
        "    X_train, X_test, y_train, y_test = train_test_split(data_cluster_fval, target_labels, test_size=0.3, shuffle=False)\n",
        "\n",
        "    rf = RandomForestClassifier().fit(X_train, y_train)\n",
        "    y_pred = rf.predict(X_test)\n",
        "\n",
        "    print(f\"{name} - Random Forrest Results for MI:\")\n",
        "    print(classification_report(y_test, y_pred))\n",
        "    print(\"Confusion Matrix:\")\n",
        "    print(confusion_matrix(y_test, y_pred))\n",
        "    print(\"\\n\")\n",
        "    print(f1_score(y_test,y_pred))\n",
        "\n",
        "    return Counter(y_pred)\n",
        "\n",
        "\n",
        "rf1 = random_forrest_news_model(\"Cluster 1\", y1.values, X1, mi_best_features1)\n",
        "rf2 = random_forrest_news_model(\"Cluster 2\", y2.values, X2, mi_best_features2)\n",
        "rf3 = random_forrest_news_model(\"Cluster 3\", y3.values, X3, mi_best_features3)\n",
        "rf4 = random_forrest_news_model(\"Cluster 4\", y4.values, X4, mi_best_features4)"
      ],
      "metadata": {
        "tags": [],
        "cell_id": "b3de19e7e8744f93b62ec5a8ec52835e",
        "source_hash": "f7a756d8",
        "execution_start": 1671225707690,
        "execution_millis": 20056,
        "deepnote_to_be_reexecuted": false,
        "deepnote_cell_type": "code",
        "colab": {
          "base_uri": "https://localhost:8080/"
        },
        "id": "Srl6SdFkukKd",
        "outputId": "fcbbc287-a764-49b0-debe-cd059979c53c"
      },
      "outputs": [
        {
          "output_type": "stream",
          "name": "stdout",
          "text": [
            "Cluster 1 - Random Forrest Results for MI:\n",
            "              precision    recall  f1-score   support\n",
            "\n",
            "           0       0.64      0.70      0.67      1430\n",
            "           1       0.63      0.56      0.59      1294\n",
            "\n",
            "    accuracy                           0.63      2724\n",
            "   macro avg       0.63      0.63      0.63      2724\n",
            "weighted avg       0.63      0.63      0.63      2724\n",
            "\n",
            "Confusion Matrix:\n",
            "[[1001  429]\n",
            " [ 567  727]]\n",
            "\n",
            "\n",
            "0.593469387755102\n",
            "Cluster 2 - Random Forrest Results for MI:\n",
            "              precision    recall  f1-score   support\n",
            "\n",
            "           0       0.58      0.49      0.53      1111\n",
            "           1       0.67      0.74      0.70      1534\n",
            "\n",
            "    accuracy                           0.63      2645\n",
            "   macro avg       0.62      0.61      0.62      2645\n",
            "weighted avg       0.63      0.63      0.63      2645\n",
            "\n",
            "Confusion Matrix:\n",
            "[[ 546  565]\n",
            " [ 402 1132]]\n",
            "\n",
            "\n",
            "0.7007118539151965\n",
            "Cluster 3 - Random Forrest Results for MI:\n",
            "              precision    recall  f1-score   support\n",
            "\n",
            "           0       0.50      0.47      0.48      1199\n",
            "           1       0.72      0.75      0.74      2239\n",
            "\n",
            "    accuracy                           0.65      3438\n",
            "   macro avg       0.61      0.61      0.61      3438\n",
            "weighted avg       0.65      0.65      0.65      3438\n",
            "\n",
            "Confusion Matrix:\n",
            "[[ 565  634]\n",
            " [ 568 1671]]\n",
            "\n",
            "\n",
            "0.735475352112676\n",
            "Cluster 4 - Random Forrest Results for MI:\n",
            "              precision    recall  f1-score   support\n",
            "\n",
            "           0       0.64      0.80      0.71      1512\n",
            "           1       0.64      0.43      0.51      1221\n",
            "\n",
            "    accuracy                           0.64      2733\n",
            "   macro avg       0.64      0.62      0.61      2733\n",
            "weighted avg       0.64      0.64      0.62      2733\n",
            "\n",
            "Confusion Matrix:\n",
            "[[1211  301]\n",
            " [ 696  525]]\n",
            "\n",
            "\n",
            "0.5129457743038592\n"
          ]
        }
      ],
      "execution_count": null
    },
    {
      "cell_type": "markdown",
      "source": [
        "### SVMs"
      ],
      "metadata": {
        "tags": [],
        "cell_id": "cd176767c71e4f418d3815bb919d6aef",
        "is_collapsed": false,
        "formattedRanges": [],
        "deepnote_cell_type": "text-cell-h3",
        "id": "Q1tCf0uZukKg"
      }
    },
    {
      "cell_type": "code",
      "source": [
        "from sklearn.svm import SVC"
      ],
      "metadata": {
        "tags": [],
        "cell_id": "5827317bcf2248cb9efa2c201f9ec4a5",
        "source_hash": "609127a2",
        "execution_start": 1671225727749,
        "execution_millis": 9,
        "deepnote_to_be_reexecuted": false,
        "deepnote_cell_type": "code",
        "id": "OqO-b2LfukKg"
      },
      "outputs": [],
      "execution_count": null
    },
    {
      "cell_type": "markdown",
      "source": [
        "ANOVA F-value"
      ],
      "metadata": {
        "tags": [],
        "cell_id": "7ed201d6de764ddbb27f340d22ceaa42",
        "is_collapsed": false,
        "formattedRanges": [
          {
            "type": "marks",
            "marks": {
              "bold": true
            },
            "toCodePoint": 13,
            "fromCodePoint": 0
          }
        ],
        "deepnote_cell_type": "text-cell-p",
        "id": "oUClO7OGukKj"
      }
    },
    {
      "cell_type": "code",
      "source": [
        "def svm_news_model(name: str, target_labels, X, fval_best_features):\n",
        "\n",
        "    labelEn = LabelEncoder()\n",
        "    target_labels = labelEn.fit_transform(target_labels)\n",
        "\n",
        "    unused_features = list(set(X.columns.values) - set(fval_best_features[:,1]))\n",
        "    data_cluster_fval = X.drop(unused_features, axis=1, inplace=False)\n",
        "\n",
        "    X_train_SV, X_test_SV, y_train_SV, y_test_SV = train_test_split(data_cluster_fval, target_labels, test_size=0.3, shuffle=False)\n",
        "\n",
        "    svm = SVC().fit(X_train_SV, y_train_SV)\n",
        "    y_pred_SV = svm.predict(X_test_SV)\n",
        "\n",
        "    print(f\"{name} - SVM for ANOVA F-values:\")\n",
        "    print(classification_report(y_test_SV, y_pred_SV))\n",
        "    print(\"Confusion Matrix:\")\n",
        "    print(confusion_matrix(y_test_SV, y_pred_SV))\n",
        "    print(\"\\n\")\n",
        "\n",
        "    return Counter(y_pred_SV), accuracy_score(y_test_SV,y_pred_SV), precision_score(y_test_SV,y_pred_SV), recall_score(y_test_SV,y_pred_SV), f1_score(y_test_SV,y_pred_SV)\n",
        "    \n",
        "\n",
        "svm1 = svm_news_model(\"Cluster 1\", y1.values, X1, fval_best_features1)\n",
        "svm2 = svm_news_model(\"Cluster 2\", y2.values, X2, fval_best_features2)\n",
        "svm3 = svm_news_model(\"Cluster 3\", y3.values, X3, fval_best_features3)\n",
        "svm4 = svm_news_model(\"Cluster 4\", y4.values, X4, fval_best_features4)\n"
      ],
      "metadata": {
        "tags": [],
        "cell_id": "e98c88430e3c4d91b157a496ad71e1bd",
        "source_hash": "8421cd38",
        "execution_start": 1671228232097,
        "execution_millis": 40324,
        "deepnote_to_be_reexecuted": false,
        "deepnote_cell_type": "code",
        "colab": {
          "base_uri": "https://localhost:8080/"
        },
        "id": "7FRe6qKCukKl",
        "outputId": "62b78ad1-63a9-424f-83fe-4369ee64d5db"
      },
      "outputs": [
        {
          "output_type": "stream",
          "name": "stdout",
          "text": [
            "Cluster 1 - SVM for ANOVA F-values:\n",
            "              precision    recall  f1-score   support\n",
            "\n",
            "           0       0.73      0.54      0.62      1430\n",
            "           1       0.61      0.78      0.68      1294\n",
            "\n",
            "    accuracy                           0.65      2724\n",
            "   macro avg       0.67      0.66      0.65      2724\n",
            "weighted avg       0.67      0.65      0.65      2724\n",
            "\n",
            "Confusion Matrix:\n",
            "[[ 778  652]\n",
            " [ 288 1006]]\n",
            "\n",
            "\n",
            "Cluster 2 - SVM for ANOVA F-values:\n",
            "              precision    recall  f1-score   support\n",
            "\n",
            "           0       0.62      0.49      0.55      1111\n",
            "           1       0.68      0.78      0.73      1534\n",
            "\n",
            "    accuracy                           0.66      2645\n",
            "   macro avg       0.65      0.64      0.64      2645\n",
            "weighted avg       0.65      0.66      0.65      2645\n",
            "\n",
            "Confusion Matrix:\n",
            "[[ 548  563]\n",
            " [ 340 1194]]\n",
            "\n",
            "\n",
            "Cluster 3 - SVM for ANOVA F-values:\n",
            "              precision    recall  f1-score   support\n",
            "\n",
            "           0       0.00      0.00      0.00      1199\n",
            "           1       0.65      1.00      0.79      2239\n",
            "\n",
            "    accuracy                           0.65      3438\n",
            "   macro avg       0.33      0.50      0.39      3438\n",
            "weighted avg       0.42      0.65      0.51      3438\n",
            "\n",
            "Confusion Matrix:\n",
            "[[   0 1199]\n",
            " [   1 2238]]\n",
            "\n",
            "\n",
            "Cluster 4 - SVM for ANOVA F-values:\n",
            "              precision    recall  f1-score   support\n",
            "\n",
            "           0       0.64      0.86      0.74      1512\n",
            "           1       0.70      0.41      0.52      1221\n",
            "\n",
            "    accuracy                           0.66      2733\n",
            "   macro avg       0.67      0.64      0.63      2733\n",
            "weighted avg       0.67      0.66      0.64      2733\n",
            "\n",
            "Confusion Matrix:\n",
            "[[1297  215]\n",
            " [ 715  506]]\n",
            "\n",
            "\n"
          ]
        }
      ],
      "execution_count": null
    },
    {
      "cell_type": "markdown",
      "source": [
        "Mutual Information"
      ],
      "metadata": {
        "tags": [],
        "cell_id": "277c5d8fae564d98866a89271ec4d555",
        "is_collapsed": false,
        "formattedRanges": [
          {
            "type": "marks",
            "marks": {
              "bold": true
            },
            "toCodePoint": 18,
            "fromCodePoint": 0
          }
        ],
        "deepnote_cell_type": "text-cell-p",
        "id": "3KqpzU8mukKm"
      }
    },
    {
      "cell_type": "code",
      "source": [
        "def svm_news_model(name: str, target_labels, X, mi_best_features):\n",
        "\n",
        "    labelEn = LabelEncoder()\n",
        "    target_labels = labelEn.fit_transform(target_labels)\n",
        "\n",
        "    unused_features = list(set(X.columns.values) - set(mi_best_features[:,1]))\n",
        "    data_cluster_fval = X.drop(unused_features, axis=1, inplace=False)\n",
        "\n",
        "    X_train, X_test, y_train, y_test = train_test_split(data_cluster_fval, target_labels, test_size=0.3, shuffle=False)\n",
        "\n",
        "    svm = SVC().fit(X_train, y_train)\n",
        "    y_pred = svm.predict(X_test)\n",
        "\n",
        "    print(f\"{name} - SVM for MI:\")\n",
        "    print(classification_report(y_test, y_pred))\n",
        "    print(\"Confusion Matrix:\")\n",
        "    print(confusion_matrix(y_test, y_pred))\n",
        "    print(\"\\n\")\n",
        "\n",
        "    return Counter(y_pred)\n",
        "\n",
        "\n",
        "svm1 = svm_news_model(\"Cluster 1\", y1.values, X1, mi_best_features1)\n",
        "svm2 = svm_news_model(\"Cluster 2\", y2.values, X2, mi_best_features2)\n",
        "svm3 = svm_news_model(\"Cluster 3\", y3.values, X3, mi_best_features3)\n",
        "svm4 = svm_news_model(\"Cluster 4\", y4.values, X4, mi_best_features4)"
      ],
      "metadata": {
        "tags": [],
        "cell_id": "fe20c21dc9b74fb09939d6e0558de619",
        "source_hash": "43c79363",
        "execution_start": 1671225768247,
        "execution_millis": 39443,
        "deepnote_to_be_reexecuted": false,
        "deepnote_cell_type": "code",
        "colab": {
          "base_uri": "https://localhost:8080/"
        },
        "id": "f3yEkoLoukKm",
        "outputId": "c30dcf06-6437-40ae-a719-468400d30d78"
      },
      "outputs": [
        {
          "output_type": "stream",
          "name": "stdout",
          "text": [
            "Cluster 1 - SVM for MI:\n",
            "              precision    recall  f1-score   support\n",
            "\n",
            "           0       0.66      0.55      0.60      1430\n",
            "           1       0.58      0.69      0.63      1294\n",
            "\n",
            "    accuracy                           0.62      2724\n",
            "   macro avg       0.62      0.62      0.62      2724\n",
            "weighted avg       0.62      0.62      0.61      2724\n",
            "\n",
            "Confusion Matrix:\n",
            "[[790 640]\n",
            " [407 887]]\n",
            "\n",
            "\n",
            "Cluster 2 - SVM for MI:\n",
            "              precision    recall  f1-score   support\n",
            "\n",
            "           0       0.62      0.42      0.50      1111\n",
            "           1       0.66      0.81      0.73      1534\n",
            "\n",
            "    accuracy                           0.65      2645\n",
            "   macro avg       0.64      0.62      0.62      2645\n",
            "weighted avg       0.64      0.65      0.63      2645\n",
            "\n",
            "Confusion Matrix:\n",
            "[[ 472  639]\n",
            " [ 288 1246]]\n",
            "\n",
            "\n",
            "Cluster 3 - SVM for MI:\n",
            "              precision    recall  f1-score   support\n",
            "\n",
            "           0       0.53      0.44      0.48      1199\n",
            "           1       0.72      0.79      0.75      2239\n",
            "\n",
            "    accuracy                           0.67      3438\n",
            "   macro avg       0.62      0.61      0.62      3438\n",
            "weighted avg       0.65      0.67      0.66      3438\n",
            "\n",
            "Confusion Matrix:\n",
            "[[ 526  673]\n",
            " [ 475 1764]]\n",
            "\n",
            "\n",
            "Cluster 4 - SVM for MI:\n",
            "              precision    recall  f1-score   support\n",
            "\n",
            "           0       0.59      0.96      0.73      1512\n",
            "           1       0.75      0.17      0.28      1221\n",
            "\n",
            "    accuracy                           0.60      2733\n",
            "   macro avg       0.67      0.56      0.50      2733\n",
            "weighted avg       0.66      0.60      0.53      2733\n",
            "\n",
            "Confusion Matrix:\n",
            "[[1444   68]\n",
            " [1012  209]]\n",
            "\n",
            "\n"
          ]
        }
      ],
      "execution_count": null
    },
    {
      "cell_type": "markdown",
      "source": [
        "## Outcomes"
      ],
      "metadata": {
        "tags": [],
        "cell_id": "b0a375214c024c5697e0a750f638e33c",
        "is_collapsed": false,
        "formattedRanges": [],
        "deepnote_cell_type": "text-cell-h2",
        "id": "OtG60PZRukKm"
      }
    },
    {
      "cell_type": "markdown",
      "source": [
        "We visualized graph which implements the metrics of mentioned classifiers."
      ],
      "metadata": {
        "tags": [],
        "cell_id": "e93c515ea38e4c0cba1ad3806bd875f8",
        "is_collapsed": false,
        "formattedRanges": [],
        "deepnote_cell_type": "text-cell-p",
        "id": "xOY6V9CBukKn"
      }
    },
    {
      "cell_type": "code",
      "source": [
        "labels = ['Accuracy', 'Precision', 'Recall', 'F1-Score']\n",
        "lr_metrics =[0.6705403834979663, 0.6869506423258959, 0.9071428571428571, 0.7818391689111196]\n",
        "kn_metrics =[0.674026728646136, 0.7078066914498141, 0.85, 0.7724137931034483]\n",
        "dt_metrics = [0.5790629575402635, 0.53125, 0.48770491803278687, 0.5085470085470086]\n",
        "rf_metrics = [ 0.6490412550842534, 0.7104404567699837, 0.7776785714285714, 0.742540494458652]\n",
        "sv_metrics = [0.6614202049780381,0.7040110650069157,0.41721311475409834,0.5239320638188367]\n",
        "x = np.arange(len(labels))  \n",
        "\n",
        "fig, ax = plt.subplots(figsize=(18,9))\n",
        "plt.bar(x, lr_metrics, width=0.2, label='LR',color='black')\n",
        "plt.bar(x+0.2,kn_metrics,  width=0.2, label='KNN',color='darkgrey')\n",
        "plt.bar(x+0.4, dt_metrics, width=0.2,label='DT',color='olive')\n",
        "plt.bar(x+0.6,rf_metrics,width=0.2, label='RF',color=\"wheat\")\n",
        "plt.bar(x+0.75,sv_metrics, width=0.2, label='SVM',color=\"darkgreen\")\n",
        "\n",
        "plt.ylabel('Scores',fontsize=15)\n",
        "plt.title(\"Comparasion of clusters metrics(highest ones)\",fontsize=15)\n",
        "plt.xticks(x, labels)\n",
        "plt.legend(fontsize=15)\n",
        "plt.show()\n"
      ],
      "metadata": {
        "tags": [],
        "cell_id": "eef6659de1ae4d609eba91e30184b663",
        "source_hash": "4ab2afe6",
        "execution_start": 1671228194101,
        "execution_millis": 879,
        "deepnote_to_be_reexecuted": false,
        "deepnote_cell_type": "code",
        "colab": {
          "base_uri": "https://localhost:8080/",
          "height": 555
        },
        "id": "RPf5N6dAukKn",
        "outputId": "a1e2f50e-9b7c-4be6-89c0-5d423be1b762"
      },
      "outputs": [
        {
          "output_type": "display_data",
          "data": {
            "text/plain": [
              "<Figure size 1296x648 with 1 Axes>"
            ],
            "image/png": "[encoded data removed]"
          },
          "metadata": {
            "needs_background": "light"
          }
        }
      ],
      "execution_count": null
    }
  ],
  "nbformat": 4,
  "nbformat_minor": 0,
  "metadata": {
    "deepnote": {},
    "orig_nbformat": 2,
    "deepnote_notebook_id": "9ef4e1f89ffc45299ffe4cd4e460ef4d",
    "deepnote_execution_queue": [],
    "colab": {
      "provenance": []
    },
    "language_info": {
      "name": "python"
    },
    "kernelspec": {
      "name": "python3",
      "display_name": "Python 3"
    },
    "gpuClass": "standard"
  }
}